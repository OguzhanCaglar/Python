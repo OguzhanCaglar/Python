{
 "cells": [
  {
   "cell_type": "code",
   "execution_count": 1,
   "metadata": {},
   "outputs": [
    {
     "name": "stdout",
     "output_type": "stream",
     "text": [
      "Lecture-14.ipynb\n"
     ]
    }
   ],
   "source": [
    "print(\"Lecture-14.ipynb\")"
   ]
  },
  {
   "cell_type": "markdown",
   "metadata": {},
   "source": [
    "### RASTGELE SAYILAR\n",
    "\n",
    "Rastgele sayılar üretmek için random isimli bir modül bulunmaktadır. randint --> belli bir aralıkta rastgele bir tamsayı geri döndürür.\n",
    "\n",
    "random.randint(a, b) --> [a, b] aralığında rastgele bir tamsayı geri döndürür.\n",
    "\n",
    "Rassal sayaç rastgele bir tohum (seed) değerden başlamaktadır. Dolayısıyla her çalıştırmada rastgele bir dizilim elde edilebilir."
   ]
  },
  {
   "cell_type": "code",
   "execution_count": 8,
   "metadata": {},
   "outputs": [
    {
     "data": {
      "text/plain": [
       "19"
      ]
     },
     "execution_count": 8,
     "metadata": {},
     "output_type": "execute_result"
    }
   ],
   "source": [
    "import random\n",
    "\n",
    "random.randint(10, 20)"
   ]
  },
  {
   "cell_type": "code",
   "execution_count": 9,
   "metadata": {},
   "outputs": [
    {
     "name": "stdout",
     "output_type": "stream",
     "text": [
      "74 17 86 95 25 63 15 87 79 46 "
     ]
    }
   ],
   "source": [
    "for i in range(10):\n",
    "    val = random.randint(0, 99)\n",
    "    print(val, end = ' ')"
   ]
  },
  {
   "cell_type": "code",
   "execution_count": 12,
   "metadata": {},
   "outputs": [
    {
     "name": "stdout",
     "output_type": "stream",
     "text": [
      "tura: 0.500039, yazı: 0.499961\n"
     ]
    }
   ],
   "source": [
    "# n kere yazı tura atarak yazı ve tura oranını belirlemeye çalışınız.\n",
    "import random\n",
    "\n",
    "def coin(n):\n",
    "    head = tail = 0\n",
    "    for i in range(n):\n",
    "        x = random.randint(0, 1)\n",
    "        if x == 0:\n",
    "            tail += 1\n",
    "        else:\n",
    "            head += 1\n",
    "    return head / n, tail / n\n",
    "\n",
    "head, tail = coin(1000000)\n",
    "print(f'tura: {head}, yazı: {tail}')"
   ]
  },
  {
   "cell_type": "code",
   "execution_count": 13,
   "metadata": {},
   "outputs": [
    {
     "name": "stdout",
     "output_type": "stream",
     "text": [
      "[97, 92, 45, 3, 53]\n"
     ]
    }
   ],
   "source": [
    "# getrand isimli bir fonksiyon yazınız. Bu fonksiyon a, b ve count isimli 3 tane parametreye sahiptir. İlk iki parametre rastgele\n",
    "# üretilecek olan tamsayılar için kapalı aralık belirtsin. Üçüncü parametre üretilecek rassal sayıların sayısını belirtir. \n",
    "# Fonksiyon tamsayılardan oluşan bir liste ile geri dönmeildir. Fonksiyonu randint kullanarak yazınız.\n",
    "\n",
    "import random\n",
    "\n",
    "def getrand(a, b, count):\n",
    "    l = []\n",
    "    for i in range(count):\n",
    "        val = random.randint(a, b)\n",
    "        l.append(val)\n",
    "    return l\n",
    "\n",
    "a = getrand(0, 99, 5)\n",
    "print(a)"
   ]
  },
  {
   "cell_type": "markdown",
   "metadata": {},
   "source": [
    "random.randrange(start, [stop, step])"
   ]
  },
  {
   "cell_type": "code",
   "execution_count": 15,
   "metadata": {},
   "outputs": [
    {
     "data": {
      "text/plain": [
       "74"
      ]
     },
     "execution_count": 15,
     "metadata": {},
     "output_type": "execute_result"
    }
   ],
   "source": [
    "random.randrange(100)"
   ]
  },
  {
   "cell_type": "code",
   "execution_count": 17,
   "metadata": {},
   "outputs": [
    {
     "data": {
      "text/plain": [
       "14"
      ]
     },
     "execution_count": 17,
     "metadata": {},
     "output_type": "execute_result"
    }
   ],
   "source": [
    "random.randrange(10, 20)"
   ]
  },
  {
   "cell_type": "code",
   "execution_count": 27,
   "metadata": {},
   "outputs": [
    {
     "data": {
      "text/plain": [
       "16"
      ]
     },
     "execution_count": 27,
     "metadata": {},
     "output_type": "execute_result"
    }
   ],
   "source": [
    "random.randrange(10, 20, 2)"
   ]
  },
  {
   "cell_type": "code",
   "execution_count": 28,
   "metadata": {},
   "outputs": [],
   "source": [
    "# choice indeski dolaşılabilir bir nesne alır. O nesne içerisindeki rastgele bir değer ile geri dönecek. Listeler, stringler, demetler\n",
    "# Kümeler ve sözlükler indeksli dolaşılabilecek bir nesne değil."
   ]
  },
  {
   "cell_type": "code",
   "execution_count": 31,
   "metadata": {},
   "outputs": [
    {
     "name": "stdout",
     "output_type": "stream",
     "text": [
      "Selami\n",
      "Ali\n",
      "Fatma\n"
     ]
    }
   ],
   "source": [
    "import random\n",
    "\n",
    "names = ['Ali', 'Veli', 'Selami', 'Ayşe', 'Fatma']\n",
    "for i in range(3):\n",
    "    val = random.choice(names)\n",
    "    print(val)"
   ]
  },
  {
   "cell_type": "code",
   "execution_count": 32,
   "metadata": {},
   "outputs": [
    {
     "data": {
      "text/plain": [
       "'a'"
      ]
     },
     "execution_count": 32,
     "metadata": {},
     "output_type": "execute_result"
    }
   ],
   "source": [
    "random.choice('istanbul')"
   ]
  },
  {
   "cell_type": "code",
   "execution_count": 33,
   "metadata": {},
   "outputs": [
    {
     "name": "stdout",
     "output_type": "stream",
     "text": [
      "u b i t u s i b b l "
     ]
    }
   ],
   "source": [
    "for i in range(10):\n",
    "    print(random.choice('istanbul'), end = ' ')"
   ]
  },
  {
   "cell_type": "code",
   "execution_count": 35,
   "metadata": {},
   "outputs": [
    {
     "name": "stdout",
     "output_type": "stream",
     "text": [
      "['Fatma', 'Fatma', 'Ali']\n"
     ]
    }
   ],
   "source": [
    "# random.choices(population, weights = None, *, cum_weights = None, k = 1)\n",
    "\n",
    "import random\n",
    "\n",
    "a = ['Ali', 'Veli', 'Selami', 'Ayşe', 'Fatma']\n",
    "\n",
    "val = random.choices(a, k=3)\n",
    "print(val)"
   ]
  },
  {
   "cell_type": "code",
   "execution_count": 36,
   "metadata": {},
   "outputs": [
    {
     "name": "stdout",
     "output_type": "stream",
     "text": [
      "['Veli', 'Fatma', 'Selami', 'Ali', 'Ayşe']\n"
     ]
    }
   ],
   "source": [
    "import random\n",
    "\n",
    "isimler = ['Ali', 'Veli', 'Selami', 'Ayşe', 'Fatma']\n",
    "random.shuffle(isimler)\n",
    "print(isimler)"
   ]
  },
  {
   "cell_type": "code",
   "execution_count": 37,
   "metadata": {},
   "outputs": [
    {
     "name": "stdout",
     "output_type": "stream",
     "text": [
      "[0, 1, 2, 3, 4, 5, 6, 7, 8, 9]\n",
      "[7, 3, 5, 0, 4, 8, 2, 9, 1, 6]\n"
     ]
    }
   ],
   "source": [
    "# shuffling --> Knuth, Fisher, Yaltes algoritmaları\n",
    "import random\n",
    "\n",
    "def myshuffle(sequence):\n",
    "    for i in range(len(sequence)):\n",
    "        k = random.randrange(len(sequence))\n",
    "        sequence[i], sequence[k] = sequence[k], sequence[i]\n",
    "\n",
    "a = list(range(10))\n",
    "print(a)\n",
    "myshuffle(a)\n",
    "print(a)"
   ]
  },
  {
   "cell_type": "code",
   "execution_count": 41,
   "metadata": {},
   "outputs": [
    {
     "name": "stdout",
     "output_type": "stream",
     "text": [
      "48 8 20 22 19 2 "
     ]
    }
   ],
   "source": [
    "# Randint fonksiyonunu kullanarak Sayısal Lotoda bir kolon veren ([1-49] arasında 6 sayı) get_column fonksiyonunu yazınız. \n",
    "# Fonksiyon parametre almayacak. Geri dönüş değeri ise 6 elemanı bir listedir. Elde edilen 6 sayı içerisinde aynı elemanlardan\n",
    "# olmaması gerekir. \n",
    "\n",
    "import random\n",
    "\n",
    "def get_column():\n",
    "    result = []\n",
    "    for i in range(6):\n",
    "        while True:\n",
    "            val = random.randint(1, 49)\n",
    "            if val not in result:\n",
    "                break\n",
    "        result.append(val)\n",
    "    return result\n",
    "\n",
    "col = get_column()\n",
    "for i in col:\n",
    "    print(i, end = ' ')"
   ]
  },
  {
   "cell_type": "code",
   "execution_count": 43,
   "metadata": {},
   "outputs": [
    {
     "data": {
      "text/plain": [
       "['selami', 'beyza', 'ayşe']"
      ]
     },
     "execution_count": 43,
     "metadata": {},
     "output_type": "execute_result"
    }
   ],
   "source": [
    "# sample --> choices fonksionun iadesiz versiyonu \n",
    "# random.sample(population, k)\n",
    "\n",
    "import random \n",
    "names = ['ali', 'veli', 'selami', 'ayşe', 'beyza']\n",
    "random.sample(names, 3)"
   ]
  },
  {
   "cell_type": "code",
   "execution_count": 46,
   "metadata": {},
   "outputs": [
    {
     "name": "stdout",
     "output_type": "stream",
     "text": [
      "[30, 32, 25, 20, 31, 17]\n"
     ]
    }
   ],
   "source": [
    "import random\n",
    "\n",
    "b = random.sample(range(1, 50), 6)\n",
    "print(b)"
   ]
  },
  {
   "cell_type": "code",
   "execution_count": 47,
   "metadata": {},
   "outputs": [
    {
     "name": "stdout",
     "output_type": "stream",
     "text": [
      "['Sinek-2', 'Maça-2', 'Karo-2', 'Kupa-2', 'Sinek-3', 'Maça-3', 'Karo-3', 'Kupa-3', 'Sinek-4', 'Maça-4', 'Karo-4', 'Kupa-4', 'Sinek-5', 'Maça-5', 'Karo-5', 'Kupa-5', 'Sinek-6', 'Maça-6', 'Karo-6', 'Kupa-6', 'Sinek-7', 'Maça-7', 'Karo-7', 'Kupa-7', 'Sinek-8', 'Maça-8', 'Karo-8', 'Kupa-8', 'Sinek-9', 'Maça-9', 'Karo-9', 'Kupa-9', 'Sinek-10', 'Maça-10', 'Karo-10', 'Kupa-10', 'Sinek-Vale', 'Maça-Vale', 'Karo-Vale', 'Kupa-Vale', 'Sinek-Kız', 'Maça-Kız', 'Karo-Kız', 'Kupa-Kız', 'Sinek-Papaz', 'Maça-Papaz', 'Karo-Papaz', 'Kupa-Papaz', 'Sinek-As', 'Maça-As', 'Karo-As', 'Kupa-As']\n",
      "['Sinek-4', 'Karo-9', 'Sinek-2', 'Sinek-7', 'Karo-Kız', 'Sinek-8', 'Kupa-Kız', 'Kupa-2', 'Kupa-4', 'Karo-8', 'Sinek-10', 'Maça-4', 'Sinek-As', 'Sinek-3', 'Kupa-Vale', 'Karo-2', 'Kupa-Papaz', 'Kupa-6', 'Kupa-8', 'Sinek-Papaz', 'Maça-Papaz', 'Maça-6', 'Karo-3', 'Karo-Papaz', 'Maça-Kız', 'Sinek-9', 'Maça-As', 'Kupa-10', 'Maça-3', 'Maça-8', 'Maça-10', 'Karo-5', 'Karo-4', 'Maça-9', 'Maça-2', 'Maça-7', 'Maça-Vale', 'Kupa-3', 'Sinek-5', 'Karo-As', 'Kupa-As', 'Kupa-5', 'Karo-10', 'Maça-5', 'Karo-6', 'Sinek-Vale', 'Sinek-6', 'Karo-Vale', 'Kupa-9', 'Kupa-7', 'Karo-7', 'Sinek-Kız']\n"
     ]
    }
   ],
   "source": [
    "# 52 kartı temsil eden string'lerden oluşan bir listeyi veren create_deck isimli bir fonkskiyon. Parametresi yoktur.\n",
    "# Geri dönüş değeri Sinek-2, 'Maça-2, Karo-2, Kupa-2, 'Sinek-As, Maça-As, Karo-As, Kupa-As biçiminde yazılardan oluşan bir liste.\n",
    "\n",
    "import random\n",
    "\n",
    "def create_deck():\n",
    "    types = ['Sinek', 'Maça', 'Karo', 'Kupa']\n",
    "    numbers = ('2', '3', '4', '5', '6', '7', '8', '9', '10', 'Vale', 'Kız', 'Papaz', 'As')\n",
    "\n",
    "    deck = []\n",
    "    for number in numbers:\n",
    "        for type in types:\n",
    "            deck.append(type + '-' + number)\n",
    "    \n",
    "    return deck\n",
    "\n",
    "deck = create_deck()\n",
    "print(deck)\n",
    "random.shuffle(deck)\n",
    "print(deck)"
   ]
  },
  {
   "cell_type": "code",
   "execution_count": 48,
   "metadata": {},
   "outputs": [
    {
     "name": "stdout",
     "output_type": "stream",
     "text": [
      "------------------\n",
      "  DESTE   \n",
      "------------------\n",
      "\n",
      "['Maça-Vale', 'Sinek-10', 'Karo-8', 'Kupa-Vale', 'Kupa-10', 'Maça-2', 'Kupa-4', 'Maça-As', 'Maça-7', 'Karo-9', 'Maça-3', 'Kupa-9', 'Maça-5', 'Karo-Vale', 'Sinek-6', 'Kupa-5', 'Karo-6', 'Kupa-As', 'Sinek-5', 'Sinek-As', 'Kupa-Papaz', 'Kupa-6', 'Karo-10', 'Maça-Papaz', 'Karo-7', 'Kupa-8', 'Sinek-2', 'Maça-8', 'Karo-As', 'Karo-4', 'Maça-4', 'Kupa-3', 'Sinek-4', 'Maça-9', 'Sinek-Vale', 'Sinek-Papaz', 'Maça-Kız', 'Sinek-Kız', 'Maça-6', 'Sinek-3', 'Karo-Kız', 'Karo-2', 'Kupa-7', 'Karo-5', 'Sinek-8', 'Karo-Papaz', 'Maça-10', 'Sinek-7', 'Kupa-Kız', 'Kupa-2', 'Karo-3', 'Sinek-9']\n",
      "\n",
      "Deste Dağıtılıyor\n",
      "\n",
      "['Maça-Vale', 'Kupa-10', 'Maça-7', 'Maça-5', 'Karo-6', 'Kupa-Papaz', 'Karo-7', 'Karo-As', 'Sinek-4', 'Maça-Kız', 'Karo-Kız', 'Sinek-8', 'Kupa-Kız']\n",
      "['Sinek-10', 'Maça-2', 'Karo-9', 'Karo-Vale', 'Kupa-As', 'Kupa-6', 'Kupa-8', 'Karo-4', 'Maça-9', 'Sinek-Kız', 'Karo-2', 'Karo-Papaz', 'Kupa-2']\n",
      "['Karo-8', 'Kupa-4', 'Maça-3', 'Sinek-6', 'Sinek-5', 'Karo-10', 'Sinek-2', 'Maça-4', 'Sinek-Vale', 'Maça-6', 'Kupa-7', 'Maça-10', 'Karo-3']\n",
      "['Kupa-Vale', 'Maça-As', 'Kupa-9', 'Kupa-5', 'Sinek-As', 'Maça-Papaz', 'Maça-8', 'Kupa-3', 'Sinek-Papaz', 'Sinek-3', 'Karo-5', 'Sinek-7', 'Sinek-9']\n"
     ]
    }
   ],
   "source": [
    "# create_deck fonksiyonu ile yaratılan bir desteyi dağıtan distribute_deck isimli fonksiyonu yazalım. 52 elemanlı kart listesini\n",
    "# parametre olarak alacak. geir dönüş değeri 4 elemanlı bir demet, demetin her elemanı 13 karttan oluşan bir lsite\n",
    "\n",
    "import random\n",
    "\n",
    "def create_deck():\n",
    "    types = ['Sinek', 'Maça', 'Karo', 'Kupa']\n",
    "    numbers = ('2', '3', '4', '5', '6', '7', '8', '9', '10', 'Vale', 'Kız', 'Papaz', 'As')\n",
    "\n",
    "    deck = []\n",
    "    for number in numbers:\n",
    "        for type in types:\n",
    "            deck.append(type + '-' + number)\n",
    "    \n",
    "    return deck\n",
    "\n",
    "def distribute_decks(deck):\n",
    "    cards = ([], [], [], [])\n",
    "\n",
    "    for i in range(len(deck)):\n",
    "        cards[i % 4].append(deck[i])\n",
    "\n",
    "    return cards\n",
    "\n",
    "\n",
    "deck = create_deck()\n",
    "random.shuffle(deck)\n",
    "print(\"------------------\")\n",
    "print(\"  DESTE   \")\n",
    "print(\"------------------\\n\")\n",
    "print(deck)\n",
    "\n",
    "print('\\nDeste Dağıtılıyor\\n')\n",
    "kuzey, dogu, guney, bati = distribute_decks(deck)\n",
    "print(kuzey)\n",
    "print(dogu)\n",
    "print(guney)\n",
    "print(bati)"
   ]
  },
  {
   "cell_type": "code",
   "execution_count": 49,
   "metadata": {},
   "outputs": [
    {
     "data": {
      "text/plain": [
       "0.2269953263224621"
      ]
     },
     "execution_count": 49,
     "metadata": {},
     "output_type": "execute_result"
    }
   ],
   "source": [
    "random.random()"
   ]
  },
  {
   "cell_type": "code",
   "execution_count": 50,
   "metadata": {},
   "outputs": [
    {
     "data": {
      "text/plain": [
       "0.5943109254090948"
      ]
     },
     "execution_count": 50,
     "metadata": {},
     "output_type": "execute_result"
    }
   ],
   "source": [
    "random.random()"
   ]
  },
  {
   "cell_type": "code",
   "execution_count": 53,
   "metadata": {},
   "outputs": [
    {
     "name": "stdout",
     "output_type": "stream",
     "text": [
      "3.14282\n"
     ]
    }
   ],
   "source": [
    "# Pi sayısını rassal sayı üreterek hesaplayan programı yazalım.\n",
    "\n",
    "import random\n",
    "import math\n",
    "\n",
    "def getpi(n):\n",
    "    count = 0\n",
    "    for i in range(n):\n",
    "        x = random.random()\n",
    "        y = random.random()\n",
    "        if math.sqrt(x ** 2 + y ** 2) < 1:\n",
    "            count += 1\n",
    "    \n",
    "    return 4 * count / n\n",
    "\n",
    "while True:\n",
    "    n = int(input('Bir sayı giriniz: '))\n",
    "    if n == 0:\n",
    "        break\n",
    "    pi = getpi(n)\n",
    "    print(pi)\n",
    "\n",
    "# monte carlo yöntemi"
   ]
  },
  {
   "cell_type": "code",
   "execution_count": 59,
   "metadata": {},
   "outputs": [
    {
     "name": "stdout",
     "output_type": "stream",
     "text": [
      "3.14132\n"
     ]
    }
   ],
   "source": [
    "import random\n",
    "import math\n",
    "\n",
    "count = 0\n",
    "for i in range(100000):\n",
    "    x = random.random()\n",
    "    y = random.random()\n",
    "    if math.sqrt(x ** 2 + y ** 2) < 1:\n",
    "        count += 1\n",
    "    \n",
    "result = 4 * count / 100000\n",
    "\n",
    "print(result)"
   ]
  },
  {
   "cell_type": "code",
   "execution_count": 61,
   "metadata": {},
   "outputs": [
    {
     "name": "stdout",
     "output_type": "stream",
     "text": [
      "3.1608\n",
      "7902 2098\n"
     ]
    }
   ],
   "source": [
    "import random\n",
    "import math\n",
    "a=0\n",
    "b=0\n",
    "for i in range(10000):\n",
    "    x=random.random()\n",
    "    y=random.random()\n",
    "    if math.sqrt((x*x)+(y*y))<1 :\n",
    "        a+=1\n",
    "    else:\n",
    "        b+=1\n",
    "        \n",
    "pi=4*a/(a+b)\n",
    "print(pi)\n",
    "print(a,b)"
   ]
  }
 ],
 "metadata": {
  "kernelspec": {
   "display_name": "base",
   "language": "python",
   "name": "python3"
  },
  "language_info": {
   "codemirror_mode": {
    "name": "ipython",
    "version": 3
   },
   "file_extension": ".py",
   "mimetype": "text/x-python",
   "name": "python",
   "nbconvert_exporter": "python",
   "pygments_lexer": "ipython3",
   "version": "3.8.16"
  }
 },
 "nbformat": 4,
 "nbformat_minor": 2
}
