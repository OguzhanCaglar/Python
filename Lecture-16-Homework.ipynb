{
 "cells": [
  {
   "cell_type": "markdown",
   "metadata": {},
   "source": [
    "### Soru 1: Sözlük Comprehensions ile Harf Frekansları\n",
    "\n",
    "**Amaç**: Bir metindeki her harfin kaç defa tekrar ettiğini hesaplayan bir sözlük oluşturmak.\n",
    "\n",
    "**Görev**: char_frequency(text) isimli bir fonksiyon yazın. Bu fonksiyon, verilen text içindeki her harfin frekansını hesaplayan bir sözlük comprehension kullanmalıdır.\n",
    "\n",
    "```python\n",
    "text = \"hello world\"\n",
    "frequency = char_frequency(text)\n",
    "# Olası çıktı: {'h': 1, 'e': 1, 'l': 3, 'o': 2, 'w': 1, 'r': 1, 'd': 1}\n",
    "```"
   ]
  },
  {
   "cell_type": "markdown",
   "metadata": {},
   "source": [
    "### Soru 2: Küme Comprehensions ile Tekrarlı Olmayan Sayılar\n",
    "\n",
    "**Amaç**: Bir sayı listesinden sadece tekrarlı olmayan sayıları içeren bir küme oluşturmak.\n",
    "\n",
    "**Görev**: unique_numbers(numbers) isimli bir fonksiyon yazın. Bu fonksiyon, verilen numbers listesinden sadece tekrarlı olmayan sayıları içeren bir küme comprehension kullanarak bir küme döndürmelidir.\n",
    "\n",
    "```python\n",
    "numbers = [1, 2, 2, 3, 4, 4, 5, 6, 6, 7]\n",
    "unique_set = unique_numbers(numbers)\n",
    "# Olası çıktı: {1, 3, 5, 7}\n",
    "```"
   ]
  },
  {
   "cell_type": "markdown",
   "metadata": {},
   "source": [
    "### Soru 3: Sözlük Comprehensions ile Ters Harf Frekansları\n",
    "\n",
    "**Amaç**: Bir metindeki her harfin frekansını, frekansın anahtar olduğu ve harfin değer olduğu bir sözlük ile tersine çevirmek.\n",
    "\n",
    "**Görev**: reverse_frequency(text) isimli bir fonksiyon yazın. Bu fonksiyon, char_frequency(text) fonksiyonunun çıktısını tersine çeviren bir sözlük comprehension kullanarak bir sözlük döndürmelidir.\n",
    "\n",
    "```python\n",
    "text = \"hello world\"\n",
    "reversed_freq = reverse_frequency(text)\n",
    "# Olası çıktı: {1: ['h', 'e', 'w', 'r', 'd'], 3: ['l'], 2: ['o']}\n",
    "```"
   ]
  },
  {
   "cell_type": "markdown",
   "metadata": {},
   "source": [
    "### Soru 4: Liste Comprehensions ile Asal Sayılar Matriksi\n",
    "\n",
    "*Amaç*: 2 boyutlu bir matriks içinde asal sayıları bulmak ve asal olmayan sayıları 0 ile değiştirmek.\n",
    "\n",
    "*Görev*: prime_matrix(matrix) isimli bir fonksiyon yazın. Bu fonksiyon, verilen 2D liste matrix içindeki asal sayıları aynı bırakırken, asal olmayan sayıları 0 ile değiştiren bir liste comprehension kullanarak yeni bir matriks döndürmelidir.\n",
    "\n",
    "```python\n",
    "matrix = [\n",
    "    [4, 7, 12],\n",
    "    [5, 6, 11],\n",
    "    [8, 13, 15]\n",
    "]\n",
    "\n",
    "primes_matrix = prime_matrix(matrix)\n",
    "# Olası çıktı: [[0, 7, 0], [5, 0, 11], [0, 13, 0]]\n",
    "\n",
    "```"
   ]
  },
  {
   "cell_type": "markdown",
   "metadata": {},
   "source": [
    "### Soru 5: Sözlük Comprehensions ile Karmaşık Veri Yapısı Filtreleme\n",
    "\n",
    "*Amaç*:  Bir sözlük içindeki verileri belirli bir kritere göre filtrelemek ve yeniden yapılandırmak.\n",
    "\n",
    "*Görev*: filter_data(data, threshold) isimli bir fonksiyon yazın. Bu fonksiyon, verilen data adlı sözlükteki alt sözlüklerde yer alan \"value\" anahtarına sahip değerleri threshold'den büyük olanları tutan ve geri kalanlarını filtreleyen bir sözlük comprehension kullanarak yeni bir sözlük döndürmelidir.\n",
    "\n",
    "```python\n",
    "data = {\n",
    "    'item1': {'value': 100, 'description': 'High quality'},\n",
    "    'item2': {'value': 50, 'description': 'Low quality'},\n",
    "    'item3': {'value': 200, 'description': 'Premium quality'},\n",
    "}\n",
    "\n",
    "filtered_data = filter_data(data, 75)\n",
    "# Olası çıktı: {'item1': {'value': 100, 'description': 'High quality'}, 'item3': {'value': 200, 'description': 'Premium quality'}}\n",
    "\n",
    "```"
   ]
  },
  {
   "cell_type": "markdown",
   "metadata": {},
   "source": []
  }
 ],
 "metadata": {
  "language_info": {
   "name": "python"
  }
 },
 "nbformat": 4,
 "nbformat_minor": 2
}
