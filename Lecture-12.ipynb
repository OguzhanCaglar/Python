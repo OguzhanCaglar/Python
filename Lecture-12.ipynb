{
 "cells": [
  {
   "cell_type": "code",
   "execution_count": 1,
   "metadata": {},
   "outputs": [
    {
     "name": "stdout",
     "output_type": "stream",
     "text": [
      "Lecture-12\n"
     ]
    }
   ],
   "source": [
    "print('Lecture-12')"
   ]
  },
  {
   "cell_type": "markdown",
   "metadata": {},
   "source": [
    "** --> Bu parametre, olmayan bir parametrenin argüman olarak isimli bir biçimde kullanılmasını sağlar. Herhangi bir parametreye karşılık\n",
    "gelmeyen isimli biçimde kullanılmış tüm argümanlar yorumlayıcı tarafından bir sözlük nesnesi oluşturularak onun içerisine yerleştirilir.\n",
    "Bu sözlük nesnesi ** ile belirtilen parametreye geçirilir. "
   ]
  },
  {
   "cell_type": "code",
   "execution_count": 2,
   "metadata": {},
   "outputs": [],
   "source": [
    "def foo(a, b, **c):\n",
    "    print(\"a = {}, b = {}, c = {}\".format(a, b, c))\n",
    "\n"
   ]
  },
  {
   "cell_type": "code",
   "execution_count": 3,
   "metadata": {},
   "outputs": [
    {
     "name": "stdout",
     "output_type": "stream",
     "text": [
      "a = 20, b = 10, c = {'xx': 30, 'yy': 40}\n"
     ]
    }
   ],
   "source": [
    "foo(b = 10, a= 20, xx = 30, yy = 40)"
   ]
  },
  {
   "cell_type": "code",
   "execution_count": 4,
   "metadata": {},
   "outputs": [
    {
     "name": "stdout",
     "output_type": "stream",
     "text": [
      "a = 20, b = 10, c = {'xx': 30, 'yy': 40}\n"
     ]
    }
   ],
   "source": [
    "foo(xx = 30, b = 10, a = 20, yy = 40)"
   ]
  },
  {
   "cell_type": "code",
   "execution_count": 5,
   "metadata": {},
   "outputs": [],
   "source": [
    "def foo(a, b, **c):\n",
    "    print(\"a = {}, b = {}, c = {}\".format(a, b, c))\n",
    "    for key, val in c.items():\n",
    "        print(\"{} --> {}\".format(key, val))"
   ]
  },
  {
   "cell_type": "code",
   "execution_count": 6,
   "metadata": {},
   "outputs": [
    {
     "name": "stdout",
     "output_type": "stream",
     "text": [
      "a = 10, b = 20, c = {'ali': 100, 'veli': 200, 'selami': 300}\n",
      "ali --> 100\n",
      "veli --> 200\n",
      "selami --> 300\n"
     ]
    }
   ],
   "source": [
    "foo(10, 20, ali=100, veli=200, selami=300)"
   ]
  },
  {
   "cell_type": "code",
   "execution_count": 7,
   "metadata": {},
   "outputs": [
    {
     "ename": "SyntaxError",
     "evalue": "expression cannot contain assignment, perhaps you meant \"==\"? (3559715421.py, line 1)",
     "output_type": "error",
     "traceback": [
      "\u001b[1;36m  Cell \u001b[1;32mIn[7], line 1\u001b[1;36m\u001b[0m\n\u001b[1;33m    foo(10, 20, 30='Ali')\u001b[0m\n\u001b[1;37m                ^\u001b[0m\n\u001b[1;31mSyntaxError\u001b[0m\u001b[1;31m:\u001b[0m expression cannot contain assignment, perhaps you meant \"==\"?\n"
     ]
    }
   ],
   "source": [
    "foo(10, 20, 30='Ali')"
   ]
  },
  {
   "cell_type": "code",
   "execution_count": 8,
   "metadata": {},
   "outputs": [
    {
     "name": "stdout",
     "output_type": "stream",
     "text": [
      "a = 20, b = 10, c = {}\n"
     ]
    }
   ],
   "source": [
    "foo(b=10, a=20)"
   ]
  },
  {
   "cell_type": "code",
   "execution_count": 9,
   "metadata": {},
   "outputs": [],
   "source": [
    "def foo(a, b, *c, d = 100, **e):\n",
    "    print('a = {}, b = {}, c = {}, d = {}, e = {}'.format(a, b, c, d, e))"
   ]
  },
  {
   "cell_type": "code",
   "execution_count": 10,
   "metadata": {},
   "outputs": [
    {
     "name": "stdout",
     "output_type": "stream",
     "text": [
      "a = 10, b = 20, c = (30, 40), d = 100, e = {'xx': 50, 'yy': 60}\n"
     ]
    }
   ],
   "source": [
    "foo(10, 20, 30, 40, xx = 50, yy = 60)"
   ]
  },
  {
   "cell_type": "code",
   "execution_count": 11,
   "metadata": {},
   "outputs": [
    {
     "name": "stdout",
     "output_type": "stream",
     "text": [
      "a = 10, b = 20, c = (), d = 100, e = {}\n"
     ]
    }
   ],
   "source": [
    "foo(10, 20)"
   ]
  },
  {
   "cell_type": "code",
   "execution_count": 12,
   "metadata": {},
   "outputs": [],
   "source": [
    "def printmsg(s, **d):\n",
    "    count = d.get('count')\n",
    "    if count == None:\n",
    "        count = 1\n",
    "    print(s * count)"
   ]
  },
  {
   "cell_type": "code",
   "execution_count": 13,
   "metadata": {},
   "outputs": [
    {
     "name": "stdout",
     "output_type": "stream",
     "text": [
      "ok\n"
     ]
    }
   ],
   "source": [
    "printmsg('ok')"
   ]
  },
  {
   "cell_type": "code",
   "execution_count": 14,
   "metadata": {},
   "outputs": [
    {
     "name": "stdout",
     "output_type": "stream",
     "text": [
      "okokok\n"
     ]
    }
   ],
   "source": [
    "printmsg('ok', count=3)"
   ]
  },
  {
   "cell_type": "markdown",
   "metadata": {},
   "source": [
    "'*' ve '**' parametreler için argüman girme zorunluğu yoktur. Peki fonksiyonun ** parametreleri nedne programcılar tarafından kullanılıyor? \n",
    "- Bazı fonksiyonların çok sayıda parametresi olabilmekteidr. Mesela foo isimli bir fonksiyonun a ve b parametreleri dışında 50 tane daha parametresi olduğunu düşünelim. Bu 50 parametreyi fonksiyon tanımlamasında tek tek belirtmek, sonra da bu parametrelerin değerlerini fonksiyon içerisinde ele almak oldukça zor. Bu nedenle ** parametreleri çok sayıda parametreye sahip fonksiyonların daha makul bir biçimde tanımlanıp çağrılmasını sağlamaktadır."
   ]
  },
  {
   "cell_type": "code",
   "execution_count": 15,
   "metadata": {},
   "outputs": [],
   "source": [
    "def foo(a, b, **kwargs):\n",
    "    pass"
   ]
  },
  {
   "cell_type": "code",
   "execution_count": 16,
   "metadata": {},
   "outputs": [],
   "source": [
    "def foo(a, b, **kwargs):\n",
    "    legal_args = ['width', 'height', 'color', 'spec']\n",
    "    for key in kwargs:\n",
    "        if key not in legal_args:\n",
    "            print('{} is invalid arguments!'.format(key))\n",
    "            return\n",
    "        \n",
    "    width = kwargs.get('width', 1)\n",
    "    height = kwargs.get('height', 1)\n",
    "    color = kwargs.get('color', 'red')\n",
    "    spec = kwargs.get('spec', 'default')\n",
    "\n",
    "    print(f'a = {a}, b = {b}, width = {width}, height = {height}, color = {color}, spec = {spec}')"
   ]
  },
  {
   "cell_type": "code",
   "execution_count": 17,
   "metadata": {},
   "outputs": [
    {
     "name": "stdout",
     "output_type": "stream",
     "text": [
      "a = 10, b = 20, width = 1, height = 1, color = red, spec = default\n"
     ]
    }
   ],
   "source": [
    "foo(10, 20)"
   ]
  },
  {
   "cell_type": "code",
   "execution_count": 18,
   "metadata": {},
   "outputs": [
    {
     "name": "stdout",
     "output_type": "stream",
     "text": [
      "a = 10, b = 20, width = 1, height = 1, color = blue, spec = x12\n"
     ]
    }
   ],
   "source": [
    "foo(10, 20, color='blue', spec='x12')"
   ]
  },
  {
   "cell_type": "code",
   "execution_count": 19,
   "metadata": {},
   "outputs": [
    {
     "name": "stdout",
     "output_type": "stream",
     "text": [
      "divider is invalid arguments!\n"
     ]
    }
   ],
   "source": [
    "foo(10, 20, divider=20)"
   ]
  },
  {
   "cell_type": "markdown",
   "metadata": {},
   "source": [
    "Fonksiyonun parametrelerini organize ederken hangi parametrelerin hangi sırada yazılması gerektiğine yönelik kuralların bazı ayrıntıları vardır:\n",
    "\n",
    "1) Eğer bir parametre değişkeni default değer almışsa * parametreye kadar onun sağındaki parametrelerin hepsinin default değer alması gerekir. Ancak * parametreden sonra defautl değer alan ve default değer almayan parametreler karışık sırada bulunabilirler.\n",
    "\n",
    "2) Fonksiyonda en fazla bir tane *'lı parametre ve en fazla bir tane '**'lı parametre bulunabilir. \n",
    "\n",
    "3) '**''lı parametre eğer varsa parametre listesinni en sonunda olmak zorundadır"
   ]
  },
  {
   "cell_type": "code",
   "execution_count": 20,
   "metadata": {},
   "outputs": [
    {
     "ename": "SyntaxError",
     "evalue": "non-default argument follows default argument (40000109.py, line 1)",
     "output_type": "error",
     "traceback": [
      "\u001b[1;36m  Cell \u001b[1;32mIn[20], line 1\u001b[1;36m\u001b[0m\n\u001b[1;33m    def foo(a, b = 10, c, *d):\u001b[0m\n\u001b[1;37m            ^\u001b[0m\n\u001b[1;31mSyntaxError\u001b[0m\u001b[1;31m:\u001b[0m non-default argument follows default argument\n"
     ]
    }
   ],
   "source": [
    "def foo(a, b = 10, c, *d):\n",
    "    pass"
   ]
  },
  {
   "cell_type": "code",
   "execution_count": 22,
   "metadata": {},
   "outputs": [],
   "source": [
    "def foo(a, b, *c, d = 100, e):\n",
    "    print(\"a = {}, b = {}, c = {}, d = {}, e = {}\".format(a,b,c,d,e))"
   ]
  },
  {
   "cell_type": "code",
   "execution_count": 23,
   "metadata": {},
   "outputs": [
    {
     "name": "stdout",
     "output_type": "stream",
     "text": [
      "a = 10, b = 20, c = (30, 40, 50), d = 100, e = 60\n"
     ]
    }
   ],
   "source": [
    "foo(10, 20, 30, 40, 50, e = 60)"
   ]
  },
  {
   "cell_type": "code",
   "execution_count": 26,
   "metadata": {},
   "outputs": [],
   "source": [
    "def foo(a, b = 10, c = 20, *d, e = 30, f, **g):\n",
    "    pass"
   ]
  },
  {
   "cell_type": "code",
   "execution_count": 27,
   "metadata": {},
   "outputs": [
    {
     "ename": "SyntaxError",
     "evalue": "invalid syntax (854035907.py, line 1)",
     "output_type": "error",
     "traceback": [
      "\u001b[1;36m  Cell \u001b[1;32mIn[27], line 1\u001b[1;36m\u001b[0m\n\u001b[1;33m    def foo(a, b = 10, c = 20, *d, e = 30, **f, g):\u001b[0m\n\u001b[1;37m                                                ^\u001b[0m\n\u001b[1;31mSyntaxError\u001b[0m\u001b[1;31m:\u001b[0m invalid syntax\n"
     ]
    }
   ],
   "source": [
    "def foo(a, b = 10, c = 20, *d, e = 30, **f, g):\n",
    "    pass"
   ]
  },
  {
   "cell_type": "markdown",
   "metadata": {},
   "source": [
    "## Fonksiyon Çağrılarında Tek yıldızlı ve Çift Yıldızlı Argümanlar\n",
    "\n",
    "foo(x, y, *z, **k) --> Buradaki * ve ** ters bir anlam ifade etmektedir.\n",
    "\n",
    "Argümanda * varsa bunun yanında dolaşılabilir bir nesnenin (demet, liste, sözlük, küme vs.) olması gerekir. Bu durumda parametredekilerin tam tersine bu dolaşılabilir nesnenin elemanları sıradaki parametre değişkenlerine tek tek dağıtılır. argümandaki * ile belirtilen dolaşlabilir nesnenin elemanları sanki argümanlarda ayrı ayrı yazılmış gibi bir durum söz konusu olur."
   ]
  },
  {
   "cell_type": "code",
   "execution_count": 28,
   "metadata": {},
   "outputs": [],
   "source": [
    "def foo(a, b, c, d, e):\n",
    "    print(\"a = {}, b = {}, c = {}, d = {}, e = {}\".format(a,b,c,d,e))"
   ]
  },
  {
   "cell_type": "code",
   "execution_count": 29,
   "metadata": {},
   "outputs": [
    {
     "name": "stdout",
     "output_type": "stream",
     "text": [
      "a = 10, b = 20, c = 30, d = 40, e = 50\n"
     ]
    }
   ],
   "source": [
    "t = (30 , 40)\n",
    "foo(10, 20, *t, 50)"
   ]
  },
  {
   "cell_type": "code",
   "execution_count": 30,
   "metadata": {},
   "outputs": [
    {
     "ename": "TypeError",
     "evalue": "foo() missing 1 required positional argument: 'e'",
     "output_type": "error",
     "traceback": [
      "\u001b[1;31m---------------------------------------------------------------------------\u001b[0m",
      "\u001b[1;31mTypeError\u001b[0m                                 Traceback (most recent call last)",
      "Cell \u001b[1;32mIn[30], line 1\u001b[0m\n\u001b[1;32m----> 1\u001b[0m \u001b[43mfoo\u001b[49m\u001b[43m(\u001b[49m\u001b[38;5;241;43m10\u001b[39;49m\u001b[43m,\u001b[49m\u001b[43m \u001b[49m\u001b[38;5;241;43m20\u001b[39;49m\u001b[43m,\u001b[49m\u001b[43m \u001b[49m\u001b[43mt\u001b[49m\u001b[43m,\u001b[49m\u001b[43m \u001b[49m\u001b[38;5;241;43m50\u001b[39;49m\u001b[43m)\u001b[49m\n",
      "\u001b[1;31mTypeError\u001b[0m: foo() missing 1 required positional argument: 'e'"
     ]
    }
   ],
   "source": [
    "foo(10, 20, t, 50)"
   ]
  },
  {
   "cell_type": "code",
   "execution_count": 32,
   "metadata": {},
   "outputs": [
    {
     "name": "stdout",
     "output_type": "stream",
     "text": [
      "a = 10, b = 20, c = 30, d = 40, e = 50\n"
     ]
    }
   ],
   "source": [
    "t = (30, 40, 50)\n",
    "foo(10, 20, *t)"
   ]
  },
  {
   "cell_type": "code",
   "execution_count": 33,
   "metadata": {},
   "outputs": [
    {
     "name": "stdout",
     "output_type": "stream",
     "text": [
      "a = 10, b = 20, c = 30, d = 40, e = 50\n"
     ]
    }
   ],
   "source": [
    "l = [30, 40]\n",
    "foo(10, 20, *l, 50)"
   ]
  },
  {
   "cell_type": "code",
   "execution_count": 34,
   "metadata": {},
   "outputs": [
    {
     "ename": "TypeError",
     "evalue": "foo() missing 1 required positional argument: 'e'",
     "output_type": "error",
     "traceback": [
      "\u001b[1;31m---------------------------------------------------------------------------\u001b[0m",
      "\u001b[1;31mTypeError\u001b[0m                                 Traceback (most recent call last)",
      "Cell \u001b[1;32mIn[34], line 1\u001b[0m\n\u001b[1;32m----> 1\u001b[0m \u001b[43mfoo\u001b[49m\u001b[43m(\u001b[49m\u001b[38;5;241;43m10\u001b[39;49m\u001b[43m,\u001b[49m\u001b[43m \u001b[49m\u001b[38;5;241;43m20\u001b[39;49m\u001b[43m,\u001b[49m\u001b[43m \u001b[49m\u001b[43m(\u001b[49m\u001b[38;5;241;43m30\u001b[39;49m\u001b[43m,\u001b[49m\u001b[43m \u001b[49m\u001b[38;5;241;43m40\u001b[39;49m\u001b[43m)\u001b[49m\u001b[43m,\u001b[49m\u001b[43m \u001b[49m\u001b[38;5;241;43m50\u001b[39;49m\u001b[43m)\u001b[49m\n",
      "\u001b[1;31mTypeError\u001b[0m: foo() missing 1 required positional argument: 'e'"
     ]
    }
   ],
   "source": [
    "foo(10, 20, (30, 40), 50)"
   ]
  },
  {
   "cell_type": "code",
   "execution_count": 35,
   "metadata": {},
   "outputs": [
    {
     "name": "stdout",
     "output_type": "stream",
     "text": [
      "a = 10, b = 20, c = 30, d = 40, e = 50\n"
     ]
    }
   ],
   "source": [
    "foo(10, 20, *(30, 40), 50)"
   ]
  },
  {
   "cell_type": "code",
   "execution_count": 36,
   "metadata": {},
   "outputs": [
    {
     "name": "stdout",
     "output_type": "stream",
     "text": [
      "a = 10, b = 20, c = 30, d = 40, e = 50\n"
     ]
    }
   ],
   "source": [
    "foo(10, 20, *[30, 40], 50)"
   ]
  },
  {
   "cell_type": "code",
   "execution_count": 37,
   "metadata": {},
   "outputs": [
    {
     "name": "stdout",
     "output_type": "stream",
     "text": [
      "a = 10, b = 20, c = (10, 20, 30, 40, 50)\n"
     ]
    }
   ],
   "source": [
    "def foo(a, b, *c):\n",
    "    print('a = {}, b = {}, c = {}'.format(a, b, c))\n",
    "\n",
    "l = [10, 20, 30, 40, 50]\n",
    "foo(10, 20, *l)"
   ]
  },
  {
   "cell_type": "code",
   "execution_count": 38,
   "metadata": {},
   "outputs": [
    {
     "name": "stdout",
     "output_type": "stream",
     "text": [
      "a = 10, b = 20, c = ([10, 20, 30, 40, 50],)\n"
     ]
    }
   ],
   "source": [
    "def foo(a, b, *c):\n",
    "    print('a = {}, b = {}, c = {}'.format(a, b, c))\n",
    "\n",
    "l = [10, 20, 30, 40, 50]\n",
    "foo(10, 20, l)"
   ]
  },
  {
   "cell_type": "code",
   "execution_count": 39,
   "metadata": {},
   "outputs": [],
   "source": [
    "def foo(a, b, c, *d):\n",
    "    print('a = {}, b = {}, c = {}, d= {}'.format(a, b, c, d))"
   ]
  },
  {
   "cell_type": "code",
   "execution_count": 40,
   "metadata": {},
   "outputs": [
    {
     "name": "stdout",
     "output_type": "stream",
     "text": [
      "a = 100, b = 0, c = 1, d= (2, 3, 4, 5, 6, 7, 8, 9)\n"
     ]
    }
   ],
   "source": [
    "foo(100, *range(10))"
   ]
  },
  {
   "cell_type": "code",
   "execution_count": 41,
   "metadata": {},
   "outputs": [
    {
     "name": "stdout",
     "output_type": "stream",
     "text": [
      "a = 100, b = 0, c = 1, d= (2, 3, 4, 5, 6, 7, 8, 9)\n"
     ]
    }
   ],
   "source": [
    "foo(100, 0, 1, 2, 3, 4, 5, 6, 7, 8, 9)"
   ]
  },
  {
   "cell_type": "code",
   "execution_count": 42,
   "metadata": {},
   "outputs": [
    {
     "name": "stdout",
     "output_type": "stream",
     "text": [
      "a = 100, b = a, c = n, d= ('k', 'a', 'r', 'a')\n"
     ]
    }
   ],
   "source": [
    "foo(100, *'ankara')"
   ]
  },
  {
   "cell_type": "code",
   "execution_count": 43,
   "metadata": {},
   "outputs": [
    {
     "name": "stdout",
     "output_type": "stream",
     "text": [
      "a = 100, b = a, c = n, d= ('k', 'a', 'r', 'a')\n"
     ]
    }
   ],
   "source": [
    "foo(100, 'a', 'n', 'k', 'a', 'r', 'a')"
   ]
  },
  {
   "cell_type": "code",
   "execution_count": 44,
   "metadata": {},
   "outputs": [],
   "source": [
    "def foo(a, b, c, d, e):\n",
    "    print(a, b, c, d, e)\n",
    "\n",
    "def bar(*a):\n",
    "    foo(*a)"
   ]
  },
  {
   "cell_type": "code",
   "execution_count": 46,
   "metadata": {},
   "outputs": [
    {
     "name": "stdout",
     "output_type": "stream",
     "text": [
      "10 20 30 40 50\n"
     ]
    }
   ],
   "source": [
    "l = [10 , 20 , 30 , 40 , 50]\n",
    "bar(*l)\n",
    "\n",
    "# Burada bar fonksiyonnudaki a parametresi bir tuple'dır. Foo fonksiyonu bu demetin elemanlarıyla çağırılmıştır."
   ]
  },
  {
   "cell_type": "code",
   "execution_count": 47,
   "metadata": {},
   "outputs": [],
   "source": [
    "def foo(*a):\n",
    "    print(a)\n",
    "    print(*a)"
   ]
  },
  {
   "cell_type": "code",
   "execution_count": 48,
   "metadata": {},
   "outputs": [
    {
     "name": "stdout",
     "output_type": "stream",
     "text": [
      "(10, 20, 30)\n",
      "10 20 30\n"
     ]
    }
   ],
   "source": [
    "foo(10, 20, 30)"
   ]
  },
  {
   "cell_type": "code",
   "execution_count": 49,
   "metadata": {},
   "outputs": [
    {
     "name": "stdout",
     "output_type": "stream",
     "text": [
      "('ankara',)\n",
      "ankara\n"
     ]
    }
   ],
   "source": [
    "foo('ankara')"
   ]
  },
  {
   "cell_type": "code",
   "execution_count": 50,
   "metadata": {},
   "outputs": [
    {
     "name": "stdout",
     "output_type": "stream",
     "text": [
      "ankara\n"
     ]
    }
   ],
   "source": [
    "print('ankara')"
   ]
  },
  {
   "cell_type": "code",
   "execution_count": 51,
   "metadata": {},
   "outputs": [
    {
     "name": "stdout",
     "output_type": "stream",
     "text": [
      "a n k a r a\n"
     ]
    }
   ],
   "source": [
    "print(*'ankara')"
   ]
  },
  {
   "cell_type": "code",
   "execution_count": 52,
   "metadata": {},
   "outputs": [],
   "source": [
    "def printrev(*a):\n",
    "    print(*reversed(a))"
   ]
  },
  {
   "cell_type": "code",
   "execution_count": 54,
   "metadata": {},
   "outputs": [
    {
     "name": "stdout",
     "output_type": "stream",
     "text": [
      "<reversed object at 0x000001747D05DB80>\n"
     ]
    }
   ],
   "source": [
    "printrev(10, 20, 30, 40, 50)"
   ]
  },
  {
   "cell_type": "code",
   "execution_count": 55,
   "metadata": {},
   "outputs": [],
   "source": [
    "def printrev(*a):\n",
    "    print(' '.join(reversed(a)))"
   ]
  },
  {
   "cell_type": "code",
   "execution_count": 56,
   "metadata": {},
   "outputs": [
    {
     "name": "stdout",
     "output_type": "stream",
     "text": [
      "Nasılsın Dünya Merhaba\n"
     ]
    }
   ],
   "source": [
    "printrev('Merhaba', 'Dünya', 'Nasılsın')"
   ]
  },
  {
   "cell_type": "code",
   "execution_count": 57,
   "metadata": {},
   "outputs": [
    {
     "name": "stdout",
     "output_type": "stream",
     "text": [
      "1 2 3\n",
      "4 5 6\n",
      "7 8 9\n"
     ]
    }
   ],
   "source": [
    "a = [[1, 2, 3], [4, 5, 6], [7,8, 9]]\n",
    "\n",
    "for b in a:\n",
    "    print(*b)"
   ]
  },
  {
   "cell_type": "code",
   "execution_count": 58,
   "metadata": {},
   "outputs": [
    {
     "name": "stdout",
     "output_type": "stream",
     "text": [
      "[10, 1, 2, 3, 20, 30]\n"
     ]
    }
   ],
   "source": [
    "a = [1, 2, 3]\n",
    "b = [10, *a, 20, 30]\n",
    "\n",
    "print(b)"
   ]
  },
  {
   "cell_type": "code",
   "execution_count": 59,
   "metadata": {},
   "outputs": [
    {
     "name": "stdout",
     "output_type": "stream",
     "text": [
      "[10, [1, 2, 3], 20, 30]\n"
     ]
    }
   ],
   "source": [
    "a = [1, 2, 3]\n",
    "b = [10, a, 20, 30]\n",
    "\n",
    "print(b)"
   ]
  },
  {
   "cell_type": "code",
   "execution_count": 60,
   "metadata": {},
   "outputs": [],
   "source": [
    "def foo(a, b, c, d, e):\n",
    "    print('a = {}, b = {}, c = {}, d = {}, e = {}'.format(a, b, c, d, e))\n"
   ]
  },
  {
   "cell_type": "code",
   "execution_count": 61,
   "metadata": {},
   "outputs": [
    {
     "name": "stdout",
     "output_type": "stream",
     "text": [
      "a = 10, b = 20, c = 30, d = 40, e = 50\n"
     ]
    }
   ],
   "source": [
    "d = {'c': 30, 'd': 40, 'e': 50}\n",
    "\n",
    "foo(10, 20, **d)"
   ]
  },
  {
   "cell_type": "code",
   "execution_count": 62,
   "metadata": {},
   "outputs": [
    {
     "name": "stdout",
     "output_type": "stream",
     "text": [
      "a = 10, b = 20, c = 30, d = 40, e = 50\n"
     ]
    }
   ],
   "source": [
    "foo(10, 20, c=30, d=40, e=50)"
   ]
  },
  {
   "cell_type": "code",
   "execution_count": 63,
   "metadata": {},
   "outputs": [],
   "source": [
    "def foo(a, b, c, d, e, **f):\n",
    "    print('a = {}, b = {}, c = {}, d = {}, e = {}, f = {}'.format(a, b, c, d, e, f))"
   ]
  },
  {
   "cell_type": "code",
   "execution_count": 64,
   "metadata": {},
   "outputs": [
    {
     "name": "stdout",
     "output_type": "stream",
     "text": [
      "a = 10, b = 20, c = 30, d = 40, e = 50, f = {'x': 100, 'y': 200}\n"
     ]
    }
   ],
   "source": [
    "d = {'c': 30, 'd': 40, 'e': 50, 'x':100, 'y':200}\n",
    "\n",
    "foo(10, 20, **d)"
   ]
  },
  {
   "cell_type": "markdown",
   "metadata": {},
   "source": [
    "Python'da fonksiyon çağırısında isimli olmayan ve **'lı olmayan argümanlara isimsiz argümanlar denilmektedir. Aynı zamanda isimsiz ve *'lı argümanlar da bir arada \"pozisyonel argümanlar (positional arguments)\" olarak da isimlendiirlmektedir.\n",
    "\n",
    "foo(10, 20, c=30, d=40, *t, **d)\n",
    "\n",
    "10 ve 20 --> isimsiz argüman\n",
    "c ve d --> isimli (keyword) argümanlar\n",
    "t *'lı ve d'de **'lı argümandır. \n",
    "\n",
    "10, 20 ve *t için argümanlara pozisyonel argüman deniliyo."
   ]
  },
  {
   "cell_type": "code",
   "execution_count": 65,
   "metadata": {},
   "outputs": [],
   "source": [
    "d = {'ali': 10, 'veli': 20, 'selami':30}\n",
    "k = {**d, 'ayşe':40, 'fatma':50}"
   ]
  },
  {
   "cell_type": "code",
   "execution_count": 66,
   "metadata": {},
   "outputs": [
    {
     "name": "stdout",
     "output_type": "stream",
     "text": [
      "{'ali': 10, 'veli': 20, 'selami': 30, 'ayşe': 40, 'fatma': 50}\n"
     ]
    }
   ],
   "source": [
    "print(k)"
   ]
  },
  {
   "cell_type": "markdown",
   "metadata": {},
   "source": [
    "Argümanlarla parametrelerin eşleştirmesi şöyle yapılıyor. Çağrım sırasında önce yalnızca pzosiyonel argümanlara bakılır (pozisyonel argümanlar isimsiz argümanlardır, *'lı argümanlar). Eğer çağırımda hangi sırada olursa olsun n tane pozsiyonel argüman varsa bunlar ilk n tane parametreyle eşleştirilir. Sonra isimli argümanlar ele alınarak bunlar da uygun parametreyle eşleştirilir. Bu işlemler sonucdan eğer parametrelerle eşleştirilmeyen isimli aragümanlar varsa bunlar da fonksiyonun **'lı parametresiyle eşleştirilir. Çağrım sonucunda *'lı ve **'lı olmayan ve default değer almayan her parametrenin bir ve yalnızca bir argümanla eşleştirilmiş olması gerekmektedir."
   ]
  },
  {
   "cell_type": "code",
   "execution_count": 67,
   "metadata": {},
   "outputs": [],
   "source": [
    "def foo(a, b, c, d, e, f):\n",
    "    print('a = {}, b = {}, c = {}, d = {}, e = {}, f = {}'.format(a, b, c, d, e, f))"
   ]
  },
  {
   "cell_type": "code",
   "execution_count": 68,
   "metadata": {},
   "outputs": [
    {
     "name": "stdout",
     "output_type": "stream",
     "text": [
      "a = 10, b = 20, c = 40, d = 50, e = 30, f = 60\n"
     ]
    }
   ],
   "source": [
    "foo(10, 20, e=30, *(40,50), f=60)"
   ]
  },
  {
   "cell_type": "code",
   "execution_count": 69,
   "metadata": {},
   "outputs": [
    {
     "name": "stdout",
     "output_type": "stream",
     "text": [
      "a = 10, b = 30, c = 40, d = 100, e = 50, f = 200\n"
     ]
    }
   ],
   "source": [
    "foo(10, e=50, *(30,40), **{'d': 100, 'f': 200})"
   ]
  },
  {
   "cell_type": "code",
   "execution_count": 70,
   "metadata": {},
   "outputs": [
    {
     "ename": "TypeError",
     "evalue": "foo() got multiple values for argument 'c'",
     "output_type": "error",
     "traceback": [
      "\u001b[1;31m---------------------------------------------------------------------------\u001b[0m",
      "\u001b[1;31mTypeError\u001b[0m                                 Traceback (most recent call last)",
      "Cell \u001b[1;32mIn[70], line 1\u001b[0m\n\u001b[1;32m----> 1\u001b[0m \u001b[43mfoo\u001b[49m\u001b[43m(\u001b[49m\u001b[38;5;241;43m10\u001b[39;49m\u001b[43m,\u001b[49m\u001b[43m \u001b[49m\u001b[43mc\u001b[49m\u001b[38;5;241;43m=\u001b[39;49m\u001b[38;5;241;43m20\u001b[39;49m\u001b[43m,\u001b[49m\u001b[43m \u001b[49m\u001b[38;5;241;43m*\u001b[39;49m\u001b[43m(\u001b[49m\u001b[38;5;241;43m30\u001b[39;49m\u001b[43m,\u001b[49m\u001b[38;5;241;43m40\u001b[39;49m\u001b[43m,\u001b[49m\u001b[38;5;241;43m50\u001b[39;49m\u001b[43m,\u001b[49m\u001b[38;5;241;43m60\u001b[39;49m\u001b[43m,\u001b[49m\u001b[38;5;241;43m70\u001b[39;49m\u001b[43m)\u001b[49m\u001b[43m)\u001b[49m\n",
      "\u001b[1;31mTypeError\u001b[0m: foo() got multiple values for argument 'c'"
     ]
    }
   ],
   "source": [
    "foo(10, c=20, *(30,40,50,60,70))"
   ]
  },
  {
   "cell_type": "markdown",
   "metadata": {},
   "source": []
  }
 ],
 "metadata": {
  "kernelspec": {
   "display_name": "base",
   "language": "python",
   "name": "python3"
  },
  "language_info": {
   "codemirror_mode": {
    "name": "ipython",
    "version": 3
   },
   "file_extension": ".py",
   "mimetype": "text/x-python",
   "name": "python",
   "nbconvert_exporter": "python",
   "pygments_lexer": "ipython3",
   "version": "3.8.16"
  }
 },
 "nbformat": 4,
 "nbformat_minor": 2
}
