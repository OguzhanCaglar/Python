{
 "cells": [
  {
   "cell_type": "code",
   "execution_count": 3,
   "metadata": {},
   "outputs": [
    {
     "name": "stdout",
     "output_type": "stream",
     "text": [
      "son\n"
     ]
    }
   ],
   "source": [
    "a = int(input('a: '))\n",
    "if a > 0:\n",
    "    print('pozitif')\n",
    "print('son')"
   ]
  },
  {
   "cell_type": "markdown",
   "metadata": {},
   "source": [
    "a == 3 \n",
    "a == 5 ayrık koşullardır.\n",
    "\n",
    "a > 0\n",
    "a < 0\n",
    "a == 0\n",
    "\n",
    "a > 0\n",
    "a > 10"
   ]
  },
  {
   "cell_type": "markdown",
   "metadata": {},
   "source": [
    "if a > 0:\n",
    "    ifade1\n",
    "    ifade2\n",
    "\n",
    "if a < 0:\n",
    "    ifade3\n",
    "    ifad4"
   ]
  },
  {
   "cell_type": "markdown",
   "metadata": {},
   "source": []
  },
  {
   "cell_type": "markdown",
   "metadata": {},
   "source": []
  },
  {
   "cell_type": "code",
   "execution_count": 5,
   "metadata": {},
   "outputs": [
    {
     "name": "stdout",
     "output_type": "stream",
     "text": [
      "sıfır\n"
     ]
    }
   ],
   "source": [
    "a = int(input('a: '))\n",
    "if a > 0:\n",
    "    print('pozitif')\n",
    "else:\n",
    "    if a < 0:\n",
    "        print('negatif')\n",
    "    else:\n",
    "        print('sıfır')"
   ]
  },
  {
   "cell_type": "markdown",
   "metadata": {},
   "source": [
    "if a > 0:\n",
    "    ifade1\n",
    "    ifade2\n",
    "elif a < 0:\n",
    "    ifade3\n",
    "    ifade4\n",
    "\n",
    "if a > 0:\n",
    "    ifade1\n",
    "    ifade2\n",
    "else:\n",
    "    if a < 0:\n",
    "        ifade3\n",
    "        ifade4"
   ]
  },
  {
   "cell_type": "code",
   "execution_count": 7,
   "metadata": {},
   "outputs": [
    {
     "name": "stdout",
     "output_type": "stream",
     "text": [
      "sıfır\n"
     ]
    }
   ],
   "source": [
    "a = int(input(\"Değer giriniz: \"))\n",
    "if a > 0:\n",
    "    print(\"pozitif\")\n",
    "elif a < 0:\n",
    "    print(\"negatif\")\n",
    "else:\n",
    "    print(\"sıfır\")"
   ]
  },
  {
   "cell_type": "code",
   "execution_count": 8,
   "metadata": {},
   "outputs": [
    {
     "name": "stdout",
     "output_type": "stream",
     "text": [
      "Diğerleri\n"
     ]
    }
   ],
   "source": [
    "a = int(input(\"Değer giriniz: \"))\n",
    "if a == 1:\n",
    "    print(\"Bir\")\n",
    "else:\n",
    "    if a == 2:\n",
    "        print(\"İki\")\n",
    "    else:\n",
    "        if a == 3:\n",
    "            print(\"Üç\")\n",
    "        else:\n",
    "            if a == 4:\n",
    "                print(\"Dört\")\n",
    "            else:\n",
    "                print(\"Diğerleri\")"
   ]
  },
  {
   "cell_type": "code",
   "execution_count": 10,
   "metadata": {},
   "outputs": [
    {
     "name": "stdout",
     "output_type": "stream",
     "text": [
      "Diğerleri\n"
     ]
    }
   ],
   "source": [
    "a = int(input(\"Değer giriniz: \"))\n",
    "if a == 1:\n",
    "    print(\"Bir\")\n",
    "elif a == 2:\n",
    "    print(\"İki\")\n",
    "else:\n",
    "    print(\"Diğerleri\")"
   ]
  },
  {
   "cell_type": "code",
   "execution_count": 11,
   "metadata": {},
   "outputs": [
    {
     "name": "stdout",
     "output_type": "stream",
     "text": [
      "Doğru\n",
      "Yanlış\n",
      "Yanlış\n"
     ]
    }
   ],
   "source": [
    "a = int(input(\"Bir değer giriniz: \"))\n",
    "if a:\n",
    "    print(\"Doğru\")\n",
    "else:\n",
    "    print(\"Yanlış\")\n",
    "\n",
    "b = []\n",
    "if b:\n",
    "    print(\"Doğru\")\n",
    "else:\n",
    "    print(\"Yanlış\")\n",
    "\n",
    "s = input(\"Bir yazi giriniz: \")\n",
    "if s:\n",
    "    print(\"Doğru\")\n",
    "else:\n",
    "    print(\"Yanlış\")"
   ]
  },
  {
   "cell_type": "code",
   "execution_count": 16,
   "metadata": {},
   "outputs": [
    {
     "name": "stdout",
     "output_type": "stream",
     "text": [
      "Emeklilik yaşındasınız\n"
     ]
    }
   ],
   "source": [
    "# Yaş kontrolü\n",
    "# 18 < reşit değilsiniz\n",
    "# 18 < x < 65 -> çalışma yaşındasınız\n",
    "# 65 < x emeklilik yaşındasınız\n",
    "\n",
    "age = int(input(\"Yaşınızı girin: \"))\n",
    "if age < 18:\n",
    "    print(\"Reşit Değilsiniz!\")\n",
    "elif 18 <= age <= 65:\n",
    "    print(\"Çalışma yaşındasınız!\")\n",
    "else:\n",
    "    print(\"Emeklilik yaşındasınız\")"
   ]
  },
  {
   "cell_type": "code",
   "execution_count": 19,
   "metadata": {},
   "outputs": [
    {
     "name": "stdout",
     "output_type": "stream",
     "text": [
      "D\n"
     ]
    }
   ],
   "source": [
    "# Not Hesaplama\n",
    "# 90 - 100 -> A\n",
    "# 80 - 89 -> B\n",
    "# 70 - 79 -> C\n",
    "# 60 - 69 -> D\n",
    "# < 60 -> F\n",
    "grade = int(input(\"Not Giriniz: \"))\n",
    "\n",
    "if 90 <= grade <= 100:\n",
    "    print(\"A\")\n",
    "elif 80 <= grade < 90:\n",
    "    print(\"B\")\n",
    "elif 70 <= grade < 80:\n",
    "    print(\"C\")\n",
    "elif 60 <= grade < 70:\n",
    "    print(\"D\")\n",
    "else:\n",
    "    print(\"F\")"
   ]
  },
  {
   "cell_type": "code",
   "execution_count": 21,
   "metadata": {},
   "outputs": [
    {
     "name": "stdout",
     "output_type": "stream",
     "text": [
      "Giriş başarılı\n"
     ]
    }
   ],
   "source": [
    "# Kullanıcı Girişi\n",
    "username = input(\"Kullanıcı adınızı giriniz: \")\n",
    "password = input(\"Şifrenizi girin: \")\n",
    "if username == \"admin\" and password == \"12345\":\n",
    "    print(\"Giriş başarılı\")\n",
    "else:\n",
    "    print(\"Kullanıcı adı veya şifre hatalı\")"
   ]
  },
  {
   "cell_type": "code",
   "execution_count": 24,
   "metadata": {},
   "outputs": [
    {
     "name": "stdout",
     "output_type": "stream",
     "text": [
      "İkinzkenar üçgen\n"
     ]
    }
   ],
   "source": [
    "# Üçgen çeşidi\n",
    "# eşkenar üçgen\n",
    "# ikizkenar üçgen\n",
    "# çeşitkenar üçgen\n",
    "a = float(input(\"Birinci kenar uzunluğunu giriniz: \"))\n",
    "b = float(input(\"İkinci kenar uzunluğunu giriniz: \"))\n",
    "c = float(input(\"Üçüncü kenar uzunluğunu giriniz: \"))\n",
    "\n",
    "if a == b == c:\n",
    "    print(\"Eşkenar üçgen\")\n",
    "elif a == b or a == c or b == c:\n",
    "    print(\"İkizkenar üçgen\")\n",
    "else:\n",
    "    print(\"Çeşitkenar üçgen\")"
   ]
  },
  {
   "cell_type": "markdown",
   "metadata": {},
   "source": [
    "#### Döngü Deyimleri (Loop Statements)\n",
    "\n",
    "Bir grup deyimin yinelemeli olarak çalıştırılmasını sağlayan kontrol deyimlerine döngü(loop) denilmektedir. while ve for.\n",
    "\n",
    "while: kontrol başta yapılır. ayrıca python'da kontrolün sonda yapıldığı while döngüleri yoktur. do -while \n",
    "\n",
    "##### While Döngüleri\n",
    "\n",
    "While döngüleri bir koşul sağlandığı sürece yinelenmeye yol açar. \n",
    "\n",
    "while koşul: suit \n",
    "[else: suit]\n",
    "\n",
    "while döngüsü şöyle çalışır: her yinelemede while anahtar sözcüğünün yanındaki ifadenin değeri hesaplanır. bu değer bool türüne dönüştürülür. eğer ifadenin değeri true ise suit içerisindeki deyimler sırasıyla çalıştırılır. false ise döngü sonlandrılır. break deyimi"
   ]
  },
  {
   "cell_type": "code",
   "execution_count": 25,
   "metadata": {},
   "outputs": [
    {
     "name": "stdout",
     "output_type": "stream",
     "text": [
      "0\n",
      "1\n",
      "2\n",
      "3\n",
      "4\n",
      "5\n",
      "6\n",
      "7\n",
      "8\n",
      "9\n"
     ]
    }
   ],
   "source": [
    "i = 0\n",
    "\n",
    "while i < 10:\n",
    "    print(i)\n",
    "    i += 1"
   ]
  },
  {
   "cell_type": "code",
   "execution_count": 26,
   "metadata": {},
   "outputs": [
    {
     "name": "stdout",
     "output_type": "stream",
     "text": [
      "0 1 2 3 4 5 6 7 8 9 \n"
     ]
    }
   ],
   "source": [
    "i = 0\n",
    "\n",
    "while i < 10:\n",
    "    print(i, end = ' ')\n",
    "    i += 1\n",
    "print()"
   ]
  },
  {
   "cell_type": "code",
   "execution_count": 27,
   "metadata": {},
   "outputs": [
    {
     "name": "stdout",
     "output_type": "stream",
     "text": [
      "0\n",
      "1\n",
      "2\n",
      "3\n",
      "4\n",
      "5\n",
      "6\n",
      "7\n",
      "8\n",
      "9\n",
      "son\n"
     ]
    }
   ],
   "source": [
    "i = 0\n",
    "while i < 10:\n",
    "    print(i)\n",
    "    i += 1\n",
    "else:\n",
    "    print('son')"
   ]
  },
  {
   "cell_type": "code",
   "execution_count": 28,
   "metadata": {},
   "outputs": [
    {
     "name": "stdout",
     "output_type": "stream",
     "text": [
      "10 20 30 40 50 60 70 80 90 100 "
     ]
    }
   ],
   "source": [
    "a = [10, 20, 30, 40, 50, 60, 70, 80, 90, 100]\n",
    "i = 0\n",
    "\n",
    "while i < len(a):\n",
    "    print(a[i], end=' ')\n",
    "    i += 1"
   ]
  },
  {
   "cell_type": "code",
   "execution_count": 29,
   "metadata": {},
   "outputs": [
    {
     "name": "stdout",
     "output_type": "stream",
     "text": [
      "5050\n"
     ]
    }
   ],
   "source": [
    "# 1 'den 100 'e kadar sayıların toplamını hesaplayalım:\n",
    "\n",
    "i = 1\n",
    "total = 0\n",
    "while i <= 100:\n",
    "    total += i\n",
    "    i += 1\n",
    "print(total)"
   ]
  },
  {
   "cell_type": "code",
   "execution_count": 30,
   "metadata": {},
   "outputs": [
    {
     "name": "stdout",
     "output_type": "stream",
     "text": [
      "4 12 56 78 78 "
     ]
    }
   ],
   "source": [
    "a = [4, 3, 12, 56, 33, 78, 21, 78, 9, 45]\n",
    "i = 0\n",
    "\n",
    "while i < len(a):\n",
    "    if a[i] % 2 == 0:\n",
    "        print(a[i], end=' ')\n",
    "    i += 1"
   ]
  },
  {
   "cell_type": "code",
   "execution_count": 31,
   "metadata": {},
   "outputs": [
    {
     "name": "stdout",
     "output_type": "stream",
     "text": [
      "10 9 8 7 6 5 4 3 2 1 Çıkış değeri: 0\n"
     ]
    }
   ],
   "source": [
    "i = 10\n",
    "\n",
    "while i:\n",
    "    print(i, end=' ')\n",
    "    i -= 1\n",
    "else:\n",
    "    print('Çıkış değeri:', i)"
   ]
  },
  {
   "cell_type": "code",
   "execution_count": 32,
   "metadata": {},
   "outputs": [
    {
     "name": "stdout",
     "output_type": "stream",
     "text": [
      "10 9 8 7 6 5 4 3 2 1 Çıkış değeri: 0\n"
     ]
    }
   ],
   "source": [
    "i = 10\n",
    "\n",
    "while i > 0:\n",
    "    print(i, end=' ')\n",
    "    i -= 1\n",
    "else:\n",
    "    print('Çıkış değeri:', i)"
   ]
  },
  {
   "cell_type": "code",
   "execution_count": 33,
   "metadata": {},
   "outputs": [
    {
     "name": "stdout",
     "output_type": "stream",
     "text": [
      "ankara\n",
      "nkara\n",
      "kara\n",
      "ara\n",
      "ra\n",
      "a\n"
     ]
    }
   ],
   "source": [
    "s = 'ankara'\n",
    "\n",
    "while s:\n",
    "    print(s)\n",
    "    s = s[1:]"
   ]
  },
  {
   "cell_type": "code",
   "execution_count": 34,
   "metadata": {},
   "outputs": [
    {
     "name": "stdout",
     "output_type": "stream",
     "text": [
      "1 selami 10 ali 20 veli "
     ]
    }
   ],
   "source": [
    "s = {1, 10, 'ali', 20, 'veli', 'selami'}\n",
    "\n",
    "while s:\n",
    "    x = s.pop()\n",
    "    print(x, end = ' ')"
   ]
  },
  {
   "cell_type": "code",
   "execution_count": 35,
   "metadata": {},
   "outputs": [
    {
     "data": {
      "text/plain": [
       "set()"
      ]
     },
     "execution_count": 35,
     "metadata": {},
     "output_type": "execute_result"
    }
   ],
   "source": [
    "s"
   ]
  },
  {
   "cell_type": "markdown",
   "metadata": {},
   "source": [
    "while koşul:\n",
    "    ifade1\n",
    "else:\n",
    "    ifade2\n",
    "\n",
    "while koşul:\n",
    "    ifade1\n",
    "ifade2\n",
    "\n",
    "\n",
    "while True:\n",
    "    ....."
   ]
  },
  {
   "cell_type": "code",
   "execution_count": 36,
   "metadata": {},
   "outputs": [
    {
     "name": "stdout",
     "output_type": "stream",
     "text": [
      "10 9 8 7 6 5 4 3 2 1 "
     ]
    }
   ],
   "source": [
    "# Bir liste oluşturalım. Bu listenin elemanlarını while döngüsü kullanarak aynı satırda aralarında boşluk karatkeri olacak biçimde \n",
    "# ters sırada yan yana yazdırınız.\n",
    "\n",
    "a = [1, 2, 3, 4, 5, 6, 7, 8, 9, 10]\n",
    "i = len(a) - 1\n",
    "\n",
    "while i >= 0:\n",
    "    print(a[i], end=' ')\n",
    "    i -= 1"
   ]
  },
  {
   "cell_type": "code",
   "execution_count": 37,
   "metadata": {},
   "outputs": [
    {
     "name": "stdout",
     "output_type": "stream",
     "text": [
      "10 9 8 7 6 5 4 3 2 1 "
     ]
    }
   ],
   "source": [
    "i = 1\n",
    "\n",
    "while i <= len(a):\n",
    "    print(a[-i], end=' ')\n",
    "    i += 1"
   ]
  },
  {
   "cell_type": "code",
   "execution_count": 38,
   "metadata": {},
   "outputs": [
    {
     "name": "stdout",
     "output_type": "stream",
     "text": [
      "Ortalama = 5.0\n"
     ]
    }
   ],
   "source": [
    "# İçerisinde int değerlerin bulunduğu bir listenin elemanlarının ortalamasını yazdıran programı yazınız. sum\n",
    "\n",
    "a = [3, 4, 3, 5, 10]\n",
    "\n",
    "total = 0\n",
    "i = 0\n",
    "\n",
    "while i < len(a):\n",
    "    total += a[i]\n",
    "    i += 1\n",
    "\n",
    "avg = total / len(a)\n",
    "print('Ortalama =', avg)"
   ]
  },
  {
   "cell_type": "code",
   "execution_count": 39,
   "metadata": {},
   "outputs": [
    {
     "name": "stdout",
     "output_type": "stream",
     "text": [
      "Toplam= 25 , Ortalama = 5\n"
     ]
    }
   ],
   "source": [
    "import statistics\n",
    "\n",
    "a = [3, 4, 3, 5, 10]\n",
    "total = 0\n",
    "i = 0\n",
    "\n",
    "print('Toplam=', sum(a), \", Ortalama =\", statistics.mean(a))"
   ]
  },
  {
   "cell_type": "code",
   "execution_count": 41,
   "metadata": {},
   "outputs": [
    {
     "name": "stdout",
     "output_type": "stream",
     "text": [
      "b\n",
      "a\n",
      "z\n",
      "y\n",
      "e\n"
     ]
    }
   ],
   "source": [
    "# Klavyeden bir yazı okuyunuz hiç dilimleme yapmadan yazıyı tersten yazdırınız.\n",
    "# \n",
    "a = input(\"bir yazı giriniz:\")\n",
    "i = 0\n",
    "while i <= len(a):\n",
    "    print(a[-i]) # i = 0, a[0], i = len(a)\n",
    "    i += 1"
   ]
  },
  {
   "cell_type": "code",
   "execution_count": 45,
   "metadata": {},
   "outputs": [
    {
     "name": "stdout",
     "output_type": "stream",
     "text": [
      "azyeb"
     ]
    }
   ],
   "source": [
    "a = input(\"bir yazı giriniz:\")\n",
    "i = 1\n",
    "while i <= len(a):\n",
    "    print(a[-i], end='') # i = 0, a[0], i = len(a)\n",
    "    i += 1"
   ]
  },
  {
   "cell_type": "code",
   "execution_count": 44,
   "metadata": {},
   "outputs": [
    {
     "name": "stdout",
     "output_type": "stream",
     "text": [
      "azyeb"
     ]
    }
   ],
   "source": [
    "s = input(\"bir yazı giriniz:\")\n",
    "i = len(s) - 1\n",
    "while i >= 0:\n",
    "    print(s[i], end='')\n",
    "    i -= 1"
   ]
  },
  {
   "cell_type": "code",
   "execution_count": 46,
   "metadata": {},
   "outputs": [],
   "source": [
    "### Bir listeyi elemanlarını yer değiştirirerek ters yüz ediniz."
   ]
  },
  {
   "cell_type": "code",
   "execution_count": null,
   "metadata": {},
   "outputs": [],
   "source": []
  }
 ],
 "metadata": {
  "kernelspec": {
   "display_name": "base",
   "language": "python",
   "name": "python3"
  },
  "language_info": {
   "codemirror_mode": {
    "name": "ipython",
    "version": 3
   },
   "file_extension": ".py",
   "mimetype": "text/x-python",
   "name": "python",
   "nbconvert_exporter": "python",
   "pygments_lexer": "ipython3",
   "version": "3.8.16"
  }
 },
 "nbformat": 4,
 "nbformat_minor": 2
}
