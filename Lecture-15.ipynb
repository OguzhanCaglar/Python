{
 "cells": [
  {
   "cell_type": "code",
   "execution_count": 1,
   "metadata": {},
   "outputs": [
    {
     "name": "stdout",
     "output_type": "stream",
     "text": [
      "Lecture-15\n"
     ]
    }
   ],
   "source": [
    "print(\"Lecture-15\")"
   ]
  },
  {
   "cell_type": "markdown",
   "metadata": {},
   "source": [
    "## Enumerate "
   ]
  },
  {
   "cell_type": "code",
   "execution_count": 2,
   "metadata": {},
   "outputs": [],
   "source": [
    "a = [10, 20, 30, 40, 50]\n",
    "e = enumerate(a)"
   ]
  },
  {
   "cell_type": "code",
   "execution_count": 3,
   "metadata": {},
   "outputs": [
    {
     "data": {
      "text/plain": [
       "<enumerate at 0x23c8ba63400>"
      ]
     },
     "execution_count": 3,
     "metadata": {},
     "output_type": "execute_result"
    }
   ],
   "source": [
    "e"
   ]
  },
  {
   "cell_type": "code",
   "execution_count": 4,
   "metadata": {},
   "outputs": [
    {
     "data": {
      "text/plain": [
       "enumerate"
      ]
     },
     "execution_count": 4,
     "metadata": {},
     "output_type": "execute_result"
    }
   ],
   "source": [
    "type(e)"
   ]
  },
  {
   "cell_type": "code",
   "execution_count": 5,
   "metadata": {},
   "outputs": [
    {
     "data": {
      "text/plain": [
       "[(0, 10), (1, 20), (2, 30), (3, 40), (4, 50)]"
      ]
     },
     "execution_count": 5,
     "metadata": {},
     "output_type": "execute_result"
    }
   ],
   "source": [
    "list(e)"
   ]
  },
  {
   "cell_type": "code",
   "execution_count": 6,
   "metadata": {},
   "outputs": [
    {
     "data": {
      "text/plain": [
       "[(0, 'ali'), (1, 'veli'), (2, 'selami'), (3, 'ayşe'), (4, 'fatma')]"
      ]
     },
     "execution_count": 6,
     "metadata": {},
     "output_type": "execute_result"
    }
   ],
   "source": [
    "d = {'ali': 10, 'veli': 20, 'selami': 30, 'ayşe': 40, 'fatma': 50}\n",
    "list(enumerate(d))"
   ]
  },
  {
   "cell_type": "code",
   "execution_count": 7,
   "metadata": {},
   "outputs": [
    {
     "data": {
      "text/plain": [
       "[(0, True), (1, 12.5), (2, 'ali'), (3, 'veli'), (4, 123)]"
      ]
     },
     "execution_count": 7,
     "metadata": {},
     "output_type": "execute_result"
    }
   ],
   "source": [
    "s = {'ali', 123, 12.5, 'veli', True}\n",
    "list(enumerate(s))"
   ]
  },
  {
   "cell_type": "code",
   "execution_count": 8,
   "metadata": {},
   "outputs": [
    {
     "name": "stdout",
     "output_type": "stream",
     "text": [
      "0 12\n",
      "1 35\n",
      "2 7\n",
      "3 4\n",
      "4 68\n",
      "5 234\n",
      "6 45\n",
      "7 24\n"
     ]
    }
   ],
   "source": [
    "a = [12, 35, 7, 4, 68, 234, 45, 24]\n",
    "for index, val in enumerate(a):\n",
    "    print(index, val)"
   ]
  },
  {
   "cell_type": "code",
   "execution_count": 9,
   "metadata": {},
   "outputs": [
    {
     "name": "stdout",
     "output_type": "stream",
     "text": [
      "[10, 14, 8, 22, 64, 74]\n"
     ]
    }
   ],
   "source": [
    "a = [10, 13, 8, 22, 64, 73]\n",
    "\n",
    "for index, val in enumerate(a):\n",
    "    if val % 2 == 1:\n",
    "        a[index] += 1 \n",
    "\n",
    "print(a)"
   ]
  },
  {
   "cell_type": "code",
   "execution_count": 14,
   "metadata": {},
   "outputs": [
    {
     "name": "stdout",
     "output_type": "stream",
     "text": [
      "En büyük eleman: 56, indeksi: 1\n"
     ]
    }
   ],
   "source": [
    "# enumerate(iterable, start=0)\n",
    "\n",
    "# Bir listenin en büyük elemanının listenin kaçıncı indeksinde olduğunu bulan programı yazınız.\n",
    "\n",
    "a = [23, 56, 12, 34, 8, 21, 16, 44]\n",
    "\n",
    "indeks = 0\n",
    "for i in range(1, len(a)):\n",
    "    if a[i] > a[indeks]:\n",
    "        indeks = i\n",
    "\n",
    "print(f'En büyük eleman: {a[indeks]}, indeksi: {indeks}')"
   ]
  },
  {
   "cell_type": "code",
   "execution_count": 15,
   "metadata": {},
   "outputs": [
    {
     "name": "stdout",
     "output_type": "stream",
     "text": [
      "En büyük eleman: 56, indeksi: 1\n"
     ]
    }
   ],
   "source": [
    "a = [23, 56, 12, 34, 8, 21, 16, 44]\n",
    "\n",
    "mi = 0\n",
    "for i, x in enumerate(a):\n",
    "    if x > a[mi]:\n",
    "        mi = i\n",
    "print(f'En büyük eleman: {a[mi]}, indeksi: {mi}')"
   ]
  },
  {
   "cell_type": "code",
   "execution_count": 16,
   "metadata": {},
   "outputs": [
    {
     "name": "stdout",
     "output_type": "stream",
     "text": [
      "10 23\n",
      "11 56\n",
      "12 12\n",
      "13 34\n",
      "14 8\n",
      "15 21\n",
      "16 16\n",
      "17 44\n"
     ]
    }
   ],
   "source": [
    "a = [23, 56, 12, 34, 8, 21, 16, 44]\n",
    "\n",
    "for index, val in enumerate(a, 10):\n",
    "    print(index, val)"
   ]
  },
  {
   "cell_type": "markdown",
   "metadata": {},
   "source": [
    "### Değişkenlerin Faaliyet Alanları (Scope)\n",
    "\n",
    "Bir değişkenin kullanılabildiği program aralığına scope denilmektedir. \n",
    "\n",
    "1) Bir değişken sınıfların ve fonksiyonların dışında oluşturulmuşsa bunlara global değişken denilmektedir. Global değişkenler yalnızca isimleriyle her yerden kullanılabilirler."
   ]
  },
  {
   "cell_type": "code",
   "execution_count": 17,
   "metadata": {},
   "outputs": [
    {
     "name": "stdout",
     "output_type": "stream",
     "text": [
      "10\n",
      "20\n",
      "20\n"
     ]
    }
   ],
   "source": [
    "x = 10 # x bir global değişken\n",
    "\n",
    "def foo():\n",
    "    print(x)\n",
    "\n",
    "def bar():\n",
    "    print(x)\n",
    "\n",
    "foo()\n",
    "x = 20\n",
    "bar()\n",
    "print(x)"
   ]
  },
  {
   "cell_type": "markdown",
   "metadata": {},
   "source": [
    "2) Eğer bir değişkene bir fonksiyonu ya da metodun içerisinde değer atanmışsa bu değişkene kapsam bakımından \"yerel (local) değişken\" denir. Yerel değişkenler yalnızca yaratılmış oldukları fonksiyon ya da metodun içerisinde kullanılabilirler."
   ]
  },
  {
   "cell_type": "code",
   "execution_count": 18,
   "metadata": {},
   "outputs": [
    {
     "name": "stdout",
     "output_type": "stream",
     "text": [
      "10\n"
     ]
    },
    {
     "ename": "NameError",
     "evalue": "name 'y' is not defined",
     "output_type": "error",
     "traceback": [
      "\u001b[1;31m---------------------------------------------------------------------------\u001b[0m",
      "\u001b[1;31mNameError\u001b[0m                                 Traceback (most recent call last)",
      "Cell \u001b[1;32mIn[18], line 8\u001b[0m\n\u001b[0;32m      5\u001b[0m     \u001b[38;5;28mprint\u001b[39m(y)\n\u001b[0;32m      7\u001b[0m \u001b[38;5;28mprint\u001b[39m(x)\n\u001b[1;32m----> 8\u001b[0m \u001b[38;5;28mprint\u001b[39m(\u001b[43my\u001b[49m)\n",
      "\u001b[1;31mNameError\u001b[0m: name 'y' is not defined"
     ]
    }
   ],
   "source": [
    "x = 10\n",
    "\n",
    "def foo():\n",
    "    y = 20\n",
    "    print(y)\n",
    "\n",
    "print(x)\n",
    "print(y)"
   ]
  },
  {
   "cell_type": "markdown",
   "metadata": {},
   "source": [
    "Farklı fonksiyonlardaki aynı isimli değişkenler aslında farklı değişkenlerdir."
   ]
  },
  {
   "cell_type": "code",
   "execution_count": 19,
   "metadata": {},
   "outputs": [
    {
     "name": "stdout",
     "output_type": "stream",
     "text": [
      "10\n",
      "20\n"
     ]
    }
   ],
   "source": [
    "def foo():\n",
    "    x = 10\n",
    "    print(x)\n",
    "\n",
    "def bar():\n",
    "    x = 20\n",
    "    print(x)\n",
    "\n",
    "foo()\n",
    "bar()"
   ]
  },
  {
   "cell_type": "markdown",
   "metadata": {},
   "source": [
    "Bir fonksiyon ya da metot içerisinde global bir değişken ile aynı isimli bir değişkene atama yapıldığında bu atama global değişkene yapılan atama anlamına gelmemektedir. Aynı isimli yerel bir değişken yaratılıp atama ona yapılmaktadır."
   ]
  },
  {
   "cell_type": "code",
   "execution_count": 20,
   "metadata": {},
   "outputs": [
    {
     "name": "stdout",
     "output_type": "stream",
     "text": [
      "200\n",
      "100\n"
     ]
    }
   ],
   "source": [
    "x = 100\n",
    "\n",
    "def foo():\n",
    "    x = 200\n",
    "    print(x)\n",
    "\n",
    "foo() # 200\n",
    "print(x) # 100"
   ]
  },
  {
   "cell_type": "markdown",
   "metadata": {},
   "source": [
    "Ayrıca bir fonksiyon ya da metot içerisinde önce bir global değişkeni kullanıp daha sonra bu değişkene atama yapamayız. Yani global değişken fonksiyon içerisinde kullaınldıktan sonra artık aynı isimli bir yerel değişken yaratılamamaktadır."
   ]
  },
  {
   "cell_type": "code",
   "execution_count": 21,
   "metadata": {},
   "outputs": [
    {
     "ename": "UnboundLocalError",
     "evalue": "local variable 'x' referenced before assignment",
     "output_type": "error",
     "traceback": [
      "\u001b[1;31m---------------------------------------------------------------------------\u001b[0m",
      "\u001b[1;31mUnboundLocalError\u001b[0m                         Traceback (most recent call last)",
      "Cell \u001b[1;32mIn[21], line 8\u001b[0m\n\u001b[0;32m      5\u001b[0m     x \u001b[38;5;241m=\u001b[39m \u001b[38;5;241m200\u001b[39m\n\u001b[0;32m      6\u001b[0m     \u001b[38;5;28mprint\u001b[39m(x)\n\u001b[1;32m----> 8\u001b[0m \u001b[43mfoo\u001b[49m\u001b[43m(\u001b[49m\u001b[43m)\u001b[49m \u001b[38;5;66;03m# 200\u001b[39;00m\n\u001b[0;32m      9\u001b[0m \u001b[38;5;28mprint\u001b[39m(x)\n",
      "Cell \u001b[1;32mIn[21], line 4\u001b[0m, in \u001b[0;36mfoo\u001b[1;34m()\u001b[0m\n\u001b[0;32m      3\u001b[0m \u001b[38;5;28;01mdef\u001b[39;00m \u001b[38;5;21mfoo\u001b[39m():\n\u001b[1;32m----> 4\u001b[0m     \u001b[38;5;28mprint\u001b[39m(\u001b[43mx\u001b[49m)\n\u001b[0;32m      5\u001b[0m     x \u001b[38;5;241m=\u001b[39m \u001b[38;5;241m200\u001b[39m\n\u001b[0;32m      6\u001b[0m     \u001b[38;5;28mprint\u001b[39m(x)\n",
      "\u001b[1;31mUnboundLocalError\u001b[0m: local variable 'x' referenced before assignment"
     ]
    }
   ],
   "source": [
    "x = 100\n",
    "\n",
    "def foo():\n",
    "    print(x)\n",
    "    x = 200\n",
    "    print(x)\n",
    "\n",
    "foo() # 200\n",
    "print(x) # 100"
   ]
  },
  {
   "cell_type": "markdown",
   "metadata": {},
   "source": [
    "Fonksiyon ya da metot içerisinde global olan değişkene atama yapılabilir. Bu durumda o değişkenin global olduğu belirtilmelidir"
   ]
  },
  {
   "cell_type": "code",
   "execution_count": 22,
   "metadata": {},
   "outputs": [
    {
     "name": "stdout",
     "output_type": "stream",
     "text": [
      "200\n",
      "200\n"
     ]
    }
   ],
   "source": [
    "x = 100\n",
    "\n",
    "def foo():\n",
    "    global x\n",
    "    x = 200\n",
    "    print(x)\n",
    "\n",
    "foo() \n",
    "print(x) "
   ]
  },
  {
   "cell_type": "markdown",
   "metadata": {},
   "source": [
    "global değişken_listesi\n",
    "\n",
    "global x\n",
    "global y, z, k"
   ]
  },
  {
   "cell_type": "code",
   "execution_count": 23,
   "metadata": {},
   "outputs": [
    {
     "ename": "SyntaxError",
     "evalue": "name 'x' is used prior to global declaration (460071527.py, line 5)",
     "output_type": "error",
     "traceback": [
      "\u001b[1;36m  Cell \u001b[1;32mIn[23], line 5\u001b[1;36m\u001b[0m\n\u001b[1;33m    global x\u001b[0m\n\u001b[1;37m    ^\u001b[0m\n\u001b[1;31mSyntaxError\u001b[0m\u001b[1;31m:\u001b[0m name 'x' is used prior to global declaration\n"
     ]
    }
   ],
   "source": [
    "x = 10\n",
    "\n",
    "def foo():\n",
    "    print(x)\n",
    "    global x\n",
    "    x = 20\n",
    "\n",
    "foo()"
   ]
  },
  {
   "cell_type": "code",
   "execution_count": 24,
   "metadata": {},
   "outputs": [
    {
     "name": "stdout",
     "output_type": "stream",
     "text": [
      "10\n",
      "10\n"
     ]
    }
   ],
   "source": [
    "def foo():\n",
    "    global x\n",
    "    x = 10\n",
    "    print(x)\n",
    "\n",
    "foo()\n",
    "print(x)"
   ]
  },
  {
   "cell_type": "code",
   "execution_count": 27,
   "metadata": {},
   "outputs": [
    {
     "ename": "NameError",
     "evalue": "name 'y' is not defined",
     "output_type": "error",
     "traceback": [
      "\u001b[1;31m---------------------------------------------------------------------------\u001b[0m",
      "\u001b[1;31mNameError\u001b[0m                                 Traceback (most recent call last)",
      "Cell \u001b[1;32mIn[27], line 5\u001b[0m\n\u001b[0;32m      2\u001b[0m     \u001b[38;5;28;01mglobal\u001b[39;00m y\n\u001b[0;32m      3\u001b[0m     \u001b[38;5;28mprint\u001b[39m(y)\n\u001b[1;32m----> 5\u001b[0m \u001b[43mfoo\u001b[49m\u001b[43m(\u001b[49m\u001b[43m)\u001b[49m\n\u001b[0;32m      6\u001b[0m \u001b[38;5;28mprint\u001b[39m(y)\n",
      "Cell \u001b[1;32mIn[27], line 3\u001b[0m, in \u001b[0;36mfoo\u001b[1;34m()\u001b[0m\n\u001b[0;32m      1\u001b[0m \u001b[38;5;28;01mdef\u001b[39;00m \u001b[38;5;21mfoo\u001b[39m():\n\u001b[0;32m      2\u001b[0m     \u001b[38;5;28;01mglobal\u001b[39;00m y\n\u001b[1;32m----> 3\u001b[0m     \u001b[38;5;28mprint\u001b[39m(\u001b[43my\u001b[49m)\n",
      "\u001b[1;31mNameError\u001b[0m: name 'y' is not defined"
     ]
    }
   ],
   "source": [
    "def foo():\n",
    "    global y\n",
    "    print(y)\n",
    "\n",
    "foo()\n",
    "print(y)"
   ]
  },
  {
   "cell_type": "markdown",
   "metadata": {},
   "source": [
    "3) Python'da yerel blok faaliyet alanı yoktur. Fonksiyon içerisindeki değişkenler yaratıldıktan sonra o fonksiyonun her yerinde kullanılabilirler. for döngülerindeki değişkenler benzer biçimde döngü dışında kullanılabiliyor."
   ]
  },
  {
   "cell_type": "code",
   "execution_count": 28,
   "metadata": {},
   "outputs": [
    {
     "name": "stdout",
     "output_type": "stream",
     "text": [
      "1\n",
      "2\n",
      "3\n",
      "4\n",
      "5\n",
      "5\n"
     ]
    }
   ],
   "source": [
    "def foo():\n",
    "    x = [1, 2, 3, 4, 5]\n",
    "    for i in x:\n",
    "        print(i)\n",
    "    print(i)\n",
    "\n",
    "foo()\n",
    "\n",
    "# while(i < 10) {\n",
    "#     int x;\n",
    "# }"
   ]
  },
  {
   "cell_type": "code",
   "execution_count": 29,
   "metadata": {},
   "outputs": [
    {
     "name": "stdout",
     "output_type": "stream",
     "text": [
      "10\n"
     ]
    }
   ],
   "source": [
    "def foo():\n",
    "    i = 0\n",
    "    while i < 10:\n",
    "        x = 10\n",
    "        i += 1\n",
    "    print(x)\n",
    "foo()"
   ]
  },
  {
   "cell_type": "code",
   "execution_count": 32,
   "metadata": {},
   "outputs": [
    {
     "name": "stdout",
     "output_type": "stream",
     "text": [
      "10\n"
     ]
    },
    {
     "ename": "UnboundLocalError",
     "evalue": "local variable 'y' referenced before assignment",
     "output_type": "error",
     "traceback": [
      "\u001b[1;31m---------------------------------------------------------------------------\u001b[0m",
      "\u001b[1;31mUnboundLocalError\u001b[0m                         Traceback (most recent call last)",
      "Cell \u001b[1;32mIn[32], line 7\u001b[0m\n\u001b[0;32m      4\u001b[0m     \u001b[38;5;28mprint\u001b[39m(y)\n\u001b[0;32m      6\u001b[0m foo(\u001b[38;5;241m10\u001b[39m) \u001b[38;5;66;03m# geçerli\u001b[39;00m\n\u001b[1;32m----> 7\u001b[0m \u001b[43mfoo\u001b[49m\u001b[43m(\u001b[49m\u001b[38;5;241;43m-\u001b[39;49m\u001b[38;5;241;43m10\u001b[39;49m\u001b[43m)\u001b[49m\n",
      "Cell \u001b[1;32mIn[32], line 4\u001b[0m, in \u001b[0;36mfoo\u001b[1;34m(x)\u001b[0m\n\u001b[0;32m      2\u001b[0m \u001b[38;5;28;01mif\u001b[39;00m x \u001b[38;5;241m>\u001b[39m \u001b[38;5;241m0\u001b[39m:\n\u001b[0;32m      3\u001b[0m     y \u001b[38;5;241m=\u001b[39m \u001b[38;5;241m10\u001b[39m\n\u001b[1;32m----> 4\u001b[0m \u001b[38;5;28mprint\u001b[39m(\u001b[43my\u001b[49m)\n",
      "\u001b[1;31mUnboundLocalError\u001b[0m: local variable 'y' referenced before assignment"
     ]
    }
   ],
   "source": [
    "def foo(x):\n",
    "    if x > 0:\n",
    "        y = 10\n",
    "    print(y)\n",
    "\n",
    "foo(10) # geçerli\n",
    "foo(-10) # geçersiz"
   ]
  },
  {
   "cell_type": "markdown",
   "metadata": {},
   "source": [
    "## Değişkenlerin Ömürleri\n",
    "\n",
    "Tüm değişkenler aslında nesnelerin adreslerini tutmaktadır. Değişkenlerin bellekte yer kapladığı zaman aralığına ömür denilmektedir. Değişkenler sürekli bellekte yer kaplamazlar. Programın çalışmasının belli bir aşamasında hayata gelip belli bir aşamasında yok edilirler. Python'da bir global değişken o değişkene ilk kez değer atandığı noktada yaratılıyor. Program sonlanana kadar bellekte kalır. Yerel değişkenler ise fonksiyon ya da metot çağırılıp onlara ilk kez değer atandığında yaratılıyor ve akış fonksiyondan ya da metottan çıkılınca otomatik olarak yok ediliyor. Yani yerel değişkenler sürekli bellekte kalmazlar. Fonksiyon ya da method bitiğinde onlar bellekten uçurulurlar. Parametre değişkenleri de python'da fonksiyon ya da metot çağrıldığında yaratılıyor. fonksiyon ya da metot bitince ölürler. \n",
    "\n",
    "nesneler onları hiçbir değişken göstermediği durumda \"çop toplayıcı (garbage collector)\" denilen mekanizma tarafından otomatik olarak yok ediliyor. "
   ]
  },
  {
   "cell_type": "markdown",
   "metadata": {},
   "source": [
    "## map fonksiyonu\n",
    "\n",
    "map(function, iterable, *args)"
   ]
  },
  {
   "cell_type": "code",
   "execution_count": 33,
   "metadata": {},
   "outputs": [
    {
     "name": "stdout",
     "output_type": "stream",
     "text": [
      "[1, 4, 9, 16, 25]\n"
     ]
    }
   ],
   "source": [
    "a = [1, 2, 3, 4, 5]\n",
    "\n",
    "def foo(n):\n",
    "    return n * n\n",
    "\n",
    "b = map(foo, a)\n",
    "print(list(b))"
   ]
  },
  {
   "cell_type": "code",
   "execution_count": 35,
   "metadata": {},
   "outputs": [
    {
     "name": "stdout",
     "output_type": "stream",
     "text": [
      "[1.0, 1.4142135623730951, 1.7320508075688772, 2.0, 2.23606797749979]\n"
     ]
    }
   ],
   "source": [
    "import math\n",
    "\n",
    "a = [1, 2, 3, 4, 5]\n",
    "b = list(map(math.sqrt, a))\n",
    "print(b)"
   ]
  },
  {
   "cell_type": "code",
   "execution_count": 37,
   "metadata": {},
   "outputs": [
    {
     "name": "stdout",
     "output_type": "stream",
     "text": [
      "7\n"
     ]
    }
   ],
   "source": [
    "names = [\"oğuzhan\", \"beyza\", \"pelin\", \"ayşe\", \"fatma\"]\n",
    "print(max(map(len, names)))"
   ]
  },
  {
   "cell_type": "code",
   "execution_count": 38,
   "metadata": {},
   "outputs": [
    {
     "name": "stdout",
     "output_type": "stream",
     "text": [
      "5\n"
     ]
    }
   ],
   "source": [
    "# İki boyutlu bir listenin en uzun olan elemanının uzunluğunu map fonksiyonu ile yapalım.\n",
    "\n",
    "a = [\n",
    "    [1, 2, 3, 4, 5],\n",
    "    [5, 6],\n",
    "    [7, 8, 9],\n",
    "    [10]\n",
    "]\n",
    "\n",
    "print(max(map(len, a)))"
   ]
  },
  {
   "cell_type": "code",
   "execution_count": 39,
   "metadata": {},
   "outputs": [
    {
     "name": "stdout",
     "output_type": "stream",
     "text": [
      "16 37 48 \n"
     ]
    }
   ],
   "source": [
    "a = [1, 2, 3, 4, 5]\n",
    "b = [10, 20, 30]\n",
    "c = [5, 15, 15, 20, 25, 30]\n",
    "\n",
    "def foo(x, y, z):\n",
    "    return x + y + z \n",
    "\n",
    "for x in map(foo, a, b, c):\n",
    "    print(x, end = ' ')\n",
    "\n",
    "print()"
   ]
  },
  {
   "cell_type": "markdown",
   "metadata": {},
   "source": [
    "### İç içe fonksiyon tanımları\n",
    "\n",
    "bir fonksiyon içerisinde başka bir fonksiyon tanımlanabilmektedir. bu durumda iç fonksiyon yalnızca tanımlandığı fonksiyon içerisinden çağrılabilir."
   ]
  },
  {
   "cell_type": "code",
   "execution_count": 40,
   "metadata": {},
   "outputs": [
    {
     "name": "stdout",
     "output_type": "stream",
     "text": [
      "foo begins\n",
      "bar begins\n",
      "bar ends\n",
      "foo ends\n"
     ]
    }
   ],
   "source": [
    "def foo():\n",
    "    print('foo begins')\n",
    "    def bar():\n",
    "        print('bar begins')\n",
    "        print('bar ends')\n",
    "    bar()\n",
    "    print('foo ends')\n",
    "\n",
    "foo()"
   ]
  },
  {
   "cell_type": "code",
   "execution_count": 41,
   "metadata": {},
   "outputs": [
    {
     "name": "stdout",
     "output_type": "stream",
     "text": [
      "nested bar\n",
      "global bar\n"
     ]
    }
   ],
   "source": [
    "def bar():\n",
    "    print('global bar')\n",
    "\n",
    "def foo():\n",
    "    def bar():\n",
    "        print(\"nested bar\")\n",
    "    bar()\n",
    "\n",
    "foo()\n",
    "bar()"
   ]
  },
  {
   "cell_type": "code",
   "execution_count": 42,
   "metadata": {},
   "outputs": [
    {
     "ename": "UnboundLocalError",
     "evalue": "local variable 'bar' referenced before assignment",
     "output_type": "error",
     "traceback": [
      "\u001b[1;31m---------------------------------------------------------------------------\u001b[0m",
      "\u001b[1;31mUnboundLocalError\u001b[0m                         Traceback (most recent call last)",
      "Cell \u001b[1;32mIn[42], line 10\u001b[0m\n\u001b[0;32m      7\u001b[0m         \u001b[38;5;28mprint\u001b[39m(\u001b[38;5;124m\"\u001b[39m\u001b[38;5;124mnested bar\u001b[39m\u001b[38;5;124m\"\u001b[39m)\n\u001b[0;32m      8\u001b[0m     bar()\n\u001b[1;32m---> 10\u001b[0m \u001b[43mfoo\u001b[49m\u001b[43m(\u001b[49m\u001b[43m)\u001b[49m\n",
      "Cell \u001b[1;32mIn[42], line 5\u001b[0m, in \u001b[0;36mfoo\u001b[1;34m()\u001b[0m\n\u001b[0;32m      4\u001b[0m \u001b[38;5;28;01mdef\u001b[39;00m \u001b[38;5;21mfoo\u001b[39m():\n\u001b[1;32m----> 5\u001b[0m     \u001b[43mbar\u001b[49m()\n\u001b[0;32m      6\u001b[0m     \u001b[38;5;28;01mdef\u001b[39;00m \u001b[38;5;21mbar\u001b[39m():\n\u001b[0;32m      7\u001b[0m         \u001b[38;5;28mprint\u001b[39m(\u001b[38;5;124m\"\u001b[39m\u001b[38;5;124mnested bar\u001b[39m\u001b[38;5;124m\"\u001b[39m)\n",
      "\u001b[1;31mUnboundLocalError\u001b[0m: local variable 'bar' referenced before assignment"
     ]
    }
   ],
   "source": [
    "def bar():\n",
    "    print('global bar')\n",
    "\n",
    "def foo():\n",
    "    bar()\n",
    "    def bar():\n",
    "        print(\"nested bar\")\n",
    "    bar()\n",
    "\n",
    "foo()\n"
   ]
  },
  {
   "cell_type": "code",
   "execution_count": 43,
   "metadata": {},
   "outputs": [
    {
     "ename": "UnboundLocalError",
     "evalue": "local variable 'bar' referenced before assignment",
     "output_type": "error",
     "traceback": [
      "\u001b[1;31m---------------------------------------------------------------------------\u001b[0m",
      "\u001b[1;31mUnboundLocalError\u001b[0m                         Traceback (most recent call last)",
      "Cell \u001b[1;32mIn[43], line 7\u001b[0m\n\u001b[0;32m      4\u001b[0m     bar \u001b[38;5;241m=\u001b[39m \u001b[38;5;241m20\u001b[39m\n\u001b[0;32m      5\u001b[0m     \u001b[38;5;28mprint\u001b[39m(bar)\n\u001b[1;32m----> 7\u001b[0m \u001b[43mfoo\u001b[49m\u001b[43m(\u001b[49m\u001b[43m)\u001b[49m\n",
      "Cell \u001b[1;32mIn[43], line 3\u001b[0m, in \u001b[0;36mfoo\u001b[1;34m()\u001b[0m\n\u001b[0;32m      2\u001b[0m \u001b[38;5;28;01mdef\u001b[39;00m \u001b[38;5;21mfoo\u001b[39m():\n\u001b[1;32m----> 3\u001b[0m     \u001b[38;5;28mprint\u001b[39m(\u001b[43mbar\u001b[49m)\n\u001b[0;32m      4\u001b[0m     bar \u001b[38;5;241m=\u001b[39m \u001b[38;5;241m20\u001b[39m\n\u001b[0;32m      5\u001b[0m     \u001b[38;5;28mprint\u001b[39m(bar)\n",
      "\u001b[1;31mUnboundLocalError\u001b[0m: local variable 'bar' referenced before assignment"
     ]
    }
   ],
   "source": [
    "bar = 10\n",
    "def foo():\n",
    "    print(bar)\n",
    "    bar = 20\n",
    "    print(bar)\n",
    "\n",
    "foo()"
   ]
  },
  {
   "cell_type": "code",
   "execution_count": 44,
   "metadata": {},
   "outputs": [
    {
     "name": "stdout",
     "output_type": "stream",
     "text": [
      "global bar\n",
      "nested bar\n",
      "nested bar\n"
     ]
    }
   ],
   "source": [
    "def bar():\n",
    "    print('global bar')\n",
    "\n",
    "def foo():\n",
    "    global bar\n",
    "    bar()\n",
    "    def bar():\n",
    "        print('nested bar')\n",
    "    bar()\n",
    "\n",
    "foo()\n",
    "bar()"
   ]
  },
  {
   "cell_type": "code",
   "execution_count": 45,
   "metadata": {},
   "outputs": [
    {
     "name": "stdout",
     "output_type": "stream",
     "text": [
      "foo begins\n",
      "bar begins\n",
      "val = 10\n",
      "bar ends\n",
      "foo ends\n"
     ]
    }
   ],
   "source": [
    "def foo():\n",
    "    val = 10\n",
    "    print('foo begins')\n",
    "    def bar():\n",
    "        print('bar begins')\n",
    "        print('val = {0}'.format(val))\n",
    "        print('bar ends')\n",
    "\n",
    "    bar()\n",
    "    print('foo ends')\n",
    "\n",
    "foo()"
   ]
  },
  {
   "cell_type": "code",
   "execution_count": 46,
   "metadata": {},
   "outputs": [
    {
     "name": "stdout",
     "output_type": "stream",
     "text": [
      "20\n",
      "10\n"
     ]
    }
   ],
   "source": [
    "def foo():\n",
    "    x = 10\n",
    "    def bar():\n",
    "        x = 20 #yeni bir x\n",
    "        print(x)\n",
    "    \n",
    "    bar()\n",
    "    print(x)\n",
    "\n",
    "foo()"
   ]
  },
  {
   "cell_type": "code",
   "execution_count": 47,
   "metadata": {},
   "outputs": [
    {
     "ename": "UnboundLocalError",
     "evalue": "local variable 'x' referenced before assignment",
     "output_type": "error",
     "traceback": [
      "\u001b[1;31m---------------------------------------------------------------------------\u001b[0m",
      "\u001b[1;31mUnboundLocalError\u001b[0m                         Traceback (most recent call last)",
      "Cell \u001b[1;32mIn[47], line 11\u001b[0m\n\u001b[0;32m      8\u001b[0m     bar()\n\u001b[0;32m      9\u001b[0m     \u001b[38;5;28mprint\u001b[39m(x)\n\u001b[1;32m---> 11\u001b[0m \u001b[43mfoo\u001b[49m\u001b[43m(\u001b[49m\u001b[43m)\u001b[49m\n",
      "Cell \u001b[1;32mIn[47], line 8\u001b[0m, in \u001b[0;36mfoo\u001b[1;34m()\u001b[0m\n\u001b[0;32m      5\u001b[0m     x \u001b[38;5;241m=\u001b[39m \u001b[38;5;241m20\u001b[39m\n\u001b[0;32m      6\u001b[0m     \u001b[38;5;28mprint\u001b[39m(x)\n\u001b[1;32m----> 8\u001b[0m \u001b[43mbar\u001b[49m\u001b[43m(\u001b[49m\u001b[43m)\u001b[49m\n\u001b[0;32m      9\u001b[0m \u001b[38;5;28mprint\u001b[39m(x)\n",
      "Cell \u001b[1;32mIn[47], line 4\u001b[0m, in \u001b[0;36mfoo.<locals>.bar\u001b[1;34m()\u001b[0m\n\u001b[0;32m      3\u001b[0m \u001b[38;5;28;01mdef\u001b[39;00m \u001b[38;5;21mbar\u001b[39m():\n\u001b[1;32m----> 4\u001b[0m     \u001b[38;5;28mprint\u001b[39m(\u001b[43mx\u001b[49m)\n\u001b[0;32m      5\u001b[0m     x \u001b[38;5;241m=\u001b[39m \u001b[38;5;241m20\u001b[39m\n\u001b[0;32m      6\u001b[0m     \u001b[38;5;28mprint\u001b[39m(x)\n",
      "\u001b[1;31mUnboundLocalError\u001b[0m: local variable 'x' referenced before assignment"
     ]
    }
   ],
   "source": [
    "def foo():\n",
    "    x = 10\n",
    "    def bar():\n",
    "        print(x)\n",
    "        x = 20\n",
    "        print(x)\n",
    "    \n",
    "    bar()\n",
    "    print(x)\n",
    "\n",
    "foo()"
   ]
  },
  {
   "cell_type": "code",
   "execution_count": 50,
   "metadata": {},
   "outputs": [
    {
     "name": "stdout",
     "output_type": "stream",
     "text": [
      "10\n",
      "20\n",
      "20\n"
     ]
    }
   ],
   "source": [
    "def foo():\n",
    "    x = 10\n",
    "    def bar():\n",
    "        nonlocal x\n",
    "        print(x)\n",
    "        x = 20\n",
    "        print(x)\n",
    "    \n",
    "    bar()\n",
    "    print(x)\n",
    "\n",
    "foo()"
   ]
  },
  {
   "cell_type": "code",
   "execution_count": 51,
   "metadata": {},
   "outputs": [
    {
     "ename": "SyntaxError",
     "evalue": "no binding for nonlocal 'x' found (4012696884.py, line 4)",
     "output_type": "error",
     "traceback": [
      "\u001b[1;36m  Cell \u001b[1;32mIn[51], line 4\u001b[1;36m\u001b[0m\n\u001b[1;33m    nonlocal x\u001b[0m\n\u001b[1;37m    ^\u001b[0m\n\u001b[1;31mSyntaxError\u001b[0m\u001b[1;31m:\u001b[0m no binding for nonlocal 'x' found\n"
     ]
    }
   ],
   "source": [
    "x = 10\n",
    "def foo():\n",
    "    def bar():\n",
    "        nonlocal x # global kullanılmalı\n",
    "        print(x)\n",
    "        x = 20\n",
    "        print(x)\n",
    "    \n",
    "    bar()\n",
    "\n",
    "foo()"
   ]
  },
  {
   "cell_type": "code",
   "execution_count": 52,
   "metadata": {},
   "outputs": [
    {
     "name": "stdout",
     "output_type": "stream",
     "text": [
      "20\n"
     ]
    }
   ],
   "source": [
    "def foo():\n",
    "    x = 10\n",
    "    def bar():\n",
    "        def tar():\n",
    "            nonlocal x #foo'daki x\n",
    "            x = 20\n",
    "        tar()\n",
    "    bar()\n",
    "    print(x) # 20\n",
    "\n",
    "foo()"
   ]
  },
  {
   "cell_type": "code",
   "execution_count": 54,
   "metadata": {},
   "outputs": [
    {
     "name": "stdout",
     "output_type": "stream",
     "text": [
      "30\n"
     ]
    }
   ],
   "source": [
    "def foo():\n",
    "    x = 10\n",
    "    def bar():\n",
    "        nonlocal x # foo'daki x\n",
    "        x = 20\n",
    "        def tar():\n",
    "            nonlocal x # bar'daki x\n",
    "            x = 30\n",
    "        tar()\n",
    "    bar()\n",
    "    print(x) # 30\n",
    "\n",
    "foo()"
   ]
  },
  {
   "cell_type": "code",
   "execution_count": 55,
   "metadata": {},
   "outputs": [
    {
     "ename": "SyntaxError",
     "evalue": "no binding for nonlocal 'x' found (68155037.py, line 6)",
     "output_type": "error",
     "traceback": [
      "\u001b[1;36m  Cell \u001b[1;32mIn[55], line 6\u001b[1;36m\u001b[0m\n\u001b[1;33m    nonlocal x\u001b[0m\n\u001b[1;37m    ^\u001b[0m\n\u001b[1;31mSyntaxError\u001b[0m\u001b[1;31m:\u001b[0m no binding for nonlocal 'x' found\n"
     ]
    }
   ],
   "source": [
    "# nonlocal bildirimdenki değişken üst fonksiyondaki global bildirilmiş değişken olamaz.\n",
    "\n",
    "x = 10\n",
    "def foo():\n",
    "    global x\n",
    "    x = 20\n",
    "    def bar():\n",
    "        nonlocal x\n",
    "        bar()\n",
    "    \n",
    "foo()\n",
    "print(x)"
   ]
  },
  {
   "cell_type": "markdown",
   "metadata": {},
   "source": [
    "Ne anlamı var?\n",
    "\n",
    "eğer bir fonksiyon genel olmaktan ziyade yalnızca başka bir fonksiyonun yazılmasında bir araç olarka kullanılacaksa o fonksiyonu asıl fonksiyonun içerisinde tanımlamak daha iyi bir soyutlama sağlar. "
   ]
  },
  {
   "cell_type": "code",
   "execution_count": 56,
   "metadata": {},
   "outputs": [
    {
     "name": "stdout",
     "output_type": "stream",
     "text": [
      "2 3 5 7 11 13 17 19 23 29 31 37 41 43 47 53 59 61 67 71 73 79 83 89 97 "
     ]
    }
   ],
   "source": [
    "# write_primes(100)\n",
    "# is_prime\n",
    "\n",
    "def write_primes(val):\n",
    "    \n",
    "    def is_prime(val):\n",
    "        if val % 2 == 0:\n",
    "            return val == 2 \n",
    "        \n",
    "        for i in range(3, val, 2):\n",
    "            if val % i == 0:\n",
    "                return False\n",
    "        \n",
    "        return True\n",
    "    \n",
    "    for i in range(2, val + 1):\n",
    "        if is_prime(i):\n",
    "            print(i, end=' ')\n",
    "\n",
    "\n",
    "write_primes(100)      "
   ]
  },
  {
   "cell_type": "code",
   "execution_count": 57,
   "metadata": {},
   "outputs": [
    {
     "name": "stdout",
     "output_type": "stream",
     "text": [
      "10\n",
      "11\n",
      "12\n"
     ]
    }
   ],
   "source": [
    "def foo():\n",
    "    x = 10\n",
    "    def bar():\n",
    "        nonlocal x\n",
    "        print(x)\n",
    "        x += 1\n",
    "    return bar\n",
    "\n",
    "f = foo()\n",
    "f()\n",
    "f()\n",
    "f()"
   ]
  },
  {
   "cell_type": "code",
   "execution_count": 60,
   "metadata": {},
   "outputs": [
    {
     "name": "stdout",
     "output_type": "stream",
     "text": [
      "10\n",
      "10\n"
     ]
    }
   ],
   "source": [
    "def foo(a):\n",
    "    x = a\n",
    "    def bar():\n",
    "        print(x)\n",
    "    return bar\n",
    "\n",
    "f = foo(10)\n",
    "f()\n",
    "foo(20)\n",
    "f()"
   ]
  },
  {
   "cell_type": "markdown",
   "metadata": {},
   "source": [
    "### İsim Arama (name lookup)"
   ]
  }
 ],
 "metadata": {
  "kernelspec": {
   "display_name": "base",
   "language": "python",
   "name": "python3"
  },
  "language_info": {
   "codemirror_mode": {
    "name": "ipython",
    "version": 3
   },
   "file_extension": ".py",
   "mimetype": "text/x-python",
   "name": "python",
   "nbconvert_exporter": "python",
   "pygments_lexer": "ipython3",
   "version": "3.8.16"
  }
 },
 "nbformat": 4,
 "nbformat_minor": 2
}
