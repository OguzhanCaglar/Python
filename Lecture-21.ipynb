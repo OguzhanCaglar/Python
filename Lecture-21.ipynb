{
 "cells": [
  {
   "cell_type": "code",
   "execution_count": 1,
   "metadata": {},
   "outputs": [
    {
     "name": "stdout",
     "output_type": "stream",
     "text": [
      "Lecture-21\n"
     ]
    }
   ],
   "source": [
    "print('Lecture-21')"
   ]
  },
  {
   "cell_type": "markdown",
   "metadata": {},
   "source": [
    "### Türetilmiş Sınıflarda __init__ Metodu\n",
    "\n",
    "A.__init__(self, ...)       --> iyi bir teknik değil. çünkü bu çağırımda MRO sırasına bakılmamaktadır.\n",
    "super().__init__(...)\n",
    "super(A, self).__init__()"
   ]
  },
  {
   "cell_type": "code",
   "execution_count": 2,
   "metadata": {},
   "outputs": [
    {
     "name": "stdout",
     "output_type": "stream",
     "text": [
      "(<class '__main__.D'>, <class '__main__.B'>, <class '__main__.C'>, <class '__main__.A'>, <class 'object'>)\n",
      "A.__init__\n",
      "B.__init__\n",
      "A.__init__\n",
      "C.__init__\n",
      "D.__init__\n"
     ]
    }
   ],
   "source": [
    "class A:\n",
    "    def __init__(self):\n",
    "        print('A.__init__')\n",
    "\n",
    "class B(A):\n",
    "    def __init__(self):\n",
    "        A.__init__(self)\n",
    "        print('B.__init__')\n",
    "\n",
    "class C(A):\n",
    "    def __init__(self):\n",
    "        A.__init__(self)\n",
    "        print('C.__init__')\n",
    "\n",
    "class D(B, C):\n",
    "    def __init__(self):\n",
    "        B.__init__(self)\n",
    "        C.__init__(self)\n",
    "        print('D.__init__')\n",
    "\n",
    "print(D.__mro__)\n",
    "d = D()"
   ]
  },
  {
   "cell_type": "code",
   "execution_count": 3,
   "metadata": {},
   "outputs": [
    {
     "name": "stdout",
     "output_type": "stream",
     "text": [
      "(<class '__main__.D'>, <class '__main__.B'>, <class '__main__.C'>, <class '__main__.A'>, <class 'object'>)\n",
      "A.__init__\n",
      "C.__init__\n",
      "B.__init__\n",
      "D.__init__\n"
     ]
    }
   ],
   "source": [
    "class A:\n",
    "    def __init__(self):\n",
    "        print('A.__init__')\n",
    "\n",
    "class B(A):\n",
    "    def __init__(self):\n",
    "        super().__init__()\n",
    "        print('B.__init__')\n",
    "\n",
    "class C(A):\n",
    "    def __init__(self):\n",
    "        super().__init__()\n",
    "        print('C.__init__')\n",
    "\n",
    "class D(B, C):\n",
    "    def __init__(self):\n",
    "        super().__init__()\n",
    "        print('D.__init__')\n",
    "\n",
    "print(D.__mro__)\n",
    "d = D()"
   ]
  },
  {
   "cell_type": "code",
   "execution_count": 4,
   "metadata": {},
   "outputs": [],
   "source": [
    "class D(B, C):\n",
    "    def __init__(self):\n",
    "        super(D, self).__init__()\n",
    "        # diğer işlemler"
   ]
  },
  {
   "cell_type": "markdown",
   "metadata": {},
   "source": [
    "Eğer bir sınıfın bir taban sınıfı yoksa (yani sınıf object sınıfından türetilmişse) programcılar bu sınıfların __init__ metotlarında object sınıfınn __init__ metotlarını çağırmazlar. (Tabbi çağırmalarında bir sıkıntı olmaz). Dolayısıyla sınıflar bizim tarafımızdan yazılmamışlarsa onlar da süper çağrısı ypaılmadığını içni yine sorun oluşabilecektir."
   ]
  },
  {
   "cell_type": "code",
   "execution_count": 13,
   "metadata": {},
   "outputs": [
    {
     "name": "stdout",
     "output_type": "stream",
     "text": [
      "A.__init__\n",
      "C.__init__\n",
      "(<class '__main__.C'>, <class '__main__.A'>, <class '__main__.B'>, <class 'object'>)\n"
     ]
    }
   ],
   "source": [
    "class A:\n",
    "    def __init__(self):\n",
    "        print('A.__init__')\n",
    "\n",
    "class B:\n",
    "    def __init__(self):\n",
    "        print('B.__init__')\n",
    "\n",
    "class C(A, B):\n",
    "    def __init__(self):\n",
    "        super(C, self).__init__()\n",
    "        print('C.__init__')\n",
    "\n",
    "c = C()\n",
    "print(C.__mro__)"
   ]
  },
  {
   "cell_type": "code",
   "execution_count": 7,
   "metadata": {},
   "outputs": [
    {
     "name": "stdout",
     "output_type": "stream",
     "text": [
      "A.__init__\n",
      "B.__init__\n",
      "C.__init__\n"
     ]
    }
   ],
   "source": [
    "class A:\n",
    "    def __init__(self):\n",
    "        print('A.__init__')\n",
    "\n",
    "class B:\n",
    "    def __init__(self):\n",
    "        print('B.__init__')\n",
    "\n",
    "class C(A, B):\n",
    "    def __init__(self):\n",
    "        A.__init__(self)\n",
    "        B.__init__(self)\n",
    "        print('C.__init__')\n",
    "\n",
    "c = C()"
   ]
  },
  {
   "cell_type": "markdown",
   "metadata": {},
   "source": [
    "Çoklu türetme sırasında türemiş sınıftan taban sınıfa __init__ metotlarında veri aktarılması biraz azhemtledir. MRO sırası her zaman bir sınıfın doğrudan taban sınıfı ile ilişki olmadığı için parametlrelerin diğer sınıflara aktraılması sorun olabilmektedir. İşte bunun için foknsionların **'lı parametrelerinden ve argümanlarından faydalanılır."
   ]
  },
  {
   "cell_type": "code",
   "execution_count": 15,
   "metadata": {},
   "outputs": [
    {
     "name": "stdout",
     "output_type": "stream",
     "text": [
      "(<class '__main__.D'>, <class '__main__.B'>, <class '__main__.C'>, <class '__main__.A'>, <class 'object'>)\n",
      "A.__init__\n",
      "C.__init__\n",
      "B.__init__\n",
      "D.__init__\n",
      "20 30 40 10\n"
     ]
    }
   ],
   "source": [
    "class A:\n",
    "    def __init__(self, a):\n",
    "        self.a = a\n",
    "        print('A.__init__')\n",
    "\n",
    "class B(A):\n",
    "    def __init__(self, b, **args):\n",
    "        super().__init__(**args)\n",
    "        self.b = b\n",
    "        print('B.__init__')\n",
    "\n",
    "class C(A):\n",
    "    def __init__(self, c, **args):\n",
    "        super().__init__(**args)\n",
    "        self.c = c\n",
    "        print('C.__init__')\n",
    "\n",
    "class D(B, C):\n",
    "    def __init__(self, d, **args):\n",
    "        super().__init__(**args)\n",
    "        self.d = d\n",
    "        print('D.__init__')\n",
    "\n",
    "print(D.__mro__)\n",
    "d = D(10, a = 20, b = 30, c = 40)\n",
    "print(d.a, d.b, d.c, d.d)"
   ]
  },
  {
   "cell_type": "code",
   "execution_count": 16,
   "metadata": {},
   "outputs": [
    {
     "name": "stdout",
     "output_type": "stream",
     "text": [
      "(<class '__main__.B'>, <class '__main__.A'>, <class 'object'>)\n",
      "A.__init__\n"
     ]
    }
   ],
   "source": [
    "class A:\n",
    "    def __init__(self):\n",
    "        print('A.__init__')\n",
    "\n",
    "class B(A):\n",
    "    pass\n",
    "\n",
    "print(B.__mro__) \n",
    "b = B()"
   ]
  },
  {
   "cell_type": "markdown",
   "metadata": {},
   "source": [
    "### Kapsülleme (Encapsulation) ve Örnek Özniteliklerinin Dışarıdan Gizlenmesi (Data Hiding)\n",
    "\n",
    "NYPT'de bir olgunun bir sınıf ile temsil edilip o sınıfın dışarıyı ilgilendirmeyen elemanlarının dışarıdan gizlenmesine \"kapsülleme(encapsulation)\" ve veri elemanlarının dışardan gizlenmesine de \"data hiding\" denilmektedir. private, protected, public gibi bölümleri yoktur. yani python'da zaten default olarak sınıfın tüm elemanları public gibidir. herhangi bir elemanı dışarıdan gizlemenin etkin bir yolu da yoktur. \n",
    "\n",
    "Eğer bir özniteliğin ya da metodun isimi _ (single underscore) ile başlatılarak isimlendirilmişse Python dünyasında bu öznitelikler \"private\" eleman olarak değerlendirilmektedir. Gerçi _xxx biçimindeki özniteliklere dışarıdan yine isteyenler erişebiliyorsa da kodu anlamlandıran kişiler bunları private eleman gibi ele almaktadır. \n",
    "\n",
    "Sınıf elemanlarının __ (double underscore) ile başlatılarak isimlendirmesi de mevcuttur. Böyle değişkenlere dışaırdan ilgili sınıf türünden değişken ve .operatörü ile erişlemez. Ancak bu kısıtlama da aslında bu değişkenin dışaırdan kullanımını tamamen ortadan kaldırmamaktadır. __xxx --> sınıf_ismi __eleman_ismi. X sınıfının __x isimli bir elemanı dışarıdan __x ismiyle kullanılamaz. Ancak _X__x ismiyle kullanılabilir. "
   ]
  },
  {
   "cell_type": "code",
   "execution_count": 19,
   "metadata": {},
   "outputs": [
    {
     "name": "stdout",
     "output_type": "stream",
     "text": [
      "10\n",
      "Sample.__foo\n"
     ]
    },
    {
     "ename": "AttributeError",
     "evalue": "'Sample' object has no attribute '__foo'",
     "output_type": "error",
     "traceback": [
      "\u001b[1;31m---------------------------------------------------------------------------\u001b[0m",
      "\u001b[1;31mAttributeError\u001b[0m                            Traceback (most recent call last)",
      "Cell \u001b[1;32mIn[19], line 15\u001b[0m\n\u001b[0;32m     13\u001b[0m s\u001b[38;5;241m.\u001b[39m_a \u001b[38;5;241m=\u001b[39m \u001b[38;5;241m20\u001b[39m \u001b[38;5;66;03m# kötü teknik, _ ile başlatılan değişkenler dışarıdan kullanılmamalıdır!\u001b[39;00m\n\u001b[0;32m     14\u001b[0m s\u001b[38;5;241m.\u001b[39m_Sample__foo()\n\u001b[1;32m---> 15\u001b[0m \u001b[43ms\u001b[49m\u001b[38;5;241;43m.\u001b[39;49m\u001b[43m__foo\u001b[49m()\n",
      "\u001b[1;31mAttributeError\u001b[0m: 'Sample' object has no attribute '__foo'"
     ]
    }
   ],
   "source": [
    "class Sample:\n",
    "    def __init__(self, a):\n",
    "        self._a = a\n",
    "    \n",
    "    def disp(self):\n",
    "        print(self._a)\n",
    "    \n",
    "    def __foo(self):\n",
    "        print('Sample.__foo')\n",
    "\n",
    "s = Sample(10)\n",
    "s.disp()\n",
    "s._a = 20 # kötü teknik, _ ile başlatılan değişkenler dışarıdan kullanılmamalıdır!\n",
    "s._Sample__foo()\n",
    "s.__foo() # Exception"
   ]
  },
  {
   "cell_type": "code",
   "execution_count": 21,
   "metadata": {},
   "outputs": [
    {
     "name": "stdout",
     "output_type": "stream",
     "text": [
      "Sample.__foo\n"
     ]
    }
   ],
   "source": [
    "Sample._Sample__foo(s)"
   ]
  },
  {
   "cell_type": "markdown",
   "metadata": {},
   "source": [
    "_xxx ile __xxx isimlendirmeleri arasında niyet bakımından bir farklılık var mı? __xxx isimlendirmesinin daha yüksek bir \"buna dokunma\" niyeti taşıdığını söyleyebiliriz. _xxx isimlendirmesi bu anlamda __xxx isimlendirmesine göre daha düşük bir niyet taşımaktadır.\n",
    "\n",
    "__xxx__ bunlar __xxx isimli değişkenler gibi ele alınmamaktadır. başında ve sonunda __ olan sınıf elemanları özel elemanlardır. "
   ]
  },
  {
   "cell_type": "markdown",
   "metadata": {},
   "source": [
    "### ÇokBiçimlilik (Polymorphism)\n",
    "\n",
    "Biyolojide çokbiçimlilik canlıların çeşitli doku ve organlarının onların yaşam koşullarına göre temel işlevleri aynı kalmak üzere farklılaşmasına denilmektedir. Yazılımda çokbiçimlilik türden bağımsız kod parçalarının oluşturulması için kullanılan bir tekniktir. Türünü bilmeden nesne üzerinde işlem yapmayı sağlar. Çokbiçimlilik sınıflara iligli bir kavramdır. Uygulanabilmesi için farklı sınıfların bulunuyor olması gerekir. \n",
    "\n",
    "Çokbiçimlilik farklı sınıfların belli bir eylemi temel işlev aynı kalmak üzere kendilerine göre farklı biçimlerde ypaması durumudur. play_music --> play --> bu play metodu çokbiçimli bir metotdur. yani pek çok sınıfta play varıdr. her sınıfın play metodu kendine göre (örneğin farklı formatlara göre) bu çalma eylemini gerçekleştirir.\n",
    "\n",
    "def play_music(p):\n",
    "    p.play()\n",
    "\n",
    "bizim bu play_music fonksiyonuna geçireciğimix sınıf nesnesinin play isimli bir metodu olmalıdır. o halde biz bu foknsiyona farklı sınıfları parametre olarak geçirebiliriz. yeter ki onların play metotları olsun. böylece bu fonksiyon kendisine geçirilen sınıfın detaylarını bilmez. kendisine parametre yoluyla geçirilen nesnenin bir müzik çaldırma yeteneğie sahip olduğnu bilmesi yeterlidir."
   ]
  },
  {
   "cell_type": "code",
   "execution_count": 22,
   "metadata": {},
   "outputs": [
    {
     "name": "stdout",
     "output_type": "stream",
     "text": [
      "MP3 Çalıyor\n",
      "Wav Çalıyor\n",
      "WMA Çalıyor\n",
      "M4A Çalıyor\n"
     ]
    }
   ],
   "source": [
    "class MP3:\n",
    "    def __init__(self, path):\n",
    "        self.path = path\n",
    "    \n",
    "    def play(self):\n",
    "        print('MP3 Çalıyor')\n",
    "\n",
    "class WAV:\n",
    "    def __init__(self, path):\n",
    "        self.path = path\n",
    "    \n",
    "    def play(self):\n",
    "        print('Wav Çalıyor')\n",
    "\n",
    "class WMA:\n",
    "    def __init__(self, path):\n",
    "        self.path = path\n",
    "    \n",
    "    def play(self):\n",
    "        print('WMA Çalıyor')\n",
    "\n",
    "class M4A:\n",
    "    def __init__(self, path):\n",
    "        self.path = path\n",
    "    \n",
    "    def play(self):\n",
    "        print('M4A Çalıyor')\n",
    "\n",
    "def playMusic(p):\n",
    "    p.play()\n",
    "\n",
    "mp3 = MP3('C:\\\\OGUZHAN\\\\OGUZHAN.mp3')\n",
    "wav = WAV('C:\\\\OGUZHAN\\\\OGUZHAN.mp3')\n",
    "wma = WMA('C:\\\\OGUZHAN\\\\OGUZHAN.mp3')\n",
    "m4a = M4A('C:\\\\OGUZHAN\\\\OGUZHAN.mp3')\n",
    "\n",
    "playMusic(mp3)\n",
    "playMusic(wav)\n",
    "playMusic(wma)\n",
    "playMusic(m4a)"
   ]
  },
  {
   "cell_type": "markdown",
   "metadata": {},
   "source": [
    "Bir işletmede çalışan kişilerin maaşları değişik formüllere göre hesaplanıyor olabilir. o halde maaş hesaplama çokbiçimli bir eylemdir. yani her çalışanın maaş hesaplaması var fakat biriblerinden az çok farklı yapılmaktadır. üç tür çalışan maaş örneği: "
   ]
  },
  {
   "cell_type": "code",
   "execution_count": 23,
   "metadata": {},
   "outputs": [
    {
     "name": "stdout",
     "output_type": "stream",
     "text": [
      "Adı: Oguzhan, Maaş: 1200\n",
      "Adı: Beyza, Maaş: 8400.0\n",
      "Adı: Ayşe, Maaş: 3300.0\n",
      "Toplam Maaş: 12900.0\n"
     ]
    }
   ],
   "source": [
    "class Employee:\n",
    "    def __init__(self, name):\n",
    "        self.name = name\n",
    "\n",
    "class Worker(Employee):\n",
    "    def __init__(self, name, weekHours):\n",
    "        super().__init__(name)\n",
    "        self.weekHours = weekHours\n",
    "\n",
    "    def calc_salary(self):\n",
    "        return self.weekHours * 30\n",
    "\n",
    "class Manager(Employee):\n",
    "    def __init__(self, name, prim):\n",
    "        super().__init__(name)\n",
    "        self.prim = prim\n",
    "\n",
    "    def calc_salary(self):\n",
    "        return 7000 + 7000 * self.prim\n",
    "    \n",
    "class Sales_Person(Employee):\n",
    "    def __init__(self, name, prim):\n",
    "        super().__init__(name)\n",
    "        self.prim = prim\n",
    "\n",
    "    def calc_salary(self):\n",
    "        return 3000 + 3000 * self.prim\n",
    "\n",
    "employees = [Worker('Oguzhan', 40), Manager('Beyza', 0.20), Sales_Person('Ayşe', 0.10)]\n",
    "\n",
    "for emp in employees:\n",
    "    print('Adı: {}, Maaş: {}'.format(emp.name, emp.calc_salary()))\n",
    "\n",
    "salary = 0\n",
    "for emp in employees:\n",
    "    salary += emp.calc_salary()\n",
    "\n",
    "print('Toplam Maaş: {}'.format(salary))"
   ]
  },
  {
   "cell_type": "code",
   "execution_count": 25,
   "metadata": {},
   "outputs": [
    {
     "name": "stdout",
     "output_type": "stream",
     "text": [
      "BarShape moves down\n",
      "BarShape moves down\n",
      "BarShape moves down\n",
      "BarShape moves down\n",
      "BarShape moves down\n",
      "BarShape moves down\n",
      "BarShape moves down\n",
      "BarShape moves down\n",
      "BarShape moves down\n",
      "BarShape moves down\n",
      "BarShape moves down\n",
      "BarShape moves down\n",
      "BarShape moves down\n",
      "BarShape moves down\n",
      "BarShape moves down\n",
      "BarShape moves down\n",
      "BarShape moves down\n",
      "BarShape moves down\n",
      "BarShape moves down\n",
      "BarShape moves down\n",
      "LShape moves down\n",
      "LShape moves down\n",
      "LShape moves down\n",
      "LShape moves down\n",
      "LShape moves down\n",
      "LShape moves down\n",
      "LShape moves down\n",
      "LShape moves down\n",
      "LShape moves down\n",
      "LShape moves down\n",
      "LShape moves down\n",
      "LShape moves down\n",
      "LShape moves down\n",
      "LShape moves down\n",
      "LShape moves down\n",
      "LShape moves down\n",
      "LShape moves down\n",
      "LShape moves down\n",
      "LShape moves down\n",
      "LShape moves down\n",
      "ZShape moves down\n",
      "ZShape moves down\n",
      "ZShape moves down\n",
      "ZShape moves down\n",
      "ZShape moves down\n",
      "ZShape moves down\n",
      "ZShape moves down\n",
      "ZShape moves down\n",
      "ZShape moves down\n",
      "ZShape moves down\n",
      "ZShape moves down\n",
      "ZShape moves down\n",
      "ZShape moves down\n",
      "ZShape moves down\n",
      "ZShape moves down\n",
      "ZShape moves down\n",
      "ZShape moves down\n",
      "ZShape moves down\n",
      "ZShape moves down\n",
      "ZShape moves down\n",
      "TShape moves down\n",
      "TShape moves down\n",
      "TShape moves down\n",
      "TShape moves down\n",
      "TShape moves down\n",
      "TShape moves down\n",
      "TShape moves down\n",
      "TShape moves down\n",
      "TShape moves down\n",
      "TShape moves down\n",
      "TShape moves down\n",
      "TShape moves down\n",
      "TShape moves down\n",
      "TShape moves down\n",
      "TShape moves down\n",
      "TShape moves down\n",
      "TShape moves down\n",
      "TShape moves down\n",
      "TShape moves down\n",
      "TShape moves down\n",
      "ZShape moves down\n",
      "ZShape moves down\n",
      "ZShape moves down\n",
      "ZShape moves down\n",
      "ZShape moves down\n",
      "ZShape moves down\n",
      "ZShape moves down\n",
      "ZShape moves down\n",
      "ZShape moves down\n",
      "ZShape moves down\n",
      "ZShape moves down\n",
      "ZShape moves down\n",
      "ZShape moves down\n",
      "ZShape moves down\n",
      "ZShape moves down\n",
      "ZShape moves down\n",
      "ZShape moves down\n",
      "ZShape moves down\n",
      "ZShape moves down\n",
      "ZShape moves down\n",
      "LShape moves down\n",
      "LShape moves down\n",
      "LShape moves down\n",
      "LShape moves down\n",
      "LShape moves down\n",
      "LShape moves down\n",
      "LShape moves down\n",
      "LShape moves down\n",
      "LShape moves down\n",
      "LShape moves down\n",
      "LShape moves down\n",
      "LShape moves down\n",
      "LShape moves down\n",
      "LShape moves down\n",
      "LShape moves down\n",
      "LShape moves down\n",
      "LShape moves down\n",
      "LShape moves down\n",
      "LShape moves down\n",
      "LShape moves down\n",
      "SquareShape moves down\n",
      "SquareShape moves down\n",
      "SquareShape moves down\n",
      "SquareShape moves down\n",
      "SquareShape moves down\n",
      "SquareShape moves down\n",
      "SquareShape moves down\n",
      "SquareShape moves down\n",
      "SquareShape moves down\n",
      "SquareShape moves down\n",
      "SquareShape moves down\n",
      "SquareShape moves down\n",
      "SquareShape moves down\n",
      "SquareShape moves down\n",
      "SquareShape moves down\n",
      "SquareShape moves down\n",
      "SquareShape moves down\n",
      "SquareShape moves down\n",
      "SquareShape moves down\n",
      "SquareShape moves down\n"
     ]
    },
    {
     "ename": "KeyboardInterrupt",
     "evalue": "",
     "output_type": "error",
     "traceback": [
      "\u001b[1;31m---------------------------------------------------------------------------\u001b[0m",
      "\u001b[1;31mKeyboardInterrupt\u001b[0m                         Traceback (most recent call last)",
      "Cell \u001b[1;32mIn[25], line 39\u001b[0m\n\u001b[0;32m     36\u001b[0m                 time\u001b[38;5;241m.\u001b[39msleep(\u001b[38;5;241m0.5\u001b[39m)\n\u001b[0;32m     38\u001b[0m tetris \u001b[38;5;241m=\u001b[39m Tetris()\n\u001b[1;32m---> 39\u001b[0m \u001b[43mtetris\u001b[49m\u001b[38;5;241;43m.\u001b[39;49m\u001b[43mrun\u001b[49m\u001b[43m(\u001b[49m\u001b[43m)\u001b[49m\n",
      "Cell \u001b[1;32mIn[25], line 36\u001b[0m, in \u001b[0;36mTetris.run\u001b[1;34m(self)\u001b[0m\n\u001b[0;32m     34\u001b[0m \u001b[38;5;28;01mfor\u001b[39;00m i \u001b[38;5;129;01min\u001b[39;00m \u001b[38;5;28mrange\u001b[39m(\u001b[38;5;241m20\u001b[39m):\n\u001b[0;32m     35\u001b[0m     shape\u001b[38;5;241m.\u001b[39mmove_down()\n\u001b[1;32m---> 36\u001b[0m     \u001b[43mtime\u001b[49m\u001b[38;5;241;43m.\u001b[39;49m\u001b[43msleep\u001b[49m\u001b[43m(\u001b[49m\u001b[38;5;241;43m0.5\u001b[39;49m\u001b[43m)\u001b[49m\n",
      "\u001b[1;31mKeyboardInterrupt\u001b[0m: "
     ]
    }
   ],
   "source": [
    "class Shape:\n",
    "    pass\n",
    "\n",
    "class SquareShape(Shape):\n",
    "    def move_down(self):\n",
    "        print('SquareShape moves down')\n",
    "\n",
    "class BarShape(Shape):\n",
    "    def move_down(self):\n",
    "        print('BarShape moves down')\n",
    "\n",
    "class TShape(Shape):\n",
    "    def move_down(self):\n",
    "        print('TShape moves down')\n",
    "\n",
    "class LShape(Shape):\n",
    "    def move_down(self):\n",
    "        print('LShape moves down')\n",
    "\n",
    "class ZShape(Shape):\n",
    "    def move_down(self):\n",
    "        print('ZShape moves down')\n",
    "\n",
    "import random\n",
    "import time\n",
    "\n",
    "class Tetris:\n",
    "    def get_random_shape(self):\n",
    "        return random.choice([ZShape, TShape, SquareShape, BarShape, LShape])()\n",
    "    \n",
    "    def run(self):\n",
    "        while True:\n",
    "            shape = self.get_random_shape()\n",
    "            for i in range(20):\n",
    "                shape.move_down()\n",
    "                time.sleep(0.5)\n",
    "\n",
    "tetris = Tetris()\n",
    "tetris.run()"
   ]
  },
  {
   "cell_type": "markdown",
   "metadata": {},
   "source": [
    "Çok biçimlilik farklı nesnelerin farklılığını dikkate almadan sanki aynı nesneymiş gibi ele alınmasını sağlamaktadır. bu kodun organizasyonunu ve test edilmesini kolaylaştırıyor."
   ]
  },
  {
   "cell_type": "markdown",
   "metadata": {},
   "source": [
    "## __str__ ve __repr__ metotları"
   ]
  },
  {
   "cell_type": "markdown",
   "metadata": {},
   "source": []
  }
 ],
 "metadata": {
  "kernelspec": {
   "display_name": "base",
   "language": "python",
   "name": "python3"
  },
  "language_info": {
   "codemirror_mode": {
    "name": "ipython",
    "version": 3
   },
   "file_extension": ".py",
   "mimetype": "text/x-python",
   "name": "python",
   "nbconvert_exporter": "python",
   "pygments_lexer": "ipython3",
   "version": "3.8.16"
  }
 },
 "nbformat": 4,
 "nbformat_minor": 2
}
