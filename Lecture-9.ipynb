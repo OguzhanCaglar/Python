{
 "cells": [
  {
   "cell_type": "code",
   "execution_count": 2,
   "metadata": {},
   "outputs": [
    {
     "name": "stdout",
     "output_type": "stream",
     "text": [
      "[10, 9, 8, 7, 6, 5, 4, 3, 2, 1]\n"
     ]
    }
   ],
   "source": [
    "### Bir listeyi elemanlarını yer değiştirirerek ters yüz ediniz.\n",
    "a = [1, 2, 3, 4, 5, 6, 7, 8, 9, 10]\n",
    "\n",
    "i = 0\n",
    "lena = len(a)\n",
    "while i < lena // 2:\n",
    "    a[i], a[lena - 1 - i] = a[lena - 1 - i], a[i]\n",
    "    i += 1\n",
    "print(a)"
   ]
  },
  {
   "cell_type": "code",
   "execution_count": 3,
   "metadata": {},
   "outputs": [
    {
     "name": "stdout",
     "output_type": "stream",
     "text": [
      "[10, 9, 8, 7, 6, 5, 4, 3, 2, 1]\n"
     ]
    }
   ],
   "source": [
    "a = [1, 2, 3, 4, 5, 6, 7, 8, 9, 10]\n",
    "\n",
    "i = 0\n",
    "while i < lena // 2:\n",
    "    a[i], a[-i - 1] = a[-i - 1], a[i]\n",
    "    i += 1\n",
    "print(a)"
   ]
  },
  {
   "cell_type": "code",
   "execution_count": 5,
   "metadata": {},
   "outputs": [
    {
     "name": "stdout",
     "output_type": "stream",
     "text": [
      "\n",
      "\n",
      "\n",
      "\n",
      "\n",
      "\n",
      "\n",
      "\n",
      "uq\n"
     ]
    }
   ],
   "source": [
    "while(s := input('Bir yazı giriniz: ')) != 'quit':\n",
    "    print(s[::-1])\n"
   ]
  },
  {
   "cell_type": "code",
   "execution_count": 6,
   "metadata": {},
   "outputs": [
    {
     "name": "stdout",
     "output_type": "stream",
     "text": [
      "males\n",
      "nahzuğo\n",
      "azyeb\n",
      "tahres\n",
      "ituq\n"
     ]
    }
   ],
   "source": [
    "while True:\n",
    "    s = input(\"Bir yazı giriniz: \")\n",
    "    if s == 'quit':\n",
    "        break\n",
    "    print(s[::-1])"
   ]
  },
  {
   "cell_type": "markdown",
   "metadata": {},
   "source": [
    "#### FOR Döngüleri\n",
    "\n"
   ]
  },
  {
   "cell_type": "code",
   "execution_count": 7,
   "metadata": {},
   "outputs": [
    {
     "name": "stdout",
     "output_type": "stream",
     "text": [
      "1 2 3 4 5 6 7 8 9 10 "
     ]
    }
   ],
   "source": [
    "# for <değişken> in <dizilim>: <suit>\n",
    "# [else: <suit>]\n",
    "\n",
    "# in anahtar sözcüğünün sağındaki dolaşılabilir nesnenin sıradaki elemanı döngü değişkenine atanır, sonra döngü deyimleri çalıştırılır.\n",
    "\n",
    "a = [1, 2, 3, 4, 5, 6, 7, 8, 9, 10]\n",
    "\n",
    "for i in a:\n",
    "    print(i, end=' ')"
   ]
  },
  {
   "cell_type": "code",
   "execution_count": 8,
   "metadata": {},
   "outputs": [
    {
     "name": "stdout",
     "output_type": "stream",
     "text": [
      "a\n",
      "n\n",
      "k\n",
      "a\n",
      "r\n",
      "a\n"
     ]
    }
   ],
   "source": [
    "s = 'ankara'\n",
    "\n",
    "for c in s: print(c)"
   ]
  },
  {
   "cell_type": "code",
   "execution_count": 9,
   "metadata": {},
   "outputs": [
    {
     "name": "stdout",
     "output_type": "stream",
     "text": [
      "Veli => <class 'str'>\n",
      "10 => <class 'int'>\n",
      "12.4 => <class 'float'>\n",
      "Selami => <class 'str'>\n",
      "Ali => <class 'str'>\n"
     ]
    }
   ],
   "source": [
    "s = {'Ali', 'Veli', 10, 12.4, 'Selami'}\n",
    "\n",
    "for x in s:\n",
    "    print(x, '=>', type(x))"
   ]
  },
  {
   "cell_type": "code",
   "execution_count": 10,
   "metadata": {},
   "outputs": [
    {
     "name": "stdout",
     "output_type": "stream",
     "text": [
      "Ali => 123\n",
      "Veli => 478\n",
      "Selami => 75\n",
      "Ayşe => 642\n",
      "Fatma => 39\n"
     ]
    }
   ],
   "source": [
    "d = {'Ali': 123, 'Veli': 478, 'Selami': 75, 'Ayşe': 642, 'Fatma': 39}\n",
    "\n",
    "for key in d:\n",
    "    print(key, '=>', d[key])"
   ]
  },
  {
   "cell_type": "code",
   "execution_count": 11,
   "metadata": {},
   "outputs": [
    {
     "name": "stdout",
     "output_type": "stream",
     "text": [
      "{'Ali': 123, 'Veli': 478, 'Selami': 75, 'Ayşe': 642, 'Fatma': 39}\n",
      "{123: 'Ali', 478: 'Veli', 75: 'Selami', 642: 'Ayşe', 39: 'Fatma'}\n"
     ]
    }
   ],
   "source": [
    "# Bir sözlüğü for döngüsüyle dolaşarak anahtarları elde ediniz. Yeni bir sözlük yaratarak dolaştığınız sözlüğün değerlerini anahtar,\n",
    "# anahtarlarını da değer haline getiriniz. Sonra da her iki sözlüğü yazdırınız:\n",
    "\n",
    "d = {'Ali': 123, 'Veli': 478, 'Selami': 75, 'Ayşe': 642, 'Fatma': 39}\n",
    "k = dict()\n",
    "\n",
    "for key in d:\n",
    "    k[d[key]] = key\n",
    "\n",
    "print(d)\n",
    "print(k)"
   ]
  },
  {
   "cell_type": "code",
   "execution_count": 12,
   "metadata": {},
   "outputs": [
    {
     "name": "stdout",
     "output_type": "stream",
     "text": [
      "ali 123\n",
      "veli 65\n",
      "selami 340\n",
      "ayşe 71\n"
     ]
    }
   ],
   "source": [
    "# açım işlemi: (unwrap)\n",
    "\n",
    "l = [('ali', 123), ('veli', 65), ('selami', 340), ('ayşe', 71)]\n",
    "for name, no in l:\n",
    "    print(name, no)"
   ]
  },
  {
   "cell_type": "code",
   "execution_count": 14,
   "metadata": {},
   "outputs": [
    {
     "name": "stdout",
     "output_type": "stream",
     "text": [
      "ali 123 1982\n",
      "veli 65 1970\n",
      "selami 340 1990\n",
      "ayşe 71 1969\n"
     ]
    }
   ],
   "source": [
    "l = [('ali', 123, 1982), ('veli', 65, 1970), ('selami', 340, 1990), ('ayşe', 71, 1969)]\n",
    "for name, no, year in l:\n",
    "    print(name, no, year)"
   ]
  },
  {
   "cell_type": "code",
   "execution_count": 15,
   "metadata": {},
   "outputs": [
    {
     "name": "stdout",
     "output_type": "stream",
     "text": [
      "('ali', 123, 1982)\n",
      "('veli', 65, 1970)\n",
      "('selami', 340, 1990)\n",
      "('ayşe', 71, 1969)\n"
     ]
    }
   ],
   "source": [
    "l = [('ali', 123, 1982), ('veli', 65, 1970), ('selami', 340, 1990), ('ayşe', 71, 1969)]\n",
    "for t in l:\n",
    "    print(t)"
   ]
  },
  {
   "cell_type": "code",
   "execution_count": 16,
   "metadata": {},
   "outputs": [
    {
     "name": "stdout",
     "output_type": "stream",
     "text": [
      "[('ali', 10), ('veli', 20), ('selami', 30), ('ayşe', 40), ('fatma', 50)]\n",
      "[(10, 'ali'), (20, 'veli'), (30, 'selami'), (40, 'ayşe'), (50, 'fatma')]\n"
     ]
    }
   ],
   "source": [
    "a = [('ali', 10), ('veli', 20), ('selami', 30), ('ayşe', 40), ('fatma', 50)]\n",
    "b = []\n",
    "\n",
    "for name, no in a:\n",
    "    b.append((no, name))\n",
    "\n",
    "print(a)\n",
    "print(b)"
   ]
  },
  {
   "cell_type": "code",
   "execution_count": 20,
   "metadata": {},
   "outputs": [
    {
     "name": "stdout",
     "output_type": "stream",
     "text": [
      "ali 123\n",
      "veli 765\n",
      "selami 745\n",
      "ayşe 271\n",
      "fatma 754\n"
     ]
    }
   ],
   "source": [
    "d = {'ali': 123, 'veli': 765, 'selami': 745, 'ayşe': 271, 'fatma': 754}\n",
    "\n",
    "for key, value in d.items():\n",
    "    print(key, value)"
   ]
  },
  {
   "cell_type": "code",
   "execution_count": 21,
   "metadata": {},
   "outputs": [
    {
     "name": "stdout",
     "output_type": "stream",
     "text": [
      "1 2 3 4 5 6 7 8 9 \n"
     ]
    }
   ],
   "source": [
    "for i in range(1, 10):\n",
    "    print(i, end=' ')\n",
    "print()"
   ]
  },
  {
   "cell_type": "code",
   "execution_count": 22,
   "metadata": {},
   "outputs": [
    {
     "name": "stdout",
     "output_type": "stream",
     "text": [
      "0 1 2 3 4 5 6 7 8 9 \n"
     ]
    }
   ],
   "source": [
    "for i in range(10):\n",
    "    print(i, end=' ')\n",
    "print()"
   ]
  },
  {
   "cell_type": "code",
   "execution_count": 23,
   "metadata": {},
   "outputs": [
    {
     "name": "stdout",
     "output_type": "stream",
     "text": [
      "10 11 12 13 14 15 16 17 18 19 \n"
     ]
    }
   ],
   "source": [
    "for i in range(10, 20):\n",
    "    print(i, end=' ')\n",
    "print()"
   ]
  },
  {
   "cell_type": "code",
   "execution_count": 24,
   "metadata": {},
   "outputs": [
    {
     "name": "stdout",
     "output_type": "stream",
     "text": [
      "1 3 5 7 9 \n"
     ]
    }
   ],
   "source": [
    "for i in range(1, 10, 2):\n",
    "    print(i, end=' ')\n",
    "print()"
   ]
  },
  {
   "cell_type": "code",
   "execution_count": 25,
   "metadata": {},
   "outputs": [
    {
     "name": "stdout",
     "output_type": "stream",
     "text": [
      "10 8 6 4 2 \n"
     ]
    }
   ],
   "source": [
    "for i in range(10, 1, -2):\n",
    "    print(i, end=' ')\n",
    "print()"
   ]
  },
  {
   "cell_type": "code",
   "execution_count": 27,
   "metadata": {},
   "outputs": [
    {
     "name": "stdout",
     "output_type": "stream",
     "text": [
      "Tek:  [23, 13, 97, 45, 39]\n",
      "Çift: [56, 44, 12, 80, 54]\n"
     ]
    }
   ],
   "source": [
    "# Şimdi bir listedeki tek ve çift sayıları bularak onları başka bir listeye yerleştirelim.\n",
    "\n",
    "a = [23, 56, 44, 12, 13, 97, 45, 39, 80 ,54]\n",
    "odd = []\n",
    "even = []\n",
    "\n",
    "for i in a:\n",
    "    if i % 2 == 0:\n",
    "        even.append(i)\n",
    "    else:\n",
    "        odd.append(i)\n",
    "\n",
    "print(\"Tek: \", odd)\n",
    "print(\"Çift:\", even)"
   ]
  },
  {
   "cell_type": "code",
   "execution_count": 28,
   "metadata": {},
   "outputs": [
    {
     "name": "stdout",
     "output_type": "stream",
     "text": [
      "A B C D E F G H I J K L M N O P Q R S T U V W X Y Z "
     ]
    }
   ],
   "source": [
    "# ord --> bir karakterin sayısal değerini biz verir.\n",
    "# chr --> tam tersini yapmaktadır.\n",
    "for i in range(ord('A'), ord('Z') + 1):\n",
    "    print(chr(i), end=' ')"
   ]
  },
  {
   "cell_type": "code",
   "execution_count": 29,
   "metadata": {},
   "outputs": [
    {
     "name": "stdout",
     "output_type": "stream",
     "text": [
      "[4, 25, 1, 81, 100]\n"
     ]
    }
   ],
   "source": [
    "a = [2, 5, 1, 9, 10]\n",
    "for i in range(len(a)):\n",
    "    a[i] *= a[i]\n",
    "\n",
    "print(a)"
   ]
  },
  {
   "cell_type": "code",
   "execution_count": 30,
   "metadata": {},
   "outputs": [
    {
     "name": "stdout",
     "output_type": "stream",
     "text": [
      "62\n"
     ]
    }
   ],
   "source": [
    "# Bir listedeki en büyük elemanı bulmaya çalışalım.\n",
    "# max, min\n",
    "\n",
    "a = [3, 5, 7, 9, 21, 10, 62, 34, 9, 5, 8]\n",
    "\n",
    "maxval = a[0]\n",
    "for i in range(1, len(a)):\n",
    "    if a[i] > maxval:\n",
    "        maxval = a[i]\n",
    "\n",
    "print(maxval)"
   ]
  },
  {
   "cell_type": "code",
   "execution_count": 34,
   "metadata": {},
   "outputs": [
    {
     "name": "stdout",
     "output_type": "stream",
     "text": [
      "1 2 3 4 5 6 7 8 9 10 \n",
      "for ends..\n"
     ]
    }
   ],
   "source": [
    "for i in range(1, 11):\n",
    "    print(i, end = \" \")\n",
    "else:\n",
    "    print(\"\\nfor ends..\")"
   ]
  },
  {
   "cell_type": "code",
   "execution_count": 37,
   "metadata": {},
   "outputs": [
    {
     "name": "stdout",
     "output_type": "stream",
     "text": [
      "N:  10\n",
      "Toplam:  25\n"
     ]
    }
   ],
   "source": [
    "# Klavyeden int bir değer okuyunuz. 1 'den bu değere kadar olan tek sayıların toplamını ekrana yazdırınız:\n",
    "\n",
    "n = int(input('Bir sayi giriniz: '))\n",
    "\n",
    "total = 0\n",
    "for i in range(1, n + 1, 2):\n",
    "    total += i\n",
    "\n",
    "print(\"N: \", n)\n",
    "print(\"Toplam: \", total)"
   ]
  },
  {
   "cell_type": "code",
   "execution_count": 38,
   "metadata": {},
   "outputs": [
    {
     "name": "stdout",
     "output_type": "stream",
     "text": [
      "2 2 3 5 "
     ]
    }
   ],
   "source": [
    "# Klavyeden bir sayı isteyiniz. Sayının asal çarpanlarını aralarına boşluk bırakara yazdırınız. Örnek\n",
    "# Bir sayı giriniz: 20\n",
    "# 2 2 5\n",
    "\n",
    "n = int(input(\"Bir sayı giriniz: \"))\n",
    "\n",
    "div = 2\n",
    "\n",
    "while n != 1:\n",
    "    if n % div == 0:\n",
    "        n //= div #n = n // div\n",
    "        print(div, end=' ')\n",
    "    else:\n",
    "        div += 1\n",
    "\n",
    "# kullanıcı 60 girsin\n",
    "# n = 60, div = 2\n",
    "# 60 % 2 == 0\n",
    "# n = 60 // 2 = 30\n",
    "# Çıktı: 2\n",
    "# n = 30, div = 2\n",
    "# 30 % 2 == 0\n",
    "# n = 30 // 2 = 15\n",
    "# Çıktı: 2 2\n",
    "# n = 15, div = 2\n",
    "# 15 % 2 != 0\n",
    "# div = 2 + 1 = 3\n",
    "# n = 15, div = 3\n",
    "# 15 % 3 == 0\n",
    "# n = 15 // 3 = 5\n",
    "# Çıktı : 2 2 3\n",
    "# n = 5, div = 4\n",
    "# 5 % 4 != 0\n",
    "# div = 4 + 1 = 5\n",
    "# .."
   ]
  },
  {
   "cell_type": "code",
   "execution_count": 39,
   "metadata": {},
   "outputs": [
    {
     "name": "stdout",
     "output_type": "stream",
     "text": [
      "1 2 3 4 5 "
     ]
    }
   ],
   "source": [
    "# Klavyeden bir sayı okuyunuz. Sayının basamaklarını aralarına boşluk karakteri bırakarak yüksek anlamlı basamaktan\n",
    "# düşük anlamlı basamağa doğru yazdırınız. Örnek:\n",
    "# Bir sayı giriniz: 12345\n",
    "# 1 2 3 4 5\n",
    "\n",
    "n = int(input('Bir sayı giriniz: '))\n",
    "s = str(n)\n",
    "\n",
    "for c in s:\n",
    "    print(c, end=' ')"
   ]
  },
  {
   "cell_type": "code",
   "execution_count": 40,
   "metadata": {},
   "outputs": [
    {
     "name": "stdout",
     "output_type": "stream",
     "text": [
      "1 2 3 4 5 "
     ]
    }
   ],
   "source": [
    "n = int(input('Bir sayı giriniz: '))\n",
    "\n",
    "digits = []\n",
    "while n > 0:\n",
    "    r = n % 10\n",
    "    digits.append(r)\n",
    "    n //= 10\n",
    "\n",
    "for digit in reversed(digits):\n",
    "    print(digit, end=' ')"
   ]
  },
  {
   "cell_type": "code",
   "execution_count": null,
   "metadata": {},
   "outputs": [],
   "source": [
    "# Bir listede belli bir değerden kaç tane olduğunu yazdıran programı yazınız. (count fonksiyonu bunu yapıyordu. onu kullanmadan yapacağız)\n",
    "# a = [1, 2, 2, 3, 4, 5, 2, 1, 2, 3, 1, 2]\n",
    "# Aranacak değeri giriniz: \n",
    "\n",
    "# Klavyeden tek bir string olarak int değerleri boşluklarla ayrılmış biçimde giriniz. Bu int değerleri bir liste içerisine int olarak yerleştiriniz.\n",
    "# Liste değerlerini aralarına boşluk karakterleri koyarak giriniz:"
   ]
  }
 ],
 "metadata": {
  "kernelspec": {
   "display_name": "base",
   "language": "python",
   "name": "python3"
  },
  "language_info": {
   "codemirror_mode": {
    "name": "ipython",
    "version": 3
   },
   "file_extension": ".py",
   "mimetype": "text/x-python",
   "name": "python",
   "nbconvert_exporter": "python",
   "pygments_lexer": "ipython3",
   "version": "3.8.16"
  }
 },
 "nbformat": 4,
 "nbformat_minor": 2
}
