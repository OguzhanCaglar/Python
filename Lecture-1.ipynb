{
 "cells": [
  {
   "cell_type": "markdown",
   "metadata": {},
   "source": [
    "### PYTHON GİRİŞ - DERS 1"
   ]
  },
  {
   "cell_type": "markdown",
   "metadata": {},
   "source": [
    "Python --> paytın, paytan, --> yüksek seviyeli (high level), prosedürel, fonksiyonel, nesne yönelimli programlama modellerini destekleyen çok modelli (multiparadigm) bir programlama dilidir. Guido Van Rossum. 1991\n",
    "\n",
    "- Yorumlayıcı\n",
    "- Python dinamik tür sistemin (dynamic type system) sahip bir dil. Bu tür programlama dillerinde değişkenlerin değil nesnelerin türleri vardır. \n",
    "\n",
    "değişken = 10 --> sayı, integer, tam sayı\n",
    "değişken = \"oguzhan\" --> yazı, string\n",
    "\n",
    "3.10.4 --> 2022, 2024 3.15\n",
    "Python3 --> 3.0 sürümünden sonra\n",
    "Python  ---> 3.0 sürümünden önce\n",
    "\n",
    "https://docs.python.org/3/reference/index.html\n",
    "\n",
    "Anaconda\n",
    "\n"
   ]
  },
  {
   "cell_type": "markdown",
   "metadata": {},
   "source": [
    "Temel Bilgisayar Mimarisi\n",
    "-------------------------------------\n",
    "\n",
    "CPU (Central Processing Unit - mikroişlemi - microprocessor), RAM VE DİSK. \n",
    "\n",
    "İşletim Sistemi\n",
    "-----------------------\n",
    "\n",
    "işletim sistemi makinenin donanımını (anakart vb) yöneten, makine ile kullanıcı arasında arayüz oluşturan temel bir sistem programıdır. İşletim sistemleri iki katmandan oluşurlar: \n",
    "\n",
    "Çekirdek (kernel) --> makinenin donanımını yöneten kontrol kısmı.\n",
    "Kabuk (shell) --> kullanıcıyla arayüz oluşturan kısım.\n",
    "\n",
    "Windows, Linux, Mac OS, Android, IOS ..\n",
    "\n",
    "Gömülü Sistemler\n",
    "---------------------\n",
    "Asıl amacı bilgisayar olmayan fakat bilgisayar devresi içeren sistemlere genel olarak gömülü sistemler denilir. Elektronik tartılar, biyomedikal aygıtlar, turnike geçiş sistemleri gibiii... \n",
    "C dili. Raspberry Pi, \n",
    "\n",
    "Çevirici Programlar (Translators), Derleyiciler (Compilers) ve Yorumlayıcılar (Interpreters)\n",
    "---------------------------------------------------------------------------------------------\n",
    "\n",
    "Bir programlama dilinde yazılmış olan programı eşdeğer olarak başka bir dile dönüştüren programlara çeviri programlar (translators) denilmektedir. C# --> Çeviri Program --> VB.NET \n",
    "\n",
    "Eğer bir çevirici programda hedef dil aşağı seviyeli bir dil ise böyle çevirici programlara derleyici (compiler) denilmektedir.\n",
    "\n",
    "Bazı programlar kaynak programı alarak hedef kod üretmeden onu o anda çalıştırırlar. Bunlara yorumlayıcı (interpreter) denilmektedir. \n",
    "\n",
    "C, c++ --> derleyecilere sahipler.\n",
    "python --> hem derleyecileri hem de yorumlayıcıları\n",
    "\n",
    "Decompiler'lar ve Disassembler'lar\n",
    "------------------------------------------\n",
    "alçak seviyeli dillerden yüksek seviyeli dillere dönüşüm yapan yazılımlar.\n",
    "\n",
    "IDE (Integrated Development Environment - bütünleşik geliştirme ortamı)\n",
    "--------------------------------------------\n",
    "Windows --> Visual Studio Code\n",
    "Apple --> X-Code\n",
    "Eclipse, Netbeans\n",
    "\n",
    "IDLE --> Integrated Development and Learning Environment: CPython IDE\n",
    "\n",
    "Spyder --> Anaconda dağıtımının içinde.\n",
    "PyCharm --> IDE JetBrains"
   ]
  },
  {
   "cell_type": "markdown",
   "metadata": {},
   "source": [
    "##### Mülkiyete Sahip Yazılımlar, Açık Kaynak Kodlu Yazılımlar\n",
    "\n",
    "- yazılımların çoğu bir firma/şirket tarafından ticari amaçla yazılırlar. Bunlara mülkiyete bağlı yazılım denilmektedir. \n",
    "- Özgür yazılım (Free Software) --> Open Source (Açık Kaynak Kod)\n",
    "    - Kaynak kodlar sahiplenemez.\n",
    "\n",
    "Bit ve Byte Kavramları\n",
    "-------------------------------------------\n",
    "Bilgisayarlar ikilik sistemi kullanırlar. Bu nedenle bilgisayarlarda (belleklerinde) her şey ikili sistemde sayılar biçimde kullanılmaktadır. İkilik sistemde sayıları yazarken yalnızca 1'ler ve 0'lar kullanılır. İkilik sistemde her bir basamağa bit (binary digit'ten kısaltma) denilmektedir. Bu durumda en küçük bellek birimi bit'tir. 8 bit'e 1 byte denilmiştir. Bellek birimi olarak byte kullanılır. Kilo 1024 katı anlamına gelir. Yani 1KB = 1024 Byte. Mega da kilonun 1024 katıdır. Yani 1 MB = 1024 KB. Giga Mega'nın Tera'da Giga 1024 katıdır. 2^10 = 1024\n",
    "\n",
    "Kullandığımız CPU'lar ikilik sistemdeki makine komutlarını çalıştırmaktadır. Bir kodun CPU tarafından çalıştırabilmesi için o kodun o CPU'nun makine diline dönüşttürülmesi olması gerekir. derlemek\n",
    "Ara kod\n",
    "\n",
    "Python Kodu --> Python Yorumlayıcısı --> AraKod --> Yorumlayıcı --> Çalıştırılır.\n",
    "\n",
    "Bilgisayar Dilleri ve Programlama Dilleri\n",
    "---------------------------------------------------\n",
    "\n"
   ]
  },
  {
   "cell_type": "markdown",
   "metadata": {},
   "source": []
  }
 ],
 "metadata": {
  "language_info": {
   "name": "python"
  }
 },
 "nbformat": 4,
 "nbformat_minor": 2
}
