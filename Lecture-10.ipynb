{
 "cells": [
  {
   "cell_type": "code",
   "execution_count": 2,
   "metadata": {},
   "outputs": [
    {
     "name": "stdout",
     "output_type": "stream",
     "text": [
      "5\n"
     ]
    }
   ],
   "source": [
    "# Bir listede belli bir değerden kaç tane olduğunu yazdıran programı yazınız. (count fonksiyonu bunu yapıyordu. onu kullanmadan yapacağız)\n",
    "# a = [1, 2, 2, 3, 4, 5, 2, 1, 2, 3, 1, 2]\n",
    "# Aranacak değeri giriniz: \n",
    "\n",
    "a = [1, 2, 2, 3, 4, 5, 2, 1, 2, 3, 1, 2]\n",
    "val = int(input('Aranacak bir değeri giriniz: '))\n",
    "\n",
    "count = 0\n",
    "for i in a:\n",
    "    if i == val:\n",
    "        count += 1\n",
    "\n",
    "print(count)"
   ]
  },
  {
   "cell_type": "code",
   "execution_count": 3,
   "metadata": {},
   "outputs": [
    {
     "name": "stdout",
     "output_type": "stream",
     "text": [
      "[2, 3, 4, 5, 6, 7, 8]\n"
     ]
    }
   ],
   "source": [
    "# Klavyeden tek bir string olarak int değerleri boşluklarla ayrılmış biçimde giriniz. Bu int değerleri bir liste içerisine int olarak yerleştiriniz.\n",
    "# Liste değerlerini aralarına boşluk karakterleri koyarak giriniz:\n",
    "\n",
    "s = input('Liste değerlerini aralarına boşluk karakterleri koyarak giriniz: ')\n",
    "a = []\n",
    "for s in s.split():\n",
    "    a.append(int(s))\n",
    "print(a)"
   ]
  },
  {
   "cell_type": "markdown",
   "metadata": {},
   "source": [
    "## Break\n",
    "\n",
    "döngüden erken çıkmak için kullanılır.\n",
    "\n",
    "break --> yalnızca döngü içerisinde kullanılabilmektedir. Programın akışı break deyimini gördüğünde döngü sonlandırılır, akış döngüden sonraki ilk deyim ile devam eder."
   ]
  },
  {
   "cell_type": "code",
   "execution_count": 4,
   "metadata": {},
   "outputs": [
    {
     "name": "stdout",
     "output_type": "stream",
     "text": [
      "25\n",
      "16\n",
      "16\n",
      "64\n",
      "36\n",
      "4\n",
      "1\n",
      "25\n",
      "Program break ile bitti.\n",
      "Program bitti.\n"
     ]
    }
   ],
   "source": [
    "while True:\n",
    "    a = int(input(\"Değer giriniz: \"))\n",
    "    if a == 0:\n",
    "        print(\"Program break ile bitti.\")\n",
    "        break\n",
    "    print(a * a)\n",
    "\n",
    "print(\"Program bitti.\")"
   ]
  },
  {
   "cell_type": "code",
   "execution_count": 6,
   "metadata": {},
   "outputs": [
    {
     "name": "stdout",
     "output_type": "stream",
     "text": [
      "Break ile döngü sonlandı.\n",
      "Program sonlandı\n"
     ]
    }
   ],
   "source": [
    "# Python'da while for döngülerinin else kısımlar eğer döngüden break deyimi ile çıkılmışsa çalıştırılmaz.\n",
    "\n",
    "for i in range(5):\n",
    "    val = int(input(\"Bir değer giriniz: \"))\n",
    "    if val == 0:\n",
    "        print(\"Break ile döngü sonlandı.\")\n",
    "        break\n",
    "    print(val * val)\n",
    "else:\n",
    "    print(\"Döngü sonlandı\")\n",
    "\n",
    "print(\"Program sonlandı\")"
   ]
  },
  {
   "cell_type": "code",
   "execution_count": 8,
   "metadata": {},
   "outputs": [
    {
     "name": "stdout",
     "output_type": "stream",
     "text": [
      "bulunamadı\n"
     ]
    }
   ],
   "source": [
    "# success unsuccess\n",
    "\n",
    "a = [23, 45, 34, 67, 89, 34, 56, 11, 23, 45]\n",
    "val = int(input('Aranacak sayıyı giriniz: '))\n",
    "for i in a:\n",
    "    if i == val:\n",
    "        print('bulundu')\n",
    "        break\n",
    "else:\n",
    "    print('bulunamadı')"
   ]
  },
  {
   "cell_type": "code",
   "execution_count": 14,
   "metadata": {},
   "outputs": [
    {
     "name": "stdout",
     "output_type": "stream",
     "text": [
      "bulunamadı\n"
     ]
    }
   ],
   "source": [
    "# Else kullanmadan nasıl yapabilridik?\n",
    "\n",
    "a = [23, 45, 34, 67, 89, 34, 56, 11, 23, 45]\n",
    "val = int(input('Aranacak sayıyı giriniz: '))\n",
    "for i in a:\n",
    "    if i == val:\n",
    "        print('bulundu')\n",
    "        break\n",
    "\n",
    "if i != val:\n",
    "    print('bulunamadı')"
   ]
  },
  {
   "cell_type": "code",
   "execution_count": 16,
   "metadata": {},
   "outputs": [
    {
     "name": "stdout",
     "output_type": "stream",
     "text": [
      "Ok\n"
     ]
    }
   ],
   "source": [
    "# Password örneği\n",
    "\n",
    "for i in range(3):\n",
    "    s = input('Enter password: ')\n",
    "    if s == 'beyza123':\n",
    "        print('Ok')\n",
    "        break\n",
    "    else:\n",
    "        print('invalid password')\n",
    "else:\n",
    "    print('Your account blocked!!!')"
   ]
  },
  {
   "cell_type": "code",
   "execution_count": 19,
   "metadata": {},
   "outputs": [
    {
     "name": "stdout",
     "output_type": "stream",
     "text": [
      "Asal\n"
     ]
    }
   ],
   "source": [
    "# Klavyeden bir int sayı isteyiniz. Sayının asal olup olmadığını yazdırınız. Break ile\n",
    "\n",
    "n = int(input('Bir sayi giriniz: '))\n",
    "\n",
    "for i in range(2, n):\n",
    "    if n % i == 0:\n",
    "        print('Asal değil')\n",
    "        break\n",
    "else:\n",
    "    if n < 2:\n",
    "        print('Geçersiz sayı')\n",
    "    else:\n",
    "        print('Asal')"
   ]
  },
  {
   "cell_type": "markdown",
   "metadata": {},
   "source": [
    "### Continue\n",
    "\n",
    "Programın akışı continue deyimini gördüğünde o yineleme gitirilir yeni yinelemeye geçilir.\n",
    "\n"
   ]
  },
  {
   "cell_type": "code",
   "execution_count": 21,
   "metadata": {},
   "outputs": [
    {
     "ename": "TypeError",
     "evalue": "'int' object is not iterable",
     "output_type": "error",
     "traceback": [
      "\u001b[1;31m---------------------------------------------------------------------------\u001b[0m",
      "\u001b[1;31mTypeError\u001b[0m                                 Traceback (most recent call last)",
      "Cell \u001b[1;32mIn[21], line 3\u001b[0m\n\u001b[0;32m      1\u001b[0m a \u001b[38;5;241m=\u001b[39m [\u001b[38;5;241m13\u001b[39m, \u001b[38;5;241m20\u001b[39m, \u001b[38;5;241m31\u001b[39m, \u001b[38;5;241m40\u001b[39m, \u001b[38;5;241m47\u001b[39m, \u001b[38;5;241m60\u001b[39m, \u001b[38;5;241m70\u001b[39m, \u001b[38;5;241m80\u001b[39m, \u001b[38;5;241m91\u001b[39m, \u001b[38;5;241m100\u001b[39m]\n\u001b[1;32m----> 3\u001b[0m \u001b[38;5;28;01mfor\u001b[39;00m i \u001b[38;5;129;01min\u001b[39;00m \u001b[38;5;28mlen\u001b[39m(a):\n\u001b[0;32m      4\u001b[0m     \u001b[38;5;28;01mif\u001b[39;00m i \u001b[38;5;241m%\u001b[39m \u001b[38;5;241m2\u001b[39m \u001b[38;5;241m==\u001b[39m \u001b[38;5;241m0\u001b[39m:\n\u001b[0;32m      5\u001b[0m         \u001b[38;5;28;01mcontinue\u001b[39;00m\n",
      "\u001b[1;31mTypeError\u001b[0m: 'int' object is not iterable"
     ]
    }
   ],
   "source": [
    "a = [13, 20, 31, 40, 47, 60, 70, 80, 91, 100]\n",
    "\n",
    "for i in a:\n",
    "    if i % 2 == 0:\n",
    "        continue\n",
    "    print(i, end=' ')\n",
    "print()"
   ]
  },
  {
   "cell_type": "code",
   "execution_count": 24,
   "metadata": {},
   "outputs": [
    {
     "name": "stdout",
     "output_type": "stream",
     "text": [
      "bad command!\n",
      "bad command!\n",
      "dir command\n",
      "dir command\n"
     ]
    }
   ],
   "source": [
    "while True:\n",
    "    cmd = input('Beyza>').strip()\n",
    "    if cmd == '':\n",
    "        continue\n",
    "    if cmd == 'dir':\n",
    "        print('dir command')\n",
    "    elif cmd == 'del':\n",
    "        print('del command')\n",
    "    elif cmd == 'copy':\n",
    "        print('copy command')\n",
    "    elif cmd == 'exit':\n",
    "        break\n",
    "    else:\n",
    "        print('bad command!')"
   ]
  },
  {
   "cell_type": "markdown",
   "metadata": {},
   "source": [
    "### Match Deyimi\n",
    "\n",
    "Pek çok programlama dilinde bir ifadenin çeşitli sayısal değerine göre değişik işlemleri yapabilmek için switch deyimleri vardır.\n",
    "Match deyimi python dilnide mevcuttur. 3.10 versiyonu ile geldi. \n",
    "\n",
    "3.10 versiyonu sonrasını çalışır."
   ]
  },
  {
   "cell_type": "code",
   "execution_count": 25,
   "metadata": {},
   "outputs": [
    {
     "name": "stdout",
     "output_type": "stream",
     "text": [
      "iki\n"
     ]
    }
   ],
   "source": [
    "val = int(input('Bir değer giriniz: '))\n",
    "\n",
    "if val == 1:\n",
    "    print('bir')\n",
    "elif val == 2:\n",
    "    print('iki')\n",
    "elif val == 3:\n",
    "    print(\"üç\")\n",
    "else:\n",
    "    print('hiçbiri')"
   ]
  },
  {
   "cell_type": "code",
   "execution_count": 27,
   "metadata": {},
   "outputs": [
    {
     "name": "stdout",
     "output_type": "stream",
     "text": [
      "bir\n"
     ]
    }
   ],
   "source": [
    "# Sözlükler ile switch benzeri bir kullanım\n",
    "\n",
    "def foo():\n",
    "    print('bir')\n",
    "\n",
    "def bar():\n",
    "    print('iki')\n",
    "\n",
    "def tar():\n",
    "    print('üç')\n",
    "\n",
    "d = {1: foo, 2: bar, 3: tar}\n",
    "\n",
    "n = int(input('Bir değer giriniz: '))\n",
    "\n",
    "if n >= 1 and n <= 3:\n",
    "    d[n]()\n",
    "\n",
    "else: \n",
    "    print('hiçbiri')"
   ]
  },
  {
   "cell_type": "markdown",
   "metadata": {},
   "source": [
    "match ifade:\n",
    "    case kalıp:\n",
    "        ....\n",
    "    case kalıp:\n",
    "        ....\n",
    "    case kalıp:\n",
    "        ...."
   ]
  },
  {
   "cell_type": "code",
   "execution_count": 28,
   "metadata": {},
   "outputs": [
    {
     "ename": "SyntaxError",
     "evalue": "invalid syntax (1087374624.py, line 3)",
     "output_type": "error",
     "traceback": [
      "\u001b[1;36m  Cell \u001b[1;32mIn[28], line 3\u001b[1;36m\u001b[0m\n\u001b[1;33m    match val:\u001b[0m\n\u001b[1;37m          ^\u001b[0m\n\u001b[1;31mSyntaxError\u001b[0m\u001b[1;31m:\u001b[0m invalid syntax\n"
     ]
    }
   ],
   "source": [
    "val = int(input('Bir değer giriniz: '))\n",
    "\n",
    "match val:\n",
    "    case 1:\n",
    "        print('bir')\n",
    "    case 2:\n",
    "        print('iki')\n",
    "    case 3:\n",
    "        print('üç')\n",
    "    case _:\n",
    "        print(\"hiçbiri\") \n",
    "\n",
    "\n",
    "# Literal patterns"
   ]
  },
  {
   "cell_type": "code",
   "execution_count": 29,
   "metadata": {},
   "outputs": [
    {
     "ename": "SyntaxError",
     "evalue": "invalid syntax (4045121484.py, line 3)",
     "output_type": "error",
     "traceback": [
      "\u001b[1;36m  Cell \u001b[1;32mIn[29], line 3\u001b[1;36m\u001b[0m\n\u001b[1;33m    match s:\u001b[0m\n\u001b[1;37m          ^\u001b[0m\n\u001b[1;31mSyntaxError\u001b[0m\u001b[1;31m:\u001b[0m invalid syntax\n"
     ]
    }
   ],
   "source": [
    "s = input('Bir renk giriniz: ')\n",
    "\n",
    "match s:\n",
    "    case 'kırmızı':\n",
    "        print('red')\n",
    "    case 'mavi':\n",
    "        print('blue')\n",
    "    case 'yeşil':\n",
    "        print('green')\n",
    "    case 4:\n",
    "        print('green')\n",
    "    case _:\n",
    "        print('another color')"
   ]
  },
  {
   "cell_type": "code",
   "execution_count": 30,
   "metadata": {},
   "outputs": [
    {
     "ename": "SyntaxError",
     "evalue": "invalid syntax (296039306.py, line 4)",
     "output_type": "error",
     "traceback": [
      "\u001b[1;36m  Cell \u001b[1;32mIn[30], line 4\u001b[1;36m\u001b[0m\n\u001b[1;33m    match cmd:\u001b[0m\n\u001b[1;37m          ^\u001b[0m\n\u001b[1;31mSyntaxError\u001b[0m\u001b[1;31m:\u001b[0m invalid syntax\n"
     ]
    }
   ],
   "source": [
    "while True:\n",
    "    cmd = input('Beyza> ').strip()\n",
    "    \n",
    "    match cmd:\n",
    "        case '':\n",
    "            continue\n",
    "        case 'delete' | 'remove' | 'erase':\n",
    "            print('silme işlemi')\n",
    "        case 'copy':\n",
    "            print('kopyalama işlemi')\n",
    "        case 'rename':\n",
    "            print('isim değiştirme işlemi')\n",
    "        case 'exit' | 'quit':\n",
    "            break\n",
    "        case _:\n",
    "            print('geçersiz komut')"
   ]
  },
  {
   "cell_type": "code",
   "execution_count": 31,
   "metadata": {},
   "outputs": [
    {
     "ename": "SyntaxError",
     "evalue": "invalid syntax (3473906121.py, line 4)",
     "output_type": "error",
     "traceback": [
      "\u001b[1;36m  Cell \u001b[1;32mIn[31], line 4\u001b[1;36m\u001b[0m\n\u001b[1;33m    match cmd:\u001b[0m\n\u001b[1;37m          ^\u001b[0m\n\u001b[1;31mSyntaxError\u001b[0m\u001b[1;31m:\u001b[0m invalid syntax\n"
     ]
    }
   ],
   "source": [
    "while True:\n",
    "    cmd = input('Beyza> ').strip()\n",
    "    \n",
    "    match cmd:\n",
    "        case '':\n",
    "            continue\n",
    "        case 'delete' | 'remove' | 'erase' as x:\n",
    "            print(f'silme işlemi \"{x}\" komutu ile yapılıyor.')\n",
    "        case 'copy':\n",
    "            print('kopyalama işlemi')\n",
    "        case 'rename':\n",
    "            print('isim değiştirme işlemi')\n",
    "        case 'exit' | 'quit':\n",
    "            break\n",
    "        case _:\n",
    "            print('geçersiz komut')\n",
    "            "
   ]
  },
  {
   "cell_type": "code",
   "execution_count": 32,
   "metadata": {},
   "outputs": [
    {
     "ename": "SyntaxError",
     "evalue": "invalid syntax (2325448424.py, line 3)",
     "output_type": "error",
     "traceback": [
      "\u001b[1;36m  Cell \u001b[1;32mIn[32], line 3\u001b[1;36m\u001b[0m\n\u001b[1;33m    match a:\u001b[0m\n\u001b[1;37m          ^\u001b[0m\n\u001b[1;31mSyntaxError\u001b[0m\u001b[1;31m:\u001b[0m invalid syntax\n"
     ]
    }
   ],
   "source": [
    "a = ['ali', 'veli']\n",
    "\n",
    "match a:\n",
    "    case 'ali', 'veli':\n",
    "        print('kalıp bulundu')"
   ]
  },
  {
   "cell_type": "markdown",
   "metadata": {},
   "source": [
    "#### PASS Deyimi\n",
    "\n",
    "pass --> boş deyimler için pass isimli anahtar sözcük kullanılır. "
   ]
  },
  {
   "cell_type": "code",
   "execution_count": 34,
   "metadata": {},
   "outputs": [
    {
     "name": "stdout",
     "output_type": "stream",
     "text": [
      "0\n",
      "1\n",
      "2\n",
      "3\n",
      "4\n",
      "5\n",
      "6\n",
      "7\n",
      "8\n",
      "9\n"
     ]
    }
   ],
   "source": [
    "for k in range(10):\n",
    "    for i in range(10000000):\n",
    "        pass\n",
    "    print(k)"
   ]
  },
  {
   "cell_type": "code",
   "execution_count": 37,
   "metadata": {},
   "outputs": [],
   "source": [
    "for k in range(10):\n",
    "    for i in range(10000000):\n",
    "        continue\n",
    "    print(k)"
   ]
  },
  {
   "cell_type": "code",
   "execution_count": 38,
   "metadata": {},
   "outputs": [
    {
     "name": "stdout",
     "output_type": "stream",
     "text": [
      "0\n",
      "1\n",
      "2\n",
      "3\n",
      "4\n",
      "5\n",
      "6\n",
      "7\n",
      "8\n",
      "9\n"
     ]
    }
   ],
   "source": [
    "i = 0\n",
    "while i < 10:\n",
    "    print(i)\n",
    "    i += 1\n",
    "    pass"
   ]
  },
  {
   "cell_type": "markdown",
   "metadata": {},
   "source": [
    "#### Koşul Operatörü\n",
    "\n",
    "ifade if bool_türünden_bir_ifade else \n",
    "\n",
    "Koşul operatörü bir operatör olduğu için bir değer üretir. Önce if ile else anahtar sözcüklerinin arasındaki ifadenin değeri hesaplanır. Bu ifade bool türüne dönüştürülür. İfade true ise if anahtar sözcüğünün solundaki ifade, false ise else anahtar sözcüğünün sağındaki ifade çalıştırılır."
   ]
  },
  {
   "cell_type": "code",
   "execution_count": 41,
   "metadata": {},
   "outputs": [
    {
     "name": "stdout",
     "output_type": "stream",
     "text": [
      "100\n"
     ]
    }
   ],
   "source": [
    "n = int(input('Bir değer giriniz: '))\n",
    "\n",
    "result = 100 if n % 2 == 0 else 200\n",
    "print(result)"
   ]
  },
  {
   "cell_type": "code",
   "execution_count": 42,
   "metadata": {},
   "outputs": [
    {
     "name": "stdout",
     "output_type": "stream",
     "text": [
      "5\n"
     ]
    }
   ],
   "source": [
    "a = int(input('a: '))\n",
    "b = int(input('b: '))\n",
    "\n",
    "max = a if a > b else b\n",
    "print(max)"
   ]
  },
  {
   "cell_type": "code",
   "execution_count": 43,
   "metadata": {},
   "outputs": [
    {
     "name": "stdout",
     "output_type": "stream",
     "text": [
      "105\n"
     ]
    }
   ],
   "source": [
    "# Koşul operatörü düşük öncelikli bir operatördür. \n",
    "\n",
    "a = int(input('a: '))\n",
    "b = int(input('b: '))\n",
    "\n",
    "c = (a if a > b else b) + 100\n",
    "print(c)"
   ]
  },
  {
   "cell_type": "code",
   "execution_count": 44,
   "metadata": {},
   "outputs": [
    {
     "name": "stdout",
     "output_type": "stream",
     "text": [
      "çift\n"
     ]
    }
   ],
   "source": [
    "n = int(input('Bir değer giriniz: '))\n",
    "\n",
    "print('çift' if n % 2 == 0 else 'tek')"
   ]
  },
  {
   "cell_type": "code",
   "execution_count": 45,
   "metadata": {},
   "outputs": [
    {
     "name": "stdout",
     "output_type": "stream",
     "text": [
      "çift\n"
     ]
    }
   ],
   "source": [
    "n = int(input('Bir değer giriniz: '))\n",
    "\n",
    "if val % 2 == 0:\n",
    "    print('çift')\n",
    "else:\n",
    "    print('tek')"
   ]
  },
  {
   "cell_type": "code",
   "execution_count": 46,
   "metadata": {},
   "outputs": [
    {
     "name": "stdout",
     "output_type": "stream",
     "text": [
      "12 ---> çift\n",
      "3 ---> tek\n",
      "4 ---> çift\n",
      "5 ---> tek\n",
      "9 ---> tek\n",
      "8 ---> çift\n",
      "21 ---> tek\n"
     ]
    }
   ],
   "source": [
    "a = [12, 3, 4, 5, 9, 8, 21]\n",
    "\n",
    "for i in a:\n",
    "    print('{} ---> {}'.format(i, 'çift' if i % 2 == 0 else 'tek'))"
   ]
  },
  {
   "cell_type": "code",
   "execution_count": 48,
   "metadata": {},
   "outputs": [
    {
     "name": "stdout",
     "output_type": "stream",
     "text": [
      "12 ---> çift\n",
      "3 ---> tek\n",
      "4 ---> çift\n",
      "5 ---> tek\n",
      "9 ---> tek\n",
      "8 ---> çift\n",
      "21 ---> tek\n"
     ]
    }
   ],
   "source": [
    "a = [12, 3, 4, 5, 9, 8, 21]\n",
    "\n",
    "for i in a:\n",
    "    print(f'{i} ---> {\"çift\" if i % 2 == 0 else \"tek\"}')"
   ]
  },
  {
   "cell_type": "markdown",
   "metadata": {},
   "source": [
    "#### Fonksiyonların Tanımlanması\n",
    "\n",
    "Bir fonksiyonun yazılmasına --> fonksiyonun tanımlanması (function definition)\n",
    "\n",
    "def fonksiyon_ismi(parametre_listesi): suit\n",
    "\n",
    "Örneğin:\n",
    "def foo():\n",
    "    print('I am foo')"
   ]
  },
  {
   "cell_type": "code",
   "execution_count": 49,
   "metadata": {},
   "outputs": [],
   "source": [
    "def foo():\n",
    "    print('I am foo')"
   ]
  },
  {
   "cell_type": "code",
   "execution_count": 50,
   "metadata": {},
   "outputs": [
    {
     "name": "stdout",
     "output_type": "stream",
     "text": [
      "I am foo\n"
     ]
    }
   ],
   "source": [
    "foo() # Fonksiyonun çağırılması --> calling a function"
   ]
  },
  {
   "cell_type": "code",
   "execution_count": 51,
   "metadata": {},
   "outputs": [],
   "source": [
    "def bar(a, b, c):\n",
    "    print(a, b, c)"
   ]
  },
  {
   "cell_type": "code",
   "execution_count": 52,
   "metadata": {},
   "outputs": [],
   "source": [
    "def foo(): print('bir'); print('iki'); print('üç')\n",
    "\n",
    "# Python'da fonksiyon isimleri de aslında birer değişkendir."
   ]
  },
  {
   "cell_type": "code",
   "execution_count": 53,
   "metadata": {},
   "outputs": [],
   "source": [
    "def foo():\n",
    "    pass"
   ]
  },
  {
   "cell_type": "code",
   "execution_count": 54,
   "metadata": {},
   "outputs": [
    {
     "name": "stdout",
     "output_type": "stream",
     "text": [
      "<class 'function'>\n"
     ]
    }
   ],
   "source": [
    "def foo():\n",
    "    print('foo first')\n",
    "\n",
    "print(type(foo))"
   ]
  },
  {
   "cell_type": "code",
   "execution_count": 55,
   "metadata": {},
   "outputs": [],
   "source": [
    "def foo():\n",
    "    print('foo')\n",
    "\n",
    "def foo():\n",
    "    print('diğer foo')\n",
    "\n",
    "x = 10\n",
    "x = 20"
   ]
  },
  {
   "cell_type": "code",
   "execution_count": 56,
   "metadata": {},
   "outputs": [
    {
     "name": "stdout",
     "output_type": "stream",
     "text": [
      "foo\n",
      "diğer foo\n"
     ]
    }
   ],
   "source": [
    "def foo():\n",
    "    print('foo')\n",
    "\n",
    "foo()\n",
    "\n",
    "def foo():\n",
    "    print('diğer foo')\n",
    "\n",
    "foo()"
   ]
  },
  {
   "cell_type": "code",
   "execution_count": 57,
   "metadata": {},
   "outputs": [
    {
     "name": "stdout",
     "output_type": "stream",
     "text": [
      "foo\n",
      "foo\n"
     ]
    }
   ],
   "source": [
    "# Fonksiyonların adreslerini başka değişkenlere atayıp o değişkenlerle de fonksiyonları çağırabiliriz.\n",
    "\n",
    "# fonksiyonların birinci sınıf vatandaş (first class citizen) --> func. diğer değişkenler gibi atama işlemi sokulmas durumu\n",
    "\n",
    "def foo():\n",
    "    print('foo')\n",
    "\n",
    "bar = foo\n",
    "\n",
    "foo()\n",
    "bar()"
   ]
  },
  {
   "cell_type": "code",
   "execution_count": 58,
   "metadata": {},
   "outputs": [
    {
     "data": {
      "text/plain": [
       "function"
      ]
     },
     "execution_count": 58,
     "metadata": {},
     "output_type": "execute_result"
    }
   ],
   "source": [
    "type(bar)"
   ]
  },
  {
   "cell_type": "code",
   "execution_count": 59,
   "metadata": {},
   "outputs": [
    {
     "data": {
      "text/plain": [
       "function"
      ]
     },
     "execution_count": 59,
     "metadata": {},
     "output_type": "execute_result"
    }
   ],
   "source": [
    "type(foo)"
   ]
  },
  {
   "cell_type": "code",
   "execution_count": 60,
   "metadata": {},
   "outputs": [
    {
     "name": "stdout",
     "output_type": "stream",
     "text": [
      "foo\n",
      "bar\n",
      "tar\n"
     ]
    }
   ],
   "source": [
    "# fonksiyonlar da listelerin, sözlüklerin elemanları yapılabilir.\n",
    "\n",
    "def foo():\n",
    "    print('foo')\n",
    "\n",
    "def bar():\n",
    "    print('bar')\n",
    "\n",
    "def tar():\n",
    "    print('tar')\n",
    "\n",
    "a = [foo, bar, tar]\n",
    "\n",
    "for f in a:\n",
    "    f()"
   ]
  },
  {
   "cell_type": "code",
   "execution_count": 61,
   "metadata": {},
   "outputs": [
    {
     "name": "stdout",
     "output_type": "stream",
     "text": [
      "foo\n",
      "bar\n",
      "tar\n"
     ]
    }
   ],
   "source": [
    "d = {1:foo, 2:bar, 3:tar}\n",
    "\n",
    "d[1]()\n",
    "d[2]()\n",
    "d[3]()"
   ]
  },
  {
   "cell_type": "markdown",
   "metadata": {},
   "source": [
    "### Fonksiyonların Parametre Değişkenleri\n",
    "\n",
    "Parametrelre sahip olabilirler. Python dinamik tür sistemine sahip olduğundan parametreler bildirilirken tür belirtmez. Parametrelerin yalnızca isimleri parametre parantezinin içerisine aralarına , yerleştirilerek yazılmaktadır.\n",
    "\n",
    "def foo(a, b, c):\n",
    "    print(a, b, c)\n",
    "    "
   ]
  },
  {
   "cell_type": "code",
   "execution_count": 64,
   "metadata": {},
   "outputs": [
    {
     "name": "stdout",
     "output_type": "stream",
     "text": [
      "<class 'int'>\n",
      "<class 'float'>\n",
      "<class 'str'>\n"
     ]
    }
   ],
   "source": [
    "def foo(x):\n",
    "    print(type(x))\n",
    "\n",
    "foo(10) # x = 10\n",
    "foo(20.2) # x = 20.2\n",
    "foo('Ali') # x = 'Ali'"
   ]
  },
  {
   "cell_type": "code",
   "execution_count": 65,
   "metadata": {},
   "outputs": [
    {
     "ename": "TypeError",
     "evalue": "foo() takes 1 positional argument but 2 were given",
     "output_type": "error",
     "traceback": [
      "\u001b[1;31m---------------------------------------------------------------------------\u001b[0m",
      "\u001b[1;31mTypeError\u001b[0m                                 Traceback (most recent call last)",
      "Cell \u001b[1;32mIn[65], line 1\u001b[0m\n\u001b[1;32m----> 1\u001b[0m \u001b[43mfoo\u001b[49m\u001b[43m(\u001b[49m\u001b[38;5;241;43m10\u001b[39;49m\u001b[43m,\u001b[49m\u001b[43m \u001b[49m\u001b[38;5;241;43m20\u001b[39;49m\u001b[43m)\u001b[49m\n",
      "\u001b[1;31mTypeError\u001b[0m: foo() takes 1 positional argument but 2 were given"
     ]
    }
   ],
   "source": [
    "foo(10, 20)"
   ]
  },
  {
   "cell_type": "code",
   "execution_count": 66,
   "metadata": {},
   "outputs": [
    {
     "name": "stdout",
     "output_type": "stream",
     "text": [
      "30\n",
      "30.5\n",
      "35.9\n"
     ]
    }
   ],
   "source": [
    "def print_add(x, y):\n",
    "    print(x + y)\n",
    "\n",
    "print_add(10, 20)\n",
    "print_add(10, 20.5)\n",
    "print_add(12.4, 23.5)"
   ]
  },
  {
   "cell_type": "code",
   "execution_count": 67,
   "metadata": {},
   "outputs": [
    {
     "name": "stdout",
     "output_type": "stream",
     "text": [
      "------\n",
      "Ankara\n",
      "------\n"
     ]
    }
   ],
   "source": [
    "# ------\n",
    "# Ankara\n",
    "# ------\n",
    "\n",
    "def disp_banner(s):\n",
    "    print('-' * len(s))\n",
    "    print(s)\n",
    "    print('-' * len(s))\n",
    "\n",
    "disp_banner('Ankara')"
   ]
  },
  {
   "cell_type": "code",
   "execution_count": 68,
   "metadata": {},
   "outputs": [
    {
     "ename": "TypeError",
     "evalue": "object of type 'int' has no len()",
     "output_type": "error",
     "traceback": [
      "\u001b[1;31m---------------------------------------------------------------------------\u001b[0m",
      "\u001b[1;31mTypeError\u001b[0m                                 Traceback (most recent call last)",
      "Cell \u001b[1;32mIn[68], line 1\u001b[0m\n\u001b[1;32m----> 1\u001b[0m \u001b[43mdisp_banner\u001b[49m\u001b[43m(\u001b[49m\u001b[38;5;241;43m10\u001b[39;49m\u001b[43m)\u001b[49m\n",
      "Cell \u001b[1;32mIn[67], line 6\u001b[0m, in \u001b[0;36mdisp_banner\u001b[1;34m(s)\u001b[0m\n\u001b[0;32m      5\u001b[0m \u001b[38;5;28;01mdef\u001b[39;00m \u001b[38;5;21mdisp_banner\u001b[39m(s):\n\u001b[1;32m----> 6\u001b[0m     \u001b[38;5;28mprint\u001b[39m(\u001b[38;5;124m'\u001b[39m\u001b[38;5;124m-\u001b[39m\u001b[38;5;124m'\u001b[39m \u001b[38;5;241m*\u001b[39m \u001b[38;5;28;43mlen\u001b[39;49m\u001b[43m(\u001b[49m\u001b[43ms\u001b[49m\u001b[43m)\u001b[49m)\n\u001b[0;32m      7\u001b[0m     \u001b[38;5;28mprint\u001b[39m(s)\n\u001b[0;32m      8\u001b[0m     \u001b[38;5;28mprint\u001b[39m(\u001b[38;5;124m'\u001b[39m\u001b[38;5;124m-\u001b[39m\u001b[38;5;124m'\u001b[39m \u001b[38;5;241m*\u001b[39m \u001b[38;5;28mlen\u001b[39m(s))\n",
      "\u001b[1;31mTypeError\u001b[0m: object of type 'int' has no len()"
     ]
    }
   ],
   "source": [
    "disp_banner(10)"
   ]
  },
  {
   "cell_type": "code",
   "execution_count": 69,
   "metadata": {},
   "outputs": [],
   "source": [
    "# İkinci dereceden bir denklemin köklerini ekrana yazdıran bir fonksiyon tanımlayalım.\n",
    "\n",
    "import math\n",
    "\n",
    "def disp_roots(a, b, c):\n",
    "    delta = b ** 2 - 4 * a * c\n",
    "    if delta >= 0:\n",
    "        x1 = (-b + math.sqrt(delta)) / (2 * a)\n",
    "        x2 = (-b - math.sqrt(delta)) / (2 * a)\n",
    "        print(f'x1 = {x1}, x2 = {x2}')\n",
    "    else:\n",
    "        print('kök yok')"
   ]
  },
  {
   "cell_type": "code",
   "execution_count": 70,
   "metadata": {},
   "outputs": [
    {
     "name": "stdout",
     "output_type": "stream",
     "text": [
      "x1 = 2.0, x2 = -2.0\n"
     ]
    }
   ],
   "source": [
    "disp_roots(1, 0, -4) # x^2 - 4"
   ]
  },
  {
   "cell_type": "markdown",
   "metadata": {},
   "source": [
    "### Fonksiyonların Geri Dönüş Değerleri\n",
    "\n",
    "Bir fonksiyon onu çağıran bir fonksiyona bir değer iletebilir. İletilen bu değere fonksiyonun \"geri dönüş değeri (return value)\" denilmektedir. Fonksiyonun geri dönüş değeri fonksiyon içerisindeki `return` deyimi ile oluşturulmaktadır. \n",
    "\n",
    "`return ifade`\n",
    "\n",
    "Programın akışı return deyimini gördüğünde fonskiyon sonlanır ve geri dönüş değeri oluşturularak akış onu çağıran fonksiyona geri döner. Geri dönüş değeri fonksiyonu çağıran tarafından kullanılamaabilir.\n",
    "\n"
   ]
  },
  {
   "cell_type": "code",
   "execution_count": 71,
   "metadata": {},
   "outputs": [
    {
     "name": "stdout",
     "output_type": "stream",
     "text": [
      "None\n"
     ]
    }
   ],
   "source": [
    "def square(a):\n",
    "    a * a\n",
    "\n",
    "x = square(5)\n",
    "print(x)"
   ]
  },
  {
   "cell_type": "code",
   "execution_count": 72,
   "metadata": {},
   "outputs": [
    {
     "name": "stdout",
     "output_type": "stream",
     "text": [
      "25\n"
     ]
    }
   ],
   "source": [
    "def square(a):\n",
    "    return a * a\n",
    "\n",
    "x = square(5)\n",
    "print(x)"
   ]
  },
  {
   "cell_type": "code",
   "execution_count": 73,
   "metadata": {},
   "outputs": [
    {
     "data": {
      "text/plain": [
       "9"
      ]
     },
     "execution_count": 73,
     "metadata": {},
     "output_type": "execute_result"
    }
   ],
   "source": [
    "square(3)"
   ]
  },
  {
   "cell_type": "code",
   "execution_count": 74,
   "metadata": {},
   "outputs": [],
   "source": [
    "def square(a):\n",
    "    a * a"
   ]
  },
  {
   "cell_type": "code",
   "execution_count": 75,
   "metadata": {},
   "outputs": [],
   "source": [
    "square(3)"
   ]
  },
  {
   "cell_type": "code",
   "execution_count": 76,
   "metadata": {},
   "outputs": [
    {
     "name": "stdout",
     "output_type": "stream",
     "text": [
      "foo\n",
      "None\n"
     ]
    }
   ],
   "source": [
    "# Python'da programın akışı return deyimi görmeden fonksiyon sonlanırsa fonksiyondan geri dönüş değeri olarak None değeri elde edilmektedir.\n",
    "\n",
    "def foo():\n",
    "    print('foo')\n",
    "\n",
    "result = foo()\n",
    "print(result)"
   ]
  },
  {
   "cell_type": "code",
   "execution_count": 77,
   "metadata": {},
   "outputs": [
    {
     "name": "stdout",
     "output_type": "stream",
     "text": [
      "15\n"
     ]
    }
   ],
   "source": [
    "# İçerisinde sayılar olan dolaşılabilir bir nesneyi parametre olarak alıp onun toplam değerine geri dönen bir fonksiyon yazalım.\n",
    "\n",
    "def gettotal(l):\n",
    "    total = 0\n",
    "    for i in l:\n",
    "        total += i\n",
    "    return total\n",
    "\n",
    "result = gettotal([1, 2, 3, 4, 5])\n",
    "print(result)"
   ]
  },
  {
   "cell_type": "code",
   "execution_count": 78,
   "metadata": {},
   "outputs": [
    {
     "name": "stdout",
     "output_type": "stream",
     "text": [
      "45\n"
     ]
    }
   ],
   "source": [
    "result = gettotal(range(10))\n",
    "print(result)"
   ]
  },
  {
   "cell_type": "code",
   "execution_count": 82,
   "metadata": {},
   "outputs": [],
   "source": [
    "# İkinci dereceden denklemin köklerini bize bir demet biçiminde veren fonksiyonu yazalım.\n",
    "\n",
    "import math\n",
    "\n",
    "def getroots(a, b, c):\n",
    "    delta = b * b - 4 * a * c\n",
    "    if delta < 0:\n",
    "        return None\n",
    "    x1 = (-b + math.sqrt(delta)) / (2 * a)\n",
    "    x2 = (-b - math.sqrt(delta)) / (2 * a)\n",
    "\n",
    "    return x1, x2\n",
    "\n",
    "def main():\n",
    "    a = float(input('a: '))\n",
    "    b = float(input('b: '))\n",
    "    c = float(input('c: '))\n",
    "\n",
    "    result = getroots(a, b, c)\n",
    "    if result == None:\n",
    "        print('Kök yok')\n",
    "    else:\n",
    "        x1, x2 = result\n",
    "        print('x1 = {}, x2 = {}'.format(x1, x2))\n",
    "\n"
   ]
  },
  {
   "cell_type": "code",
   "execution_count": 83,
   "metadata": {},
   "outputs": [
    {
     "name": "stdout",
     "output_type": "stream",
     "text": [
      "x1 = 2.0, x2 = -2.0\n"
     ]
    }
   ],
   "source": [
    "main()"
   ]
  },
  {
   "cell_type": "markdown",
   "metadata": {},
   "source": [
    "## ÖDEV\n",
    "\n",
    "1) Parametre olarak dolaşılabilir bir nesne alan ve geri dönüş değeri olarak iki listeyi demet biçiminde veren get_odd_even isimli bir\n",
    "fonksiyon yazınız. Fonksiyon parametresiyle aldığı nesnedeki tek sayıları ve çift sayıları iki ayrı listede toplayıp (aritmetik anlamda değil) ilk elemanı tek sayılardan oluşan, ikinci elemanı çift sayılardan oluşan bir demeti geri döndürsün.\n",
    "\n",
    "2) Dolaşılabilir bir nesneyi parametre olarak alan ve bu nesnedeki değerlerin ortalaması ve standart sapmasını bir demet biçiminde geri döndüren get_mean_stddev ismili fonksiyonu yazınız.\n",
    "\n"
   ]
  },
  {
   "cell_type": "markdown",
   "metadata": {},
   "source": []
  }
 ],
 "metadata": {
  "kernelspec": {
   "display_name": "base",
   "language": "python",
   "name": "python3"
  },
  "language_info": {
   "codemirror_mode": {
    "name": "ipython",
    "version": 3
   },
   "file_extension": ".py",
   "mimetype": "text/x-python",
   "name": "python",
   "nbconvert_exporter": "python",
   "pygments_lexer": "ipython3",
   "version": "3.8.16"
  }
 },
 "nbformat": 4,
 "nbformat_minor": 2
}
