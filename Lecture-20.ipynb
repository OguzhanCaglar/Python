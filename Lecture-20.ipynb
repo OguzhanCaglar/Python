{
 "cells": [
  {
   "cell_type": "code",
   "execution_count": 1,
   "metadata": {},
   "outputs": [
    {
     "name": "stdout",
     "output_type": "stream",
     "text": [
      "Lecture-20\n"
     ]
    }
   ],
   "source": [
    "print('Lecture-20')"
   ]
  },
  {
   "cell_type": "markdown",
   "metadata": {},
   "source": [
    "### Çağrışım İlişkisi Örneği\n",
    "\n",
    "Student ve Teacher sınıfar birbirindne bağımsız olarak var olabilir. Ancak, öğrenci sınıfa katıldığında öğretmen ile etkilişime geçecek. bu durum bir association (çağrışım) ilişkisi. öğrencinin yaşam döngüsü öğretmenin yaşam döngüsünden bağımsız. ikisi de birbirinden bağımsız olarak var olabilir.\n",
    "\n",
    "Composition, Aggregation"
   ]
  },
  {
   "cell_type": "code",
   "execution_count": 3,
   "metadata": {},
   "outputs": [
    {
     "name": "stdout",
     "output_type": "stream",
     "text": [
      "John is attending Mr.Smith's class.\n",
      "John is attending Oguzhan's class.\n"
     ]
    }
   ],
   "source": [
    "class Teacher:\n",
    "    def __init__(self, name):\n",
    "        self.name = name\n",
    "\n",
    "    def teach(self):\n",
    "        print(f'{self.name} is teaching.')\n",
    "\n",
    "class Student:\n",
    "    def __init__(self, name):\n",
    "        self.name = name\n",
    "    \n",
    "    def attend_class(self, teacher):\n",
    "        print(f\"{self.name} is attending {teacher.name}'s class.\")\n",
    "\n",
    "teacher1 = Teacher(\"Mr.Smith\")\n",
    "teacher2 = Teacher(\"Oguzhan\")\n",
    "student1 = Student(\"John\")\n",
    "\n",
    "student1.attend_class(teacher1)\n",
    "student1.attend_class(teacher2)"
   ]
  },
  {
   "cell_type": "markdown",
   "metadata": {},
   "source": [
    "### Türetme İşlemleri\n",
    "\n",
    "class türemis_sınıfın_ismi(taban_sınıf_ismi):\n",
    "    sınıf elemanları\n",
    "    ..."
   ]
  },
  {
   "cell_type": "code",
   "execution_count": 4,
   "metadata": {},
   "outputs": [
    {
     "name": "stdout",
     "output_type": "stream",
     "text": [
      "foo\n",
      "bar\n",
      "tar\n"
     ]
    }
   ],
   "source": [
    "class A:\n",
    "    def foo(self):\n",
    "        print('foo')\n",
    "    \n",
    "    def bar(self):\n",
    "        print('bar')\n",
    "\n",
    "class B(A):\n",
    "    def tar(self):\n",
    "        print('tar')\n",
    "\n",
    "b = B()\n",
    "b.foo()\n",
    "b.bar()\n",
    "b.tar()"
   ]
  },
  {
   "cell_type": "code",
   "execution_count": 5,
   "metadata": {},
   "outputs": [
    {
     "name": "stdout",
     "output_type": "stream",
     "text": [
      "10\n",
      "20\n"
     ]
    }
   ],
   "source": [
    "class A:\n",
    "    def setA(self, a):\n",
    "        self.a = a\n",
    "    \n",
    "    def dispA(self):\n",
    "        print(self.a)\n",
    "\n",
    "class B(A):\n",
    "    def setB(self, b):\n",
    "        self.b = b\n",
    "    \n",
    "    def dispB(self):\n",
    "        print(self.b)\n",
    "\n",
    "b = B()\n",
    "\n",
    "b.setA(10)\n",
    "b.setB(20)\n",
    "\n",
    "b.dispA()\n",
    "b.dispB()"
   ]
  },
  {
   "cell_type": "code",
   "execution_count": 6,
   "metadata": {},
   "outputs": [
    {
     "ename": "AttributeError",
     "evalue": "'B' object has no attribute 'a'",
     "output_type": "error",
     "traceback": [
      "\u001b[1;31m---------------------------------------------------------------------------\u001b[0m",
      "\u001b[1;31mAttributeError\u001b[0m                            Traceback (most recent call last)",
      "Cell \u001b[1;32mIn[6], line 3\u001b[0m\n\u001b[0;32m      1\u001b[0m b \u001b[38;5;241m=\u001b[39m B()\n\u001b[0;32m      2\u001b[0m b\u001b[38;5;241m.\u001b[39msetB(\u001b[38;5;241m20\u001b[39m)\n\u001b[1;32m----> 3\u001b[0m \u001b[43mb\u001b[49m\u001b[38;5;241;43m.\u001b[39;49m\u001b[43mdispA\u001b[49m\u001b[43m(\u001b[49m\u001b[43m)\u001b[49m\n",
      "Cell \u001b[1;32mIn[5], line 6\u001b[0m, in \u001b[0;36mA.dispA\u001b[1;34m(self)\u001b[0m\n\u001b[0;32m      5\u001b[0m \u001b[38;5;28;01mdef\u001b[39;00m \u001b[38;5;21mdispA\u001b[39m(\u001b[38;5;28mself\u001b[39m):\n\u001b[1;32m----> 6\u001b[0m     \u001b[38;5;28mprint\u001b[39m(\u001b[38;5;28;43mself\u001b[39;49m\u001b[38;5;241;43m.\u001b[39;49m\u001b[43ma\u001b[49m)\n",
      "\u001b[1;31mAttributeError\u001b[0m: 'B' object has no attribute 'a'"
     ]
    }
   ],
   "source": [
    "b = B()\n",
    "b.setB(20)\n",
    "b.dispA()"
   ]
  },
  {
   "cell_type": "markdown",
   "metadata": {},
   "source": [
    "genellikle sınıfların örnek öznitelikleri __init__ metotlarında ilk kez oluştururuz. Taban sınıfın init metodunda taban sınıfın öznitelikleri, türemiş sınıfın __init__ metodunda da türemiş sınıfın öznitelikleri oluşturulmaktadır. o zaman biz türemiş sınıf türünden bir nesne yarattığımızda türemiş sınıfın init metodu çağrılacağı için bizim de türemiş sınıfın init metodunda taban sınıfın init metodunu çağırmamız uygun olacaktır.\n",
    "\n",
    "taban_sınıf_ismi.__init__(self, ....)"
   ]
  },
  {
   "cell_type": "code",
   "execution_count": 7,
   "metadata": {},
   "outputs": [
    {
     "name": "stdout",
     "output_type": "stream",
     "text": [
      "10\n",
      "20\n"
     ]
    }
   ],
   "source": [
    "class A:\n",
    "    def __init__(self, a):\n",
    "        self.a = a\n",
    "    \n",
    "    def dispA(self):\n",
    "        print(self.a)\n",
    "\n",
    "class B(A):\n",
    "    def __init__(self, a, b):\n",
    "        A.__init__(self, a)\n",
    "        self.b = b\n",
    "    \n",
    "    def dispB(self):\n",
    "        print(self.b)\n",
    "\n",
    "b = B(10, 20)\n",
    "b.dispA()\n",
    "b.dispB()"
   ]
  },
  {
   "cell_type": "markdown",
   "metadata": {},
   "source": [
    "Taban sınıfın __init__ metodunu çağırmanın diğer bir yolu da super fonksiyonunu kullanmaktır. super fonksiyonu tipik olarak iki parametre almaktadır. birinci parametre taban sınıfı bulunacak türemiş sınıfın ismi. ikinci parametre de türemiş sınıf türünden nesneyi temsil eden bir değişken. ikinci parametre --> self. B sınıfının __init__ metodunda A sınıfının __init__ metodunun diğer bir çağrılma biçimi:\n",
    "\n",
    "super(B, self).__init__(...)"
   ]
  },
  {
   "cell_type": "code",
   "execution_count": 8,
   "metadata": {},
   "outputs": [
    {
     "name": "stdout",
     "output_type": "stream",
     "text": [
      "10\n",
      "20\n"
     ]
    }
   ],
   "source": [
    "class A:\n",
    "    def __init__(self, a):\n",
    "        self.a = a\n",
    "    \n",
    "    def dispA(self):\n",
    "        print(self.a)\n",
    "\n",
    "class B(A):\n",
    "    def __init__(self, a, b):\n",
    "        super(B, self).__init__(a)  # A.__init__(self, a)\n",
    "        self.b = b\n",
    "    \n",
    "    def dispB(self):\n",
    "        print(self.b)\n",
    "\n",
    "b = B(10, 20)\n",
    "b.dispA()\n",
    "b.dispB()"
   ]
  },
  {
   "cell_type": "markdown",
   "metadata": {},
   "source": [
    "bir personel takip programı. işletmede çalışan kişilerin sınıflarla temsil edildiğini düşünelim. her çalışanın ortak olan birtakım bilgileri taban sınıfta toplanabilir. sonra bu taban sınıftan türetmeler yapılarak her çalışan grubunun kendi bilgileri ve işlevleri oluşturulabilir.\n",
    "\n",
    "employee --> worker, manager, salesPerson"
   ]
  },
  {
   "cell_type": "code",
   "execution_count": 9,
   "metadata": {},
   "outputs": [
    {
     "name": "stdout",
     "output_type": "stream",
     "text": [
      "Adı Soyadı: Oğuzhan Çağlar, Adres: Ümraniye, Vardiya: Sabah\n"
     ]
    }
   ],
   "source": [
    "class Employee:\n",
    "    def __init__(self, name, address):\n",
    "        self.name = name\n",
    "        self.address = address\n",
    "    \n",
    "    def disp_employee(self):\n",
    "        print('Adı Soyadı: {}, Adres: {}'.format(self.name, self.address))\n",
    "\n",
    "class Worker(Employee):\n",
    "    def __init__(self, name, address, shift):\n",
    "        super(Worker, self).__init__(name, address)  # Employee.__init__(self, name, address)\n",
    "        self.shift = shift\n",
    "    \n",
    "    def disp_worker(self):\n",
    "        print(\"Adı Soyadı: {}, Adres: {}, Vardiya: {}\".format(self.name, self.address, self.shift))\n",
    "\n",
    "e = Worker('Oğuzhan Çağlar', 'Ümraniye', 'Sabah')\n",
    "e.disp_worker()"
   ]
  },
  {
   "cell_type": "code",
   "execution_count": 10,
   "metadata": {},
   "outputs": [
    {
     "name": "stdout",
     "output_type": "stream",
     "text": [
      "Adı Soyadı: Oğuzhan Çağlar, Adres: Ümraniye, Departman: Üretim, Bölge: Ortadoğu\n"
     ]
    }
   ],
   "source": [
    "class Manager(Employee):\n",
    "    def __init__(self, name, address, department):\n",
    "        super(Manager, self).__init__(name, address)  # Employee.__init__(self, name, address)\n",
    "        self.department = department\n",
    "    \n",
    "    def disp_manager(self):\n",
    "        print(\"Adı Soyadı: {}, Adres: {}, Departman: {}\".format(self.name, self.address, self.department))\n",
    "\n",
    "class Executive(Manager):\n",
    "    def __init__(self, name, address, department, region):\n",
    "        super(Executive, self).__init__(name, address, department)  # Manager.__init__(self, name, address, department)\n",
    "        self.region = region\n",
    "    \n",
    "    def disp_executive(self):\n",
    "        print(\"Adı Soyadı: {}, Adres: {}, Departman: {}, Bölge: {}\".format(self.name, self.address, self.department, self.region))\n",
    "\n",
    "e = Executive('Oğuzhan Çağlar', 'Ümraniye', 'Üretim', 'Ortadoğu')\n",
    "e.disp_executive()"
   ]
  },
  {
   "cell_type": "code",
   "execution_count": 12,
   "metadata": {},
   "outputs": [
    {
     "name": "stdout",
     "output_type": "stream",
     "text": [
      "Adı Soyadı: Oğuzhan Çağlar\n",
      "Adres: Ümraniye\n",
      "Departman: Üretim\n",
      "Bölge: Ortadoğu\n"
     ]
    }
   ],
   "source": [
    "class Employee:\n",
    "    def __init__(self, name, address):\n",
    "        self.name = name\n",
    "        self.address = address\n",
    "    \n",
    "    def disp(self):\n",
    "        print('Adı Soyadı: {}'.format(self.name))\n",
    "        print('Adres: {}'.format(self.address))\n",
    "\n",
    "class Worker(Employee):\n",
    "    def __init__(self, name, address, shift):\n",
    "        super(Worker, self).__init__(name, address)  # Employee.__init__(self, name, address)\n",
    "        self.shift = shift\n",
    "    \n",
    "    def disp(self):\n",
    "        super(Worker, self).disp()                  # Employee.disp(self)\n",
    "        print(\"Vardiya: {}\".format(self.shift))\n",
    "\n",
    "class Manager(Employee):\n",
    "    def __init__(self, name, address, department):\n",
    "        super(Manager, self).__init__(name, address)  # Employee.__init__(self, name, address)\n",
    "        self.department = department\n",
    "    \n",
    "    def disp(self):\n",
    "        super(Manager, self).disp()\n",
    "        print(\"Departman: {}\".format(self.department))\n",
    "\n",
    "class Executive(Manager):\n",
    "    def __init__(self, name, address, department, region):\n",
    "        super(Executive, self).__init__(name, address, department)  # Manager.__init__(self, name, address, department)\n",
    "        self.region = region\n",
    "    \n",
    "    def disp(self):\n",
    "        super(Executive, self).disp()\n",
    "        print(\"Bölge: {}\".format(self.region))\n",
    "\n",
    "e = Executive('Oğuzhan Çağlar', 'Ümraniye', 'Üretim', 'Ortadoğu')\n",
    "e.disp()"
   ]
  },
  {
   "cell_type": "markdown",
   "metadata": {},
   "source": [
    "### object Sınıf\n",
    "\n",
    "Python'da her sınıf doğrudan ya da dolaylı olarak tepedeki bir object isimli sınıftan türetilmiş durumdadır. Biz bir sınıfı hiçbir sınıftan türetmesek bile python yorumlayıcısı onun object sınıfından türetildiğini varsaymaktadır.\n",
    "\n"
   ]
  },
  {
   "cell_type": "code",
   "execution_count": 13,
   "metadata": {},
   "outputs": [],
   "source": [
    "class Sample:\n",
    "    pass\n",
    "\n",
    "# bildirimi ile,\n",
    "\n",
    "class Sample(object):\n",
    "    pass"
   ]
  },
  {
   "cell_type": "markdown",
   "metadata": {},
   "source": [
    "### Object sınıfının elemanları\n",
    "\n",
    "1) __mro__ öznitelkleri\n",
    "\n",
    "bir sınıfın türetme hiyerarşisi sınıfın __mro__ isimli özniteliği ile elde edilebilir."
   ]
  },
  {
   "cell_type": "code",
   "execution_count": 14,
   "metadata": {},
   "outputs": [
    {
     "name": "stdout",
     "output_type": "stream",
     "text": [
      "(<class '__main__.C'>, <class '__main__.B'>, <class '__main__.A'>, <class 'object'>)\n"
     ]
    }
   ],
   "source": [
    "class A:\n",
    "    pass\n",
    "\n",
    "class B(A):\n",
    "    pass\n",
    "\n",
    "class C(B):\n",
    "    pass\n",
    "\n",
    "print(C.__mro__)"
   ]
  },
  {
   "cell_type": "code",
   "execution_count": 15,
   "metadata": {},
   "outputs": [
    {
     "name": "stdout",
     "output_type": "stream",
     "text": [
      "(<class '__main__.C'>, <class '__main__.A'>, <class '__main__.B'>, <class 'object'>)\n"
     ]
    }
   ],
   "source": [
    "class A:\n",
    "    pass\n",
    "\n",
    "class B:\n",
    "    pass\n",
    "\n",
    "class C(A, B):\n",
    "    pass\n",
    "\n",
    "print(C.__mro__)"
   ]
  },
  {
   "cell_type": "code",
   "execution_count": 16,
   "metadata": {},
   "outputs": [
    {
     "name": "stdout",
     "output_type": "stream",
     "text": [
      "(<class '__main__.C'>, <class '__main__.A'>, <class '__main__.B'>, <class 'object'>)\n"
     ]
    }
   ],
   "source": [
    "import inspect\n",
    "\n",
    "print(inspect.getmro(C))"
   ]
  },
  {
   "cell_type": "markdown",
   "metadata": {},
   "source": [
    "## Çoklu Türetme (Multiple Inheritance)\n",
    "\n",
    "bir sınıfın birden fazla taban sınıfa sahip olması durumuna çoklu türetme (multiple inheritance) denilmektedir. C sınıfının iki taban sınıfı vardır. A ve B. Bu durum çoklu türetme demektir. \n",
    "\n",
    "class A:\n",
    "    pass\n",
    "\n",
    "class B:\n",
    "    pass\n",
    "\n",
    "class C(A, B):\n",
    "    pass\n",
    "\n",
    "\n",
    "------------------------------------\n",
    "class A:\n",
    "    pass\n",
    "\n",
    "class B(A):\n",
    "    pass\n",
    "\n",
    "class D(A):\n",
    "    pass\n",
    "\n",
    "class C(B):\n",
    "    pass\n",
    "\n",
    "Eğer bir nesne iki farklı nesnenin özelliklerini barındırıyorsa ve ayrıca kendine özgü özellikleri da varsa bu durum çoklu türetmeyi çağtırtırır. Hava taşıtları bir sınıfla denit taşıtları başka bir ısınfla temsil edilmiş olsun. hem havada hem denizde giden taşıtlar bu iki sınıftan çoklu türetilerek oluşturulabilirler. çoklu türetmede isim araması için bazı kurallar vcar."
   ]
  },
  {
   "cell_type": "code",
   "execution_count": 17,
   "metadata": {},
   "outputs": [
    {
     "name": "stdout",
     "output_type": "stream",
     "text": [
      "foo\n",
      "bar\n",
      "tar\n"
     ]
    }
   ],
   "source": [
    "class A:\n",
    "    def foo(self):\n",
    "        print('foo')\n",
    "\n",
    "class B:\n",
    "    def bar(self):\n",
    "        print('bar')\n",
    "\n",
    "class C(A, B):\n",
    "    def tar(self):\n",
    "        print('tar')\n",
    "\n",
    "c = C()\n",
    "c.foo()\n",
    "c.bar()\n",
    "c.tar()"
   ]
  },
  {
   "cell_type": "markdown",
   "metadata": {},
   "source": [
    "### Taban ve Türemiş Sınıflarda Aynı İsimli Elemanların Bulunması Durumu\n",
    "\n",
    "taban sınıfın veri elemanlarıyla türemiş sınıfın veri elemanları farklı bir blok olarak tutulmuyor. "
   ]
  },
  {
   "cell_type": "code",
   "execution_count": 18,
   "metadata": {},
   "outputs": [
    {
     "name": "stdout",
     "output_type": "stream",
     "text": [
      "B__init__ called: <class '__main__.B'>\n",
      "A__init__ called: <class '__main__.B'>\n",
      "A.Disp: 20\n",
      "B.Disp: 20\n"
     ]
    }
   ],
   "source": [
    "class A:\n",
    "    def __init__(self):\n",
    "        print('A__init__ called: {}'.format(type(self)))\n",
    "        self.x = 10\n",
    "    \n",
    "    def dispA(self):\n",
    "        print('A.Disp: {}'.format(self.x))\n",
    "\n",
    "\n",
    "class B(A):\n",
    "    def __init__(self):\n",
    "        print('B__init__ called: {}'.format(type(self)))\n",
    "        super(B, self).__init__()\n",
    "        self.x = 20\n",
    "    \n",
    "    def dispB(self):\n",
    "        print('B.Disp: {}'.format(self.x))\n",
    "\n",
    "b = B()\n",
    "b.dispA()\n",
    "b.dispB()"
   ]
  },
  {
   "cell_type": "markdown",
   "metadata": {},
   "source": [
    "taban sınıf ve türemiş sınıflarda aynı isimli metotlar bulunabilir mi? İşte taban sınıftaki bir metodun türemiş sınıfta yeniden yazılması durumuna \"taban sınıftaki metodun türemiş sınıfta override edilmesi\" denilmektedir. Override etme durumunda eğer metot taban sınıf türünden değişken ile çağrılmışsa taban sınıftaki metot, türemiş sınıf türünden değişkenle çağırılmışsa türemiş sınıftaki metot çağırılmaktadır."
   ]
  },
  {
   "cell_type": "code",
   "execution_count": 19,
   "metadata": {},
   "outputs": [
    {
     "name": "stdout",
     "output_type": "stream",
     "text": [
      "A.foo\n",
      "B.foo\n"
     ]
    }
   ],
   "source": [
    "class A:\n",
    "    def foo(self):\n",
    "        print('A.foo')\n",
    "\n",
    "class B(A):\n",
    "    def foo(self):\n",
    "        print('B.foo')\n",
    "\n",
    "a = A()\n",
    "a.foo()\n",
    "\n",
    "b = B()\n",
    "b.foo()"
   ]
  },
  {
   "cell_type": "code",
   "execution_count": 20,
   "metadata": {},
   "outputs": [
    {
     "name": "stdout",
     "output_type": "stream",
     "text": [
      "A.foo\n",
      "A.foo\n"
     ]
    }
   ],
   "source": [
    "class A:\n",
    "    def foo(self):\n",
    "        print('A.foo')\n",
    "\n",
    "class B(A):\n",
    "    def foo(self):\n",
    "        print('B.foo')\n",
    "\n",
    "b = B()\n",
    "A.foo(b) # A.foo çağrılır\n",
    "super(B, b).foo() # A.foo çağrılır"
   ]
  },
  {
   "cell_type": "markdown",
   "metadata": {},
   "source": [
    "### Overload ve Override Kavramları\n",
    "\n",
    "Overload terimi --> aynı isimli farklı parametrik yapılara ilişkin fonksiyonların ya da metotların aynı faaliyet alanı içerisinde bulunması. Python'da bu anlamda bir overload yoktur. yani aynı isimi birden fazla fonksiyon ya da metot ne olursa olsun beraber bulunamazlar. (Tabii farklı faaliyet alanlarında, örneğin farklı snııflarda bulunabilirler.) Python'da zaten fonksiyonlar ve metotlar diğer değişkenler gibi birer referans belirtmektedir. yani fonksiyon yada metot isimleri aslında bu fonksiyon ya da metotları içeren nesnelerin adresleri tutan değişkenlerdir."
   ]
  },
  {
   "cell_type": "code",
   "execution_count": 21,
   "metadata": {},
   "outputs": [
    {
     "name": "stdout",
     "output_type": "stream",
     "text": [
      "<function foo at 0x000001B8A58E51F0>\n",
      "<class 'function'>\n"
     ]
    }
   ],
   "source": [
    "def foo():\n",
    "    print('foo')\n",
    "\n",
    "print(foo)\n",
    "print(type(foo))"
   ]
  },
  {
   "cell_type": "code",
   "execution_count": 22,
   "metadata": {},
   "outputs": [
    {
     "name": "stdout",
     "output_type": "stream",
     "text": [
      "foo\n",
      "other foo\n"
     ]
    }
   ],
   "source": [
    "def foo():\n",
    "    print('foo')\n",
    "\n",
    "foo()\n",
    "\n",
    "def foo():\n",
    "    print('other foo')\n",
    "\n",
    "foo()"
   ]
  },
  {
   "cell_type": "code",
   "execution_count": 23,
   "metadata": {},
   "outputs": [
    {
     "name": "stdout",
     "output_type": "stream",
     "text": [
      "123\n",
      "Ali\n"
     ]
    }
   ],
   "source": [
    "x = 123\n",
    "print(x)\n",
    "\n",
    "x = 'Ali'\n",
    "print(x)"
   ]
  },
  {
   "cell_type": "code",
   "execution_count": 24,
   "metadata": {},
   "outputs": [
    {
     "name": "stdout",
     "output_type": "stream",
     "text": [
      "foo\n",
      "foo\n"
     ]
    }
   ],
   "source": [
    "def foo():\n",
    "    print('foo')\n",
    "\n",
    "bar = foo\n",
    "\n",
    "foo()\n",
    "bar()"
   ]
  },
  {
   "cell_type": "markdown",
   "metadata": {},
   "source": [
    "fonksiyonlar da \"birinci sınıf vatandaş (first class citizen)\" --> fonksiyolara parametre yoluyla aktarılabilir."
   ]
  },
  {
   "cell_type": "code",
   "execution_count": 25,
   "metadata": {},
   "outputs": [
    {
     "name": "stdout",
     "output_type": "stream",
     "text": [
      "foo: 1\n",
      "foo: 2\n",
      "foo: 3\n",
      "foo: 4\n",
      "foo: 5\n",
      "1\n",
      "2\n",
      "3\n",
      "4\n",
      "5\n"
     ]
    }
   ],
   "source": [
    "def foreach(l, f):\n",
    "    for x in l:\n",
    "        f(x)\n",
    "\n",
    "def foo(x):\n",
    "    print('foo: {}'.format(x))\n",
    "\n",
    "foreach([1, 2, 3, 4, 5], foo)\n",
    "foreach([1, 2, 3, 4, 5], print)\n",
    "\n",
    "# Yani fonksiyonların parametre yoluyla fonksiyonlara normal birer değişken gibi aktarabildik."
   ]
  },
  {
   "cell_type": "markdown",
   "metadata": {},
   "source": [
    "sınıf metotlarınıbir çeşit sınıf özniteliği olarak düşünebiliriz. yani bir sınıfın metodu aslında sınıfın içerisinde tanımlanmış bir değişken gibidir. bir sınıf içerisinde de aynı isimli metotlar bulunursa aslında bunlar overload edilmiş olmamaktadır. yine son aynı isimli metot geçerli metot olarak kullanılacaktır. "
   ]
  },
  {
   "cell_type": "code",
   "execution_count": 26,
   "metadata": {},
   "outputs": [
    {
     "name": "stdout",
     "output_type": "stream",
     "text": [
      "parametreli foo\n"
     ]
    },
    {
     "ename": "TypeError",
     "evalue": "foo() missing 1 required positional argument: 'a'",
     "output_type": "error",
     "traceback": [
      "\u001b[1;31m---------------------------------------------------------------------------\u001b[0m",
      "\u001b[1;31mTypeError\u001b[0m                                 Traceback (most recent call last)",
      "Cell \u001b[1;32mIn[26], line 10\u001b[0m\n\u001b[0;32m      8\u001b[0m s \u001b[38;5;241m=\u001b[39m Sample()\n\u001b[0;32m      9\u001b[0m s\u001b[38;5;241m.\u001b[39mfoo(\u001b[38;5;241m10\u001b[39m)\n\u001b[1;32m---> 10\u001b[0m \u001b[43ms\u001b[49m\u001b[38;5;241;43m.\u001b[39;49m\u001b[43mfoo\u001b[49m\u001b[43m(\u001b[49m\u001b[43m)\u001b[49m\n",
      "\u001b[1;31mTypeError\u001b[0m: foo() missing 1 required positional argument: 'a'"
     ]
    }
   ],
   "source": [
    "class Sample:\n",
    "    def foo(self):\n",
    "        print('parametresiz foo')\n",
    "\n",
    "    def foo(self, a):\n",
    "        print('parametreli foo')\n",
    "\n",
    "s = Sample()\n",
    "s.foo(10) # geçerli\n",
    "s.foo()   # error"
   ]
  },
  {
   "cell_type": "code",
   "execution_count": 29,
   "metadata": {},
   "outputs": [
    {
     "name": "stdout",
     "output_type": "stream",
     "text": [
      "foo\n",
      "bar\n",
      "100\n"
     ]
    }
   ],
   "source": [
    "class Sample:\n",
    "    def foo(self):\n",
    "        print('foo')\n",
    "\n",
    "def bar(self):\n",
    "    print('bar')\n",
    "\n",
    "Sample.bar = bar\n",
    "\n",
    "s = Sample()\n",
    "s.foo()\n",
    "s.bar()\n",
    "\n",
    "Sample.x = 100\n",
    "print(Sample.x)"
   ]
  },
  {
   "cell_type": "markdown",
   "metadata": {},
   "source": [
    "Override terimi taban sınıftaki bir metot ile aynı isimli türemiş sınıfta bir metodun bulunması durumudur. \"Override\" mekanizması özellikle çokbiçimlilik (polymorphism) için kullanılır. Çokbiçimlilik sayesinde her sınıf belli bir işlevi kendine göre diğerlerinden az çok farklı biçimde yerine getirebilmektedir. Override kavramı Python'da var olan bir kavramdır. Çünkü python'da da farklı sınıflar içerisinde aynı isimli metotlar bulunabilmektedir."
   ]
  },
  {
   "cell_type": "markdown",
   "metadata": {},
   "source": [
    "## Sınıflarda İsim Arama ve MRO (Method Resolution Order) Kavramı\n",
    "\n",
    "bir değişken ile bir metot çağrıldığında metot o değişkenin türüne ilişkin MRO sırası denilen sınıflarda sırasıyla aranmaktadır. Yani MRO çağrılıan metotların srıasıyla hangi sınıflarda aranacağını belirten bir kavramdır. Sınıfların __mro__ isimli öznitelikleri bize bir demet olarak bu sırayı verir."
   ]
  },
  {
   "cell_type": "code",
   "execution_count": 30,
   "metadata": {},
   "outputs": [
    {
     "data": {
      "text/plain": [
       "(__main__.C, __main__.B, __main__.A, object)"
      ]
     },
     "execution_count": 30,
     "metadata": {},
     "output_type": "execute_result"
    }
   ],
   "source": [
    "class A:\n",
    "    pass\n",
    "\n",
    "class B(A):\n",
    "    pass\n",
    "\n",
    "class C(B):\n",
    "    pass\n",
    "\n",
    "C.__mro__"
   ]
  },
  {
   "cell_type": "code",
   "execution_count": 32,
   "metadata": {},
   "outputs": [
    {
     "name": "stdout",
     "output_type": "stream",
     "text": [
      "B.foo\n"
     ]
    }
   ],
   "source": [
    "class A:\n",
    "    def foo(self):\n",
    "        print('A.foo')\n",
    "\n",
    "class B(A):\n",
    "    def foo(self):\n",
    "        print('B.foo')\n",
    "\n",
    "class C(B):\n",
    "    pass\n",
    "\n",
    "c = C()\n",
    "\n",
    "c.foo() #B.foo"
   ]
  },
  {
   "cell_type": "code",
   "execution_count": 33,
   "metadata": {},
   "outputs": [
    {
     "data": {
      "text/plain": [
       "(__main__.C, __main__.A, __main__.B, object)"
      ]
     },
     "execution_count": 33,
     "metadata": {},
     "output_type": "execute_result"
    }
   ],
   "source": [
    "class A:\n",
    "    pass\n",
    "\n",
    "class B:\n",
    "    pass\n",
    "\n",
    "class C(A, B):\n",
    "    pass\n",
    "\n",
    "C.__mro__"
   ]
  },
  {
   "cell_type": "code",
   "execution_count": 34,
   "metadata": {},
   "outputs": [
    {
     "name": "stdout",
     "output_type": "stream",
     "text": [
      "(<class '__main__.E'>, <class '__main__.B'>, <class '__main__.A'>, <class '__main__.D'>, <class '__main__.C'>, <class 'object'>)\n"
     ]
    }
   ],
   "source": [
    "class A:\n",
    "    pass\n",
    "\n",
    "class B(A):\n",
    "    pass\n",
    "\n",
    "class C:\n",
    "    pass\n",
    "\n",
    "class D(C):\n",
    "    pass\n",
    "\n",
    "class E(B, D):\n",
    "    pass\n",
    "\n",
    "print(E.__mro__)"
   ]
  },
  {
   "cell_type": "markdown",
   "metadata": {},
   "source": [
    "### super fonksiyonu\n",
    "\n",
    "super sözcüğü nypt'de aynı zamanda taban sınıf çağrışımı da yapmaktadır.\n",
    "\n",
    "super(sınıf_ismi, değişken).fonksiyon_ismi(...)\n",
    "\n",
    "super(D, d).foo() --> d.foo()"
   ]
  },
  {
   "cell_type": "code",
   "execution_count": 35,
   "metadata": {},
   "outputs": [
    {
     "name": "stdout",
     "output_type": "stream",
     "text": [
      "(<class '__main__.D'>, <class '__main__.B'>, <class '__main__.C'>, <class '__main__.A'>, <class 'object'>)\n",
      "D.foo\n",
      "A.foo\n"
     ]
    }
   ],
   "source": [
    "class A:\n",
    "    def foo(self):\n",
    "        print('A.foo')\n",
    "\n",
    "class B(A):\n",
    "    def foo(self):\n",
    "        print('B.foo')\n",
    "\n",
    "class C(A):\n",
    "    def foo(self):\n",
    "        print('C.foo')\n",
    "\n",
    "class D(B, C):\n",
    "    def foo(self):\n",
    "        print('D.foo')\n",
    "        super(C, self).foo() # A.foo çağrılıacak\n",
    "\n",
    "print(D.__mro__)\n",
    "d = D()\n",
    "d.foo()"
   ]
  },
  {
   "cell_type": "markdown",
   "metadata": {},
   "source": [
    "super().foo()\n",
    "\n",
    "super(çağrısının_içinde_yapıldığı_sınıf, çağrının yapıdlığı değişken).foo()\n",
    "\n",
    "d = D()\n",
    "d.foo()\n",
    "\n",
    "D sınıfının foo metodu içerisinde şu çağrıyı yapmış olalım:\n",
    "\n",
    "super().bar() --> super(D, self).bar()"
   ]
  },
  {
   "cell_type": "code",
   "execution_count": 36,
   "metadata": {},
   "outputs": [
    {
     "name": "stdout",
     "output_type": "stream",
     "text": [
      "C.foo\n",
      "B.foo\n",
      "A.foo\n"
     ]
    }
   ],
   "source": [
    "class A:\n",
    "    def foo(self):\n",
    "        print('A.foo')\n",
    "\n",
    "class B(A):\n",
    "    def foo(self):\n",
    "        print('B.foo')\n",
    "        super().foo()\n",
    "\n",
    "class C(B):\n",
    "    def foo(self):\n",
    "        print('C.foo')\n",
    "        super().foo()\n",
    "\n",
    "c = C()\n",
    "c.foo()"
   ]
  },
  {
   "cell_type": "code",
   "execution_count": 38,
   "metadata": {},
   "outputs": [
    {
     "name": "stdout",
     "output_type": "stream",
     "text": [
      "(<class '__main__.D'>, <class '__main__.B'>, <class '__main__.C'>, <class '__main__.A'>, <class 'object'>)\n",
      "D.foo\n",
      "B.foo\n",
      "C.foo\n",
      "A.foo\n"
     ]
    }
   ],
   "source": [
    "class A:\n",
    "    def foo(self):\n",
    "        print('A.foo')\n",
    "\n",
    "class B(A):\n",
    "    def foo(self):\n",
    "        print('B.foo')\n",
    "        super().foo()\n",
    "\n",
    "class C(A):\n",
    "    def foo(self):\n",
    "        print('C.foo')\n",
    "        super().foo()\n",
    "\n",
    "class D(B, C):\n",
    "    def foo(self):\n",
    "        print('D.foo')\n",
    "        super().foo()\n",
    "\n",
    "print(D.__mro__)\n",
    "d = D()\n",
    "d.foo()"
   ]
  },
  {
   "cell_type": "markdown",
   "metadata": {},
   "source": [
    "### Türetme Durumlarında Türemiş Sınıfın __init__ metodunun Taban sınıfının __init__ metodunu çağrılması?\n",
    "\n",
    "### Kapsülleme (Encapsulation) & Data Hiding\n",
    "### Çokbiçimlilik (Polymorphism)"
   ]
  }
 ],
 "metadata": {
  "kernelspec": {
   "display_name": "base",
   "language": "python",
   "name": "python3"
  },
  "language_info": {
   "codemirror_mode": {
    "name": "ipython",
    "version": 3
   },
   "file_extension": ".py",
   "mimetype": "text/x-python",
   "name": "python",
   "nbconvert_exporter": "python",
   "pygments_lexer": "ipython3",
   "version": "3.8.16"
  }
 },
 "nbformat": 4,
 "nbformat_minor": 2
}
