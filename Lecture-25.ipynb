{
 "cells": [
  {
   "cell_type": "code",
   "execution_count": 1,
   "metadata": {},
   "outputs": [
    {
     "name": "stdout",
     "output_type": "stream",
     "text": [
      "Lecture-25\n"
     ]
    }
   ],
   "source": [
    "print('Lecture-25')"
   ]
  },
  {
   "cell_type": "markdown",
   "metadata": {},
   "source": [
    "## __str__ ve __repr__ metotları\n",
    "\n",
    "Ne zaman bir sınıf nesnesini str fonksiyonu ile str türüne dönüştürecek olsak str fonksiyonu ilgili sınıf nesnesi ile __str__ metodunu çağırmaktadır.\n",
    "\n",
    "result = str(x)\n",
    "\n",
    "ile\n",
    "\n",
    "result = x.__str__()\n",
    "\n",
    "def str(s):\n",
    "    return s.__str__()\n",
    "\n",
    "print(a)\n",
    "\n",
    "ile\n",
    "\n",
    "print(str(a))\n",
    "\n",
    "ya da,\n",
    "\n",
    "print(a.__str__())\n",
    "\n",
    "tamamen işlevsel olarak eşdeğerdir"
   ]
  },
  {
   "cell_type": "code",
   "execution_count": 2,
   "metadata": {},
   "outputs": [
    {
     "name": "stdout",
     "output_type": "stream",
     "text": [
      "Sample object, value = 100\n"
     ]
    }
   ],
   "source": [
    "class Sample:\n",
    "    def __init__(self, val):\n",
    "        self.val = val\n",
    "\n",
    "    def __str__(self):\n",
    "        return 'Sample object, value = {}'.format(self.val)\n",
    "\n",
    "s = Sample(100)\n",
    "print(s)"
   ]
  },
  {
   "cell_type": "code",
   "execution_count": 3,
   "metadata": {},
   "outputs": [
    {
     "name": "stdout",
     "output_type": "stream",
     "text": [
      "3+2i\n"
     ]
    }
   ],
   "source": [
    "class Complex:\n",
    "    def __init__(self, real, imag):\n",
    "        self.real = real\n",
    "        self.imag = imag\n",
    "    \n",
    "    def __str__(self):\n",
    "        return '{}+{}i'.format(self.real, self.imag)\n",
    "    \n",
    "z = Complex(3, 2)\n",
    "print(z)"
   ]
  },
  {
   "cell_type": "code",
   "execution_count": 4,
   "metadata": {},
   "outputs": [
    {
     "name": "stdout",
     "output_type": "stream",
     "text": [
      "1/10/2024\n"
     ]
    }
   ],
   "source": [
    "class Date:\n",
    "    def __init__(self, day, month, year):\n",
    "        self.day = day\n",
    "        self.month = month\n",
    "        self.year = year\n",
    "    \n",
    "    def __str__(self):\n",
    "        return '{}/{}/{}'.format(self.day, self.month, self.year)\n",
    "    \n",
    "d = Date(1, 10, 2024)\n",
    "print(d)"
   ]
  },
  {
   "cell_type": "markdown",
   "metadata": {},
   "source": [
    "__str__ metodu yazılmazsa, anımsanacağı gibi bir sınıfta belli bir metot yoksa isim arama işlemi MRO sırasına göre taban sınıflarda yapılmaktadır. Her sınıf da doğrudan ya da dolaylı olarak object sınıfından türetilmiş olduğuna göre biz sınıfımız için __str__ metodunu yazmazsak en kötü olasılıkla `object` sınıfının __str__ metodu çağrılacaktır.  \n",
    "\n",
    "__repr__ metodu: yine tipik olarak nesneyi temsil eden bir yazıyla geri dönerler. \n",
    "\n",
    "def repr(o):\n",
    "    return o.__repr__()\n",
    "\n",
    "Sınıfların repr metotları python'ın komut yorumlayııları tarafından bir değişkenin ismi yazılıp enter tuşuna basıldığında da çağrılmaktadır. "
   ]
  },
  {
   "cell_type": "code",
   "execution_count": 6,
   "metadata": {},
   "outputs": [
    {
     "data": {
      "text/plain": [
       "Date object: 10/12/2019"
      ]
     },
     "execution_count": 6,
     "metadata": {},
     "output_type": "execute_result"
    }
   ],
   "source": [
    "class Date:\n",
    "    def __init__(self, day, month, year):\n",
    "        self.day = day\n",
    "        self.month = month\n",
    "        self.year = year\n",
    "    \n",
    "    def __str__(self):\n",
    "        return '{}/{}/{}'.format(self.day, self.month, self.year)\n",
    "    \n",
    "    def __repr__(self):\n",
    "        return 'Date object: {}/{}/{}'.format(self.day, self.month, self.year)\n",
    "    \n",
    "d = Date(10, 12, 2019)\n",
    "d"
   ]
  },
  {
   "cell_type": "code",
   "execution_count": 7,
   "metadata": {},
   "outputs": [
    {
     "name": "stdout",
     "output_type": "stream",
     "text": [
      "10/12/2019\n"
     ]
    }
   ],
   "source": [
    "print(d)"
   ]
  },
  {
   "cell_type": "code",
   "execution_count": 8,
   "metadata": {},
   "outputs": [
    {
     "data": {
      "text/plain": [
       "'ali\\nveli'"
      ]
     },
     "execution_count": 8,
     "metadata": {},
     "output_type": "execute_result"
    }
   ],
   "source": [
    "s = 'ali\\nveli'\n",
    "s"
   ]
  },
  {
   "cell_type": "code",
   "execution_count": 9,
   "metadata": {},
   "outputs": [
    {
     "name": "stdout",
     "output_type": "stream",
     "text": [
      "ali\n",
      "veli\n"
     ]
    }
   ],
   "source": [
    "print(s)"
   ]
  },
  {
   "cell_type": "markdown",
   "metadata": {},
   "source": [
    "Neden bir ivarken diğerine gereksinim duyulabilmektedir? İşte bu iki metot arasındaki temel fark str metoduunun kullanıcılara yönelik teknik olmayan bir yazı geri döndürmesi, repr metodunun ise programcıya yönelik daha teknik bir yazı geri döndürmesidir."
   ]
  },
  {
   "cell_type": "code",
   "execution_count": 10,
   "metadata": {},
   "outputs": [
    {
     "name": "stdout",
     "output_type": "stream",
     "text": [
      "123\n"
     ]
    }
   ],
   "source": [
    "a = 123\n",
    "print(a.__str__())"
   ]
  },
  {
   "cell_type": "code",
   "execution_count": 11,
   "metadata": {},
   "outputs": [
    {
     "name": "stdout",
     "output_type": "stream",
     "text": [
      "123\n"
     ]
    }
   ],
   "source": [
    "print(a.__repr__())"
   ]
  },
  {
   "cell_type": "markdown",
   "metadata": {},
   "source": [
    "str fonksiyonu ilgili sınıfta __str__ metodu varsa onun geri döndürdüğü yazıyı verir. fakat ilgili sınıfta __str__ sınıfı yok fakat repr metodu varsa repr metodunnu geri döndürdüğü yazııyı vermektedir."
   ]
  },
  {
   "cell_type": "code",
   "execution_count": 14,
   "metadata": {},
   "outputs": [
    {
     "name": "stdout",
     "output_type": "stream",
     "text": [
      "Date object: 10/1/2024\n",
      "Date object: 10/1/2024\n",
      "Date object: 10/1/2024\n"
     ]
    }
   ],
   "source": [
    "class Date:\n",
    "    def __init__(self, day, month, year):\n",
    "        self.day = day\n",
    "        self.month = month\n",
    "        self.year = year\n",
    "    \n",
    "    def __repr__(self):\n",
    "        return 'Date object: {}/{}/{}'.format(self.day, self.month, self.year)\n",
    "\n",
    "d = Date(10, 1, 2024)\n",
    "print(d)\n",
    "print(str(d))\n",
    "print(repr(d))"
   ]
  },
  {
   "cell_type": "markdown",
   "metadata": {},
   "source": [
    "Tersi durum geçerli değildir. Yani sınıfta str varsa fakat repr yoksa bu durumda repr fonksiyonu ya da komut yorumlayıcılar str metodunu çağırmazlar. artık repr metodu bu durumda taban sınıflarda aranacaktır.\n",
    "\n",
    "str ve repr metotlarını bizim birer yazı ile (string ile) geri döndürmemiz gerek. aksi takdirde exception oluşacaktır."
   ]
  },
  {
   "cell_type": "markdown",
   "metadata": {},
   "source": [
    "## Nesnelerin Referans Sayacı\n",
    "\n",
    "i = 10\n",
    "s = Sample()\n",
    "\n",
    "i ve s birer değişken. ancak bu değişkenleri gösterdiği yerde int türünden ve sample türünden nesneler vardır. bir nesneyi birden fazla değişken gösterebilir.\n",
    "\n",
    "s = Sample() --> RS = 1\n",
    "k = s        --> RS = 2\n",
    "m = k        --> RS = 3\n",
    "\n",
    "sample nesnesini burada 3 farklı değişken göstermektedir. python yorumlayıcısı her nesneyi kaç değişkenin gösterdiğini anbean tutmaktadır. buna nesnenin referans sayacı denilmektedir. referans sayacı program çalışırken sürekli değişebilir. \n",
    "\n",
    "python'da değişeknler otomatik bir biçimde yok edilmektedir. ancak nesneler onları gösteren hiçbir değişken kalmadığında (yani referans sayaçları 0 olduğunda) çöp toplayıcı mekanizma tarafından yok edilmektedir. \n",
    "\n",
    "bir nesnenin referans sayacının değeri sys modüündeki getrefcount isimli fonksiyon ile elde edilebilir. ancak getrefcount fonksiyonu parametre değişkennie atama yüzünden hep sayacı 1 fazla göstermektedir."
   ]
  },
  {
   "cell_type": "code",
   "execution_count": 16,
   "metadata": {},
   "outputs": [
    {
     "name": "stdout",
     "output_type": "stream",
     "text": [
      "__del__ çağrıldı\n",
      "2\n"
     ]
    }
   ],
   "source": [
    "import sys\n",
    "\n",
    "class Sample:\n",
    "    def __del__(self):\n",
    "        print('__del__ çağrıldı')\n",
    "\n",
    "a = Sample()\n",
    "print(sys.getrefcount(a))"
   ]
  },
  {
   "cell_type": "code",
   "execution_count": 17,
   "metadata": {},
   "outputs": [
    {
     "name": "stdout",
     "output_type": "stream",
     "text": [
      "3\n"
     ]
    }
   ],
   "source": [
    "b = a\n",
    "print(sys.getrefcount(a))"
   ]
  },
  {
   "cell_type": "code",
   "execution_count": 18,
   "metadata": {},
   "outputs": [
    {
     "name": "stdout",
     "output_type": "stream",
     "text": [
      "4\n"
     ]
    }
   ],
   "source": [
    "c = b\n",
    "print(sys.getrefcount(a))"
   ]
  },
  {
   "cell_type": "code",
   "execution_count": 19,
   "metadata": {},
   "outputs": [
    {
     "name": "stdout",
     "output_type": "stream",
     "text": [
      "3\n"
     ]
    }
   ],
   "source": [
    "c = None\n",
    "print(sys.getrefcount(a))"
   ]
  },
  {
   "cell_type": "code",
   "execution_count": 20,
   "metadata": {},
   "outputs": [
    {
     "name": "stdout",
     "output_type": "stream",
     "text": [
      "2\n"
     ]
    }
   ],
   "source": [
    "b = None\n",
    "print(sys.getrefcount(a))"
   ]
  },
  {
   "cell_type": "code",
   "execution_count": 21,
   "metadata": {},
   "outputs": [
    {
     "name": "stdout",
     "output_type": "stream",
     "text": [
      "__del__ çağrıldı\n",
      "35846\n"
     ]
    }
   ],
   "source": [
    "a = None\n",
    "print(sys.getrefcount(a))"
   ]
  },
  {
   "cell_type": "markdown",
   "metadata": {},
   "source": [
    "## Çöp Toplayıcı Mekanizması (Garbage Collectors)\n",
    "\n",
    "Çöp toplama mekanizması referans sayacı temelinde çalışmaktadır. her nesnenin kaç referans tarafından gösterildiği nesnenin içerisindeki bir referans sayacı tarafından tutulur. Bu referans sayacı 0'a düştüğünde nesne çöp durumuna gelir ve çöp toplayıcı mekanizma tarafından hemen bellekten yok edilir. \n",
    "\n",
    "Nesnenin referans sayacı nasıl eksilebilir?\n",
    "\n",
    "- değişkene başka bir değer atanmış olabilir. dolayısıyla artık değişken eski nesneyi değil yeni nesneyi gösteri hale gelmiştir. bu durumda eski nesnenin referans sayacı bir eksiltilir.\n",
    "- değişken bir yerel ya da parametre değişkenidir. fonksiyondan çıkıldığında bu yerel ya da parametre değişkeni yok edilir. dolayısıyla artık o eski nesneyi göstermez hale gelir. \n",
    "- sınıfın bir özniteliği bir nesneyi gösterebilir. sınıf nesnesi yok edildiğinde artık o değişken de o nesneyi göstermez hale gelir.\n",
    "\n",
    "İşte bir nesnenin referans sayacı sıfıra düşer düşmez çöp toplayıcı nesneyi yok etmeden önce sınıfın __del__ isimli bir metodunu çağırır."
   ]
  },
  {
   "cell_type": "code",
   "execution_count": 22,
   "metadata": {},
   "outputs": [
    {
     "name": "stdout",
     "output_type": "stream",
     "text": [
      "Referans Sayacı 1\n",
      "Referans Sayacı 2\n",
      "Referans Sayacı 1\n",
      "Nesne yok edilecek!\n",
      "Referans Sayacı 0\n"
     ]
    }
   ],
   "source": [
    "class Sample:\n",
    "    def __del__(self):\n",
    "        print('Nesne yok edilecek!')\n",
    "    \n",
    "s = Sample()\n",
    "print('Referans Sayacı 1')\n",
    "\n",
    "k = s\n",
    "print('Referans Sayacı 2')\n",
    "\n",
    "k = None\n",
    "print('Referans Sayacı 1')\n",
    "\n",
    "s = None\n",
    "print('Referans Sayacı 0')"
   ]
  },
  {
   "cell_type": "code",
   "execution_count": 23,
   "metadata": {},
   "outputs": [
    {
     "name": "stdout",
     "output_type": "stream",
     "text": [
      "A.__init__ çağrıldı\n",
      "B.__init__ çağrıldı\n"
     ]
    }
   ],
   "source": [
    "class A:\n",
    "    def __init__(self):\n",
    "        print('A.__init__ çağrıldı')\n",
    "    \n",
    "    def __del__(self):\n",
    "        print('A.__del__ çağrıldı')\n",
    "    \n",
    "class B(A):\n",
    "    def __init__(self):\n",
    "        super().__init__()\n",
    "        print('B.__init__ çağrıldı')\n",
    "    \n",
    "    def __del__(self):\n",
    "        print('B.__del__ çağrıldı')\n",
    "        super().__del__()\n",
    "\n",
    "b = B()"
   ]
  },
  {
   "cell_type": "code",
   "execution_count": 24,
   "metadata": {},
   "outputs": [
    {
     "name": "stdout",
     "output_type": "stream",
     "text": [
      "B.__del__ çağrıldı\n",
      "A.__del__ çağrıldı\n"
     ]
    }
   ],
   "source": [
    "b = None"
   ]
  },
  {
   "cell_type": "code",
   "execution_count": 25,
   "metadata": {},
   "outputs": [
    {
     "name": "stdout",
     "output_type": "stream",
     "text": [
      "Sample.__init__ çağrıldı: 10\n"
     ]
    }
   ],
   "source": [
    "class Sample:\n",
    "    def __init__(self, x):\n",
    "        self.x = x\n",
    "        print('Sample.__init__ çağrıldı: {}'.format(x))\n",
    "\n",
    "    def __del__(self):\n",
    "        print('Sample.__del__ çağrıldı: {}'.format(self.x))\n",
    "\n",
    "a = Sample(10)"
   ]
  },
  {
   "cell_type": "code",
   "execution_count": 26,
   "metadata": {},
   "outputs": [
    {
     "name": "stdout",
     "output_type": "stream",
     "text": [
      "Sample.__init__ çağrıldı: 20\n"
     ]
    }
   ],
   "source": [
    "b = Sample(20)"
   ]
  },
  {
   "cell_type": "code",
   "execution_count": 27,
   "metadata": {},
   "outputs": [],
   "source": [
    "def foo():\n",
    "    x = Sample(30)\n",
    "    y = Sample(40)"
   ]
  },
  {
   "cell_type": "code",
   "execution_count": 28,
   "metadata": {},
   "outputs": [
    {
     "name": "stdout",
     "output_type": "stream",
     "text": [
      "first\n",
      "Sample.__init__ çağrıldı: 30\n",
      "Sample.__init__ çağrıldı: 40\n",
      "Sample.__del__ çağrıldı: 30\n",
      "Sample.__del__ çağrıldı: 40\n",
      "second\n"
     ]
    }
   ],
   "source": [
    "print('first')\n",
    "foo()\n",
    "print('second')"
   ]
  },
  {
   "cell_type": "markdown",
   "metadata": {},
   "source": [
    "__del__ metotları, __init__ metotları tarafından yapılan birtakım işlemleri geri alınması için kullanılabilmektedir. Örneğin __init__ metodunda bir dosya açılmış olabilir. bu dosya __del__ metodunda kapatılabilir. ancak ne olursa olsun bu dilde __del__ metoduna çok az durumda gerçek bir biçimde gereksinim duyulabilir."
   ]
  },
  {
   "attachments": {
    "image.png": {
     "image/png": "[encoded data removed]"
    }
   },
   "cell_type": "markdown",
   "metadata": {},
   "source": [
    "## Operatör Metotları (Operator Overloading)\n",
    "\n",
    "Operatör metotları sayesinde mevcut python operatörleri programcının kendi sınıflarıyla da çalışılabilir hale getirilebilmektedir. operatör metotları __xxx__ biçiminde özel isimlerle oluşturulmaktadır. \n",
    "\n",
    "![image.png](attachment:image.png)"
   ]
  },
  {
   "cell_type": "markdown",
   "metadata": {},
   "source": [
    "a değişkeni X isimli bir sınıf türünden olmak üzere;\n",
    "\n",
    "a + b\n",
    "\n",
    "ile\n",
    "\n",
    "a.__add__(b)\n",
    "\n",
    "ya da\n",
    "\n",
    "X.__add__(a, b)\n",
    "\n",
    "işlemleri eşdeğerdir. a + b işlemini yaptığımızda arka planda bu işlem __add__ isimli metot tarafından yapılmaktadır. yorumlayıcı bir operatörle karşılaştığında önce operandların türlerine bakar. soldaki operatör built-in sınıf türünden değilse soldaki operandın ilişkin olduğu sınıfın ilgili operatör metodunu çağırır. o operatör metodundan elde edilen değer de o metodun geri dönüş değeri olacaktır."
   ]
  },
  {
   "cell_type": "code",
   "execution_count": 38,
   "metadata": {},
   "outputs": [],
   "source": [
    "class Number:\n",
    "    def __init__(self, number):\n",
    "        self.number = number\n",
    "    \n",
    "    def disp(self):\n",
    "        print(self.number)\n",
    "    \n",
    "    def __add__(self, x):\n",
    "        print('Toplanıyor..')\n",
    "        return Number(self.number + x.number)\n",
    "    \n",
    "    def __sub__(self, x):\n",
    "        return Number(self.number - x.number)\n",
    "\n",
    "    def __mul__(self, x):\n",
    "        print('Çarpılıyor..')\n",
    "        return Number(self.number * x.number)\n",
    "    \n",
    "    def __truediv__(self, x):\n",
    "        return Number(self.number / x.number)\n",
    "\n",
    "    def __str__(self):\n",
    "        return str(self.number)\n",
    "\n",
    "x = Number(10)\n",
    "y = Number(20)\n",
    "z = Number(2)"
   ]
  },
  {
   "cell_type": "code",
   "execution_count": 35,
   "metadata": {},
   "outputs": [
    {
     "name": "stdout",
     "output_type": "stream",
     "text": [
      "2\n"
     ]
    }
   ],
   "source": [
    "print(z)"
   ]
  },
  {
   "cell_type": "code",
   "execution_count": 39,
   "metadata": {},
   "outputs": [
    {
     "name": "stdout",
     "output_type": "stream",
     "text": [
      "Çarpılıyor..\n",
      "Toplanıyor..\n",
      "50\n"
     ]
    }
   ],
   "source": [
    "k = x + y * z\n",
    "print(k)"
   ]
  },
  {
   "cell_type": "markdown",
   "metadata": {},
   "source": [
    "burada aslında,\n",
    "\n",
    "z = x + y\n",
    "\n",
    "işlemi ile, \n",
    "\n",
    "z = x.__add__(y)\n",
    "\n",
    "ya da \n",
    "\n",
    "Number.__add__(x, y)\n",
    "\n",
    "işlemi tamamen eşdeğerdir."
   ]
  },
  {
   "cell_type": "markdown",
   "metadata": {},
   "source": [
    "Tabii python'da farklı parametrik yapılara ilişkin aynı isimli metotlar (method overloading) yazılamadığı için farklı türlerle aynı işlemi yapan operatör metotlarının tek bir metot biçiminde yazılması gerekmektedir. örneğin yukarıdaki operatör metoduyla bir number nesnesi ile bir int nesneyi toplayamayız. bunun için metot içerisinde tür kontrolü yapıp uygun bir stratejinin belirlenmesi gerekir."
   ]
  },
  {
   "cell_type": "code",
   "execution_count": 40,
   "metadata": {},
   "outputs": [
    {
     "ename": "TypeError",
     "evalue": "unsupported operand type(s) for +: 'int' and 'Number'",
     "output_type": "error",
     "traceback": [
      "\u001b[1;31m---------------------------------------------------------------------------\u001b[0m",
      "\u001b[1;31mTypeError\u001b[0m                                 Traceback (most recent call last)",
      "Cell \u001b[1;32mIn[40], line 1\u001b[0m\n\u001b[1;32m----> 1\u001b[0m \u001b[38;5;241;43m10\u001b[39;49m\u001b[43m \u001b[49m\u001b[38;5;241;43m+\u001b[39;49m\u001b[43m \u001b[49m\u001b[43mx\u001b[49m\n",
      "\u001b[1;31mTypeError\u001b[0m: unsupported operand type(s) for +: 'int' and 'Number'"
     ]
    }
   ],
   "source": [
    "10 + x"
   ]
  },
  {
   "cell_type": "code",
   "execution_count": 41,
   "metadata": {},
   "outputs": [
    {
     "name": "stdout",
     "output_type": "stream",
     "text": [
      "30\n",
      "20\n"
     ]
    }
   ],
   "source": [
    "class Number:\n",
    "    def __init__(self, number):\n",
    "        self.number = number\n",
    "    \n",
    "    def disp(self):\n",
    "        print(self.number)\n",
    "    \n",
    "    def __add__(self, x):\n",
    "        if isinstance(x, (int, float)):\n",
    "            return Number(self.number + x)\n",
    "        return Number(self.number + x.number)\n",
    "    \n",
    "    def __sub__(self, x):\n",
    "        if type(x) is int or type(x) is float:\n",
    "            return Number(self.number - x)\n",
    "        return Number(self.number - x.number)\n",
    "\n",
    "    def __mul__(self, x):\n",
    "        if isinstance(x, (int, float)):\n",
    "            return Number(self.number * x)\n",
    "        return Number(self.number * x.number)\n",
    "    \n",
    "    def __truediv__(self, x):\n",
    "        if isinstance(x, (int, float)):\n",
    "            return Number(self.number / x)\n",
    "        return Number(self.number / x.number)\n",
    "\n",
    "    def __str__(self):\n",
    "        return str(self.number)\n",
    "    \n",
    "x = Number(10)\n",
    "y = Number(20)\n",
    "\n",
    "z = x + y\n",
    "print(z)\n",
    "\n",
    "z = x + 10\n",
    "print(z)"
   ]
  },
  {
   "cell_type": "code",
   "execution_count": 42,
   "metadata": {},
   "outputs": [
    {
     "data": {
      "text/plain": [
       "__main__.Number"
      ]
     },
     "execution_count": 42,
     "metadata": {},
     "output_type": "execute_result"
    }
   ],
   "source": [
    "type(z)"
   ]
  },
  {
   "cell_type": "markdown",
   "metadata": {},
   "source": [
    "Karşılaştırma işlemleri için karşılaştırma operatör metotlarının yazılması gerekir. bu metotların geri dönüş değerlerinni bool türünden olması anlamlıdır."
   ]
  },
  {
   "cell_type": "markdown",
   "metadata": {},
   "source": []
  }
 ],
 "metadata": {
  "kernelspec": {
   "display_name": "base",
   "language": "python",
   "name": "python3"
  },
  "language_info": {
   "codemirror_mode": {
    "name": "ipython",
    "version": 3
   },
   "file_extension": ".py",
   "mimetype": "text/x-python",
   "name": "python",
   "nbconvert_exporter": "python",
   "pygments_lexer": "ipython3",
   "version": "3.8.16"
  }
 },
 "nbformat": 4,
 "nbformat_minor": 2
}
