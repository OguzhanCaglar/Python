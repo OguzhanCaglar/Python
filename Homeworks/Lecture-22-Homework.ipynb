{
 "cells": [
  {
   "cell_type": "markdown",
   "id": "6a80afe5",
   "metadata": {},
   "source": [
    "# Ödev: NumPy'ya Giriş"
   ]
  },
  {
   "cell_type": "markdown",
   "id": "23579bdf",
   "metadata": {},
   "source": [
    "### Görevler:\n",
    "\n",
    "#### 1. Dizi Oluşturma\n",
    "- 1'den 20'ye kadar olan tam sayılardan oluşan bir NumPy dizisi oluşturun. Bu diziyi 4x5'lik bir matris haline getirin.\n",
    "- NumPy kullanarak 3x3'lük bir birim matris (identity matrix) oluşturun.\n"
   ]
  },
  {
   "cell_type": "code",
   "execution_count": null,
   "id": "414ff80e",
   "metadata": {},
   "outputs": [],
   "source": [
    "# NumPy kütüphanesini içe aktarın\n",
    "import numpy as np\n",
    "\n",
    "# 1'den 20'ye kadar olan tam sayılardan oluşan bir NumPy dizisi oluşturma ve 4x5 matris yapma\n",
    "dizi = np.arange(1, 21).reshape(4, 5)\n",
    "print(dizi)\n",
    "\n",
    "# 3x3 birim matris oluşturma\n",
    "birim_matrisi = np.eye(3)\n",
    "print(birim_matrisi)"
   ]
  },
  {
   "cell_type": "markdown",
   "id": "015c365e",
   "metadata": {},
   "source": [
    "#### 2. Dizi Operasyonları\n",
    "- Aşağıdaki iki diziyi kullanarak: \n",
    "```python\n",
    "a = np.array([2, 4, 6, 8, 10])\n",
    "b = np.array([1, 3, 5, 7, 9])\n",
    "```\n",
    "Şu işlemleri yapın:\n",
    "- Dizileri toplayın, çıkarın, çarpın ve bölün.\n",
    "- `a` dizisinin her bir elemanının karesini alın.\n",
    "- `a` ve `b` dizilerinin dot (nokta) çarpımını hesaplayın.\n"
   ]
  },
  {
   "cell_type": "code",
   "execution_count": null,
   "id": "5efdc3e5",
   "metadata": {},
   "outputs": [],
   "source": [
    "# Diziler oluşturuluyor\n",
    "a = np.array([2, 4, 6, 8, 10])\n",
    "b = np.array([1, 3, 5, 7, 9])\n",
    "\n",
    "# Dizilerin toplanması\n",
    "toplam = a + b\n",
    "print('Toplam:', toplam)\n",
    "\n",
    "# Dizilerin çıkarılması\n",
    "fark = a - b\n",
    "print('Fark:', fark)\n",
    "\n",
    "# Dizilerin çarpılması\n",
    "carpim = a * b\n",
    "print('Çarpım:', carpim)\n",
    "\n",
    "# Dizilerin bölünmesi\n",
    "bolum = a / b\n",
    "print('Bölüm:', bolum)\n",
    "\n",
    "# a dizisinin kareleri\n",
    "a_karesi = a ** 2\n",
    "print('a dizisinin kareleri:', a_karesi)\n",
    "\n",
    "# Dot çarpımı\n",
    "dot_carpim = np.dot(a, b)\n",
    "print('Dot çarpımı:', dot_carpim)"
   ]
  },
  {
   "cell_type": "markdown",
   "id": "27d52cbd",
   "metadata": {},
   "source": [
    "#### 3. Dizi İndeksleme ve Dilimleme\n",
    "- Aşağıdaki matrisi kullanarak:\n",
    "```python\n",
    "matrix = np.array([[1, 2, 3], [4, 5, 6], [7, 8, 9]])\n",
    "```\n",
    "- İlk iki satırı çıkarın.\n",
    "- İkinci sütunu çıkarın.\n",
    "- Matrisin sağ alt köşesindeki elemanı çıkarın.\n"
   ]
  },
  {
   "cell_type": "code",
   "execution_count": null,
   "id": "f8725c2e",
   "metadata": {},
   "outputs": [],
   "source": [
    "# Matris oluşturma\n",
    "matrix = np.array([[1, 2, 3], [4, 5, 6], [7, 8, 9]])\n",
    "\n",
    "# İlk iki satır\n",
    "ilk_iki_satir = matrix[:2, :]\n",
    "print('İlk iki satır:', ilk_iki_satir)\n",
    "\n",
    "# İkinci sütun\n",
    "ikinci_sutun = matrix[:, 1]\n",
    "print('İkinci sütun:', ikinci_sutun)\n",
    "\n",
    "# Sağ alt köşedeki eleman\n",
    "sag_alt = matrix[2, 2]\n",
    "print('Sağ alt köşedeki eleman:', sag_alt)"
   ]
  },
  {
   "cell_type": "markdown",
   "id": "c3ad048b",
   "metadata": {},
   "source": [
    "#### 4. İstatistiksel Analiz\n",
    "- 10 ile 50 arasında 15 rastgele tam sayı içeren bir dizi oluşturun.\n",
    "- Bu dizinin ortalamasını (mean), medyanını (median), standart sapmasını (standard deviation) ve varyansını (variance) bulun.\n"
   ]
  },
  {
   "cell_type": "code",
   "execution_count": null,
   "id": "f3f3d160",
   "metadata": {},
   "outputs": [],
   "source": [
    "# 10 ile 50 arasında rastgele tam sayılar içeren bir dizi oluşturma\n",
    "rastgele_dizi = np.random.randint(10, 51, size=15)\n",
    "print('Rastgele dizi:', rastgele_dizi)\n",
    "\n",
    "# İstatistiksel analiz\n",
    "ortalama = np.mean(rastgele_dizi)\n",
    "medyan = np.median(rastgele_dizi)\n",
    "std_sapma = np.std(rastgele_dizi)\n",
    "varyans = np.var(rastgele_dizi)\n",
    "\n",
    "print('Ortalama:', ortalama)\n",
    "print('Medyan:', medyan)\n",
    "print('Standart Sapma:', std_sapma)\n",
    "print('Varyans:', varyans)"
   ]
  },
  {
   "cell_type": "markdown",
   "id": "4b429894",
   "metadata": {},
   "source": [
    "#### 5. Bonus: Broadcasting\n",
    "- Şekli `(5,)` olan bir 1D dizi `a` ve şekli `(5,5)` olan bir 2D dizi `b` oluşturun. Broadcasting kullanarak, `a` dizisini `b` dizisinin her bir satırına ekleyin.\n"
   ]
  },
  {
   "cell_type": "code",
   "execution_count": null,
   "id": "35dcfcd4",
   "metadata": {},
   "outputs": [],
   "source": [
    "# Broadcasting örneği\n",
    "a = np.array([1, 2, 3, 4, 5])\n",
    "b = np.ones((5, 5))\n",
    "\n",
    "# Broadcasting ile her satıra ekleme\n",
    "sonuc = b + a\n",
    "print('Broadcasting sonucu:', sonuc)"
   ]
  }
 ],
 "metadata": {
  "language_info": {
   "name": "python"
  }
 },
 "nbformat": 4,
 "nbformat_minor": 5
}
