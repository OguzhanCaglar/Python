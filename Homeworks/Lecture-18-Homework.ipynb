{
 "cells": [
  {
   "cell_type": "markdown",
   "id": "52040f96",
   "metadata": {},
   "source": [
    "# Python ile Nesne Yönelimli Programlama: Ödev Soruları"
   ]
  },
  {
   "cell_type": "markdown",
   "id": "e2c1c69f",
   "metadata": {},
   "source": [
    "### 1. Sınıf ve Örnek Temelleri\n",
    "\n",
    "Bir Python sınıfı `Dikdörtgen` tanımlayın. Bu sınıfın `uzunluk` ve `genişlik` isimli öznitelikleri olsun.\n",
    "`alan()` isimli bir metod ekleyerek dikdörtgenin alanını, `cevre()` isimli bir metod ekleyerek çevresini hesaplayın.\n",
    "Farklı boyutlara sahip iki `Dikdörtgen` örneği oluşturun ve bu örneklerin alanlarını ve çevrelerini ekrana yazdırın."
   ]
  },
  {
   "cell_type": "code",
   "execution_count": null,
   "id": "ed2765ac",
   "metadata": {},
   "outputs": [],
   "source": [
    "class Dikdortgen:\n",
    "    def __init__(self, uzunluk, genislik):\n",
    "        self.uzunluk = uzunluk\n",
    "        self.genislik = genislik\n",
    "    \n",
    "    def alan(self):\n",
    "        return self.uzunluk * self.genislik\n",
    "    \n",
    "    def cevre(self):\n",
    "        return 2 * (self.uzunluk + self.genislik)\n",
    "\n",
    "# Örnek kullanımı\n",
    "dikdortgen1 = Dikdortgen(5, 10)\n",
    "dikdortgen2 = Dikdortgen(3, 7)\n",
    "\n",
    "print(\"Dikdörtgen 1 - Alan:\", dikdortgen1.alan(), \"Çevre:\", dikdortgen1.cevre())\n",
    "print(\"Dikdörtgen 2 - Alan:\", dikdortgen2.alan(), \"Çevre:\", dikdortgen2.cevre())"
   ]
  },
  {
   "cell_type": "markdown",
   "id": "76254eef",
   "metadata": {},
   "source": [
    "### 2. Sınıfların Değiştirilebilirliği\n",
    "\n",
    "Bir Python sınıfı `Daire` tanımlayın. Bu sınıfta `yaricap` özniteliği olsun.\n",
    "Bir örnek oluşturun, yarıçapı başlatmadan sonra değiştirin ve yarıçap değişikliğinden önce ve sonra alanı ekrana yazdırın."
   ]
  },
  {
   "cell_type": "code",
   "execution_count": null,
   "id": "8b24c08d",
   "metadata": {},
   "outputs": [],
   "source": [
    "import math\n",
    "\n",
    "class Daire:\n",
    "    def __init__(self, yaricap):\n",
    "        self.yaricap = yaricap\n",
    "    \n",
    "    def alan(self):\n",
    "        return math.pi * self.yaricap ** 2\n",
    "\n",
    "# Örnek kullanımı\n",
    "daire = Daire(5)\n",
    "print(\"Başlangıç alanı:\", daire.alan())\n",
    "\n",
    "# Yarıçapı değiştir\n",
    "daire.yaricap = 10\n",
    "print(\"Yarıçap değiştikten sonraki alan:\", daire.alan())"
   ]
  },
  {
   "cell_type": "markdown",
   "id": "db77604c",
   "metadata": {},
   "source": [
    "### 3. Sınıf Öznitelikleri ve Örnek Öznitelikleri\n",
    "\n",
    "Bir `Araba` sınıfı tanımlayın. Bu sınıfta, tüm arabalar için ortak olan `tekerlek_sayisi`\n",
    "adında bir sınıf özniteliği ve her araba için ayrı olan `renk` adında bir örnek özniteliği olsun."
   ]
  },
  {
   "cell_type": "code",
   "execution_count": null,
   "id": "9c208efc",
   "metadata": {},
   "outputs": [],
   "source": [
    "class Araba:\n",
    "    tekerlek_sayisi = 4  # Sınıf özniteliği\n",
    "    \n",
    "    def __init__(self, renk):\n",
    "        self.renk = renk  # Örnek özniteliği\n",
    "\n",
    "# Örnek kullanımı\n",
    "araba1 = Araba(\"Kırmızı\")\n",
    "araba2 = Araba(\"Mavi\")\n",
    "araba3 = Araba(\"Yeşil\")\n",
    "\n",
    "print(\"Araba 1:\", araba1.renk, \"- Tekerlek sayısı:\", araba1.tekerlek_sayisi)\n",
    "print(\"Araba 2:\", araba2.renk, \"- Tekerlek sayısı:\", araba2.tekerlek_sayisi)\n",
    "print(\"Araba 3:\", araba3.renk, \"- Tekerlek sayısı:\", araba3.tekerlek_sayisi)\n",
    "\n",
    "# Tekerlek sayısını değiştirme\n",
    "Araba.tekerlek_sayisi = 3\n",
    "print(\"Tekerlek sayısı değiştikten sonra:\")\n",
    "print(\"Araba 1:\", araba1.renk, \"- Tekerlek sayısı:\", araba1.tekerlek_sayisi)\n",
    "print(\"Araba 2:\", araba2.renk, \"- Tekerlek sayısı:\", araba2.tekerlek_sayisi)\n",
    "print(\"Araba 3:\", araba3.renk, \"- Tekerlek sayısı:\", araba3.tekerlek_sayisi)"
   ]
  }
 ],
 "metadata": {
  "language_info": {
   "name": "python"
  }
 },
 "nbformat": 4,
 "nbformat_minor": 5
}
