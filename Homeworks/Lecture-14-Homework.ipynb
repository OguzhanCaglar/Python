{
 "cells": [
  {
   "cell_type": "markdown",
   "id": "524eb4fd",
   "metadata": {},
   "source": [
    "\n",
    "# Lecture-14-Homework\n",
    "\n",
    "İşlenen Lecture-14 dersi ilgili ödev. \n"
   ]
  },
  {
   "cell_type": "markdown",
   "id": "b26090d7",
   "metadata": {},
   "source": [
    "\n",
    "## Soru 1: Rastgele Şifre Üretimi\n",
    "**Amaç:** Güçlü ve güvenli bir şifre oluşturmak.\n",
    "\n",
    "**Görev:** `generate_password(length)` isimli bir fonksiyon yazın. Bu fonksiyon, belirtilen `length` uzunluğunda rastgele bir şifre oluşturmalıdır. Şifre büyük harfler, küçük harfler, sayılar ve özel karakterler içermelidir. Kullanılacak karakterler Python'un `string` modülündeki `ascii_letters`, `digits`, ve `punctuation` sabitlerinden seçilmelidir.\n",
    "\n",
    "**Örnek:**\n",
    "```python\n",
    "password = generate_password(12)\n",
    "print(password)\n",
    "# Olası çıktı: G7$pYz2*HaB@\n",
    "```\n"
   ]
  },
  {
   "cell_type": "markdown",
   "id": "693e9f08",
   "metadata": {},
   "source": [
    "\n",
    "## Soru 2: Rastgele Renk Paleti Oluşturma\n",
    "**Amaç:** Web tasarımı için rastgele renklerden oluşan bir palet oluşturmak.\n",
    "\n",
    "**Görev:** `generate_color_palette(n)` isimli bir fonksiyon yazın. Bu fonksiyon, `n` adet rastgele renk oluşturarak bir liste olarak döndürmelidir. Her renk, `#RRGGBB` formatında olmalıdır (16'lık sistemde her biri 2 karakter uzunluğunda kırmızı, yeşil ve mavi değerleri).\n",
    "\n",
    "**Örnek:**\n",
    "```python\n",
    "palette = generate_color_palette(5)\n",
    "print(palette)\n",
    "# Olası çıktı: ['#FF5733', '#33FFCE', '#123456', '#ABCDEF', '#987654']\n",
    "```\n"
   ]
  },
  {
   "cell_type": "markdown",
   "id": "2b73b496",
   "metadata": {},
   "source": [
    "\n",
    "## Soru 3: Rastgele Satış Verisi Oluşturma\n",
    "**Amaç:** Bir işletme için rastgele satış verileri üretmek.\n",
    "\n",
    "**Görev:** `generate_sales_data(days, min_sales, max_sales)` isimli bir fonksiyon yazın. Bu fonksiyon, belirli bir süre (`days`) için, her gün rastgele bir satış miktarı (`min_sales` ile `max_sales` arasında) üreten ve bu verileri bir liste olarak döndüren bir fonksiyon olmalıdır.\n",
    "\n",
    "**Örnek:**\n",
    "```python\n",
    "sales = generate_sales_data(7, 100, 1000)\n",
    "print(sales)\n",
    "# Olası çıktı: [543, 678, 890, 234, 789, 456, 876]\n",
    "```\n"
   ]
  },
  {
   "cell_type": "markdown",
   "id": "e96ab903",
   "metadata": {},
   "source": [
    "\n",
    "## Soru 4: Rastgele Yürüyüş Simülasyonu\n",
    "**Amaç:** 2D düzlemde rastgele bir yürüyüş simüle etmek.\n",
    "\n",
    "**Görev:** `random_walk(n)` isimli bir fonksiyon yazın. Bu fonksiyon, bir başlangıç noktasından başlayarak `n` adım boyunca rastgele bir yürüyüşü simüle eder. Her adımda x veya y ekseninde +1 veya -1 birim hareket edilebilir. Fonksiyon, yürüyüşün sonunda ulaşılan (x, y) koordinatlarını döndürmelidir.\n",
    "\n",
    "**Örnek:**\n",
    "```python\n",
    "final_position = random_walk(10)\n",
    "print(final_position)\n",
    "# Olası çıktı: (2, -3)\n",
    "```\n"
   ]
  },
  {
   "cell_type": "markdown",
   "id": "d315dc09",
   "metadata": {},
   "source": [
    "\n",
    "## Soru 5: Rastgele Metin Oluşturma\n",
    "**Amaç:** Bir dizi rastgele kelimeden oluşan bir metin oluşturmak.\n",
    "\n",
    "**Görev:** `generate_random_text(word_count)` isimli bir fonksiyon yazın. Bu fonksiyon, belirtilen `word_count` kadar rastgele kelime seçer ve bir cümle oluşturur. Kelimeler, önceden tanımlı bir kelime listesinden seçilmelidir.\n",
    "\n",
    "**Örnek:**\n",
    "```python\n",
    "text = generate_random_text(8)\n",
    "print(text)\n",
    "# Olası çıktı: \"apple banana orange pear grape melon kiwi peach\"\n",
    "```\n"
   ]
  }
 ],
 "metadata": {
  "language_info": {
   "name": "python"
  }
 },
 "nbformat": 4,
 "nbformat_minor": 5
}
