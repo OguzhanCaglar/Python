{
 "cells": [
  {
   "cell_type": "code",
   "execution_count": 1,
   "metadata": {},
   "outputs": [
    {
     "name": "stdout",
     "output_type": "stream",
     "text": [
      "Lecture-18\n"
     ]
    }
   ],
   "source": [
    "print('Lecture-18')"
   ]
  },
  {
   "cell_type": "markdown",
   "metadata": {},
   "source": [
    "#### Python'da Değişkenlerin Bildirim Yerleri"
   ]
  },
  {
   "cell_type": "markdown",
   "metadata": {},
   "source": [
    "1) Global alanda. Fonksiyonlar dışında bi rdeğişkene ilk kez atama yaptığımız zaman onu oluşturmuş oluruz. Böyle değişkenlere \"global değişkenler\" denilir."
   ]
  },
  {
   "cell_type": "code",
   "execution_count": 2,
   "metadata": {},
   "outputs": [
    {
     "name": "stdout",
     "output_type": "stream",
     "text": [
      "10\n",
      "10\n"
     ]
    }
   ],
   "source": [
    "x = 10\n",
    "\n",
    "def foo():\n",
    "    print(x)\n",
    "\n",
    "foo()\n",
    "print(x)"
   ]
  },
  {
   "cell_type": "markdown",
   "metadata": {},
   "source": [
    "2) Fonksiyonların ya da metotların içerisinde. Böyle değişkenlere \"yerel değişkenler\"."
   ]
  },
  {
   "cell_type": "code",
   "execution_count": 3,
   "metadata": {},
   "outputs": [
    {
     "name": "stdout",
     "output_type": "stream",
     "text": [
      "20\n",
      "30\n",
      "10\n"
     ]
    }
   ],
   "source": [
    "x = 10\n",
    "def foo():\n",
    "    y = 20\n",
    "    print(y)\n",
    "\n",
    "class Sample:\n",
    "    def bar(self):\n",
    "        z = 30\n",
    "        print(z)\n",
    "\n",
    "\n",
    "foo()\n",
    "s = Sample()\n",
    "s.bar()\n",
    "print(x)"
   ]
  },
  {
   "cell_type": "code",
   "execution_count": 4,
   "metadata": {},
   "outputs": [],
   "source": [
    "x = 10\n",
    "\n",
    "def foo():\n",
    "    print(x)\n",
    "    x = 20\n",
    "    print(x)"
   ]
  },
  {
   "cell_type": "code",
   "execution_count": 5,
   "metadata": {},
   "outputs": [
    {
     "ename": "UnboundLocalError",
     "evalue": "local variable 'x' referenced before assignment",
     "output_type": "error",
     "traceback": [
      "\u001b[1;31m---------------------------------------------------------------------------\u001b[0m",
      "\u001b[1;31mUnboundLocalError\u001b[0m                         Traceback (most recent call last)",
      "Cell \u001b[1;32mIn[5], line 1\u001b[0m\n\u001b[1;32m----> 1\u001b[0m \u001b[43mfoo\u001b[49m\u001b[43m(\u001b[49m\u001b[43m)\u001b[49m\n",
      "Cell \u001b[1;32mIn[4], line 4\u001b[0m, in \u001b[0;36mfoo\u001b[1;34m()\u001b[0m\n\u001b[0;32m      3\u001b[0m \u001b[38;5;28;01mdef\u001b[39;00m \u001b[38;5;21mfoo\u001b[39m():\n\u001b[1;32m----> 4\u001b[0m     \u001b[38;5;28mprint\u001b[39m(\u001b[43mx\u001b[49m)\n\u001b[0;32m      5\u001b[0m     x \u001b[38;5;241m=\u001b[39m \u001b[38;5;241m20\u001b[39m\n\u001b[0;32m      6\u001b[0m     \u001b[38;5;28mprint\u001b[39m(x)\n",
      "\u001b[1;31mUnboundLocalError\u001b[0m: local variable 'x' referenced before assignment"
     ]
    }
   ],
   "source": [
    "foo()"
   ]
  },
  {
   "cell_type": "code",
   "execution_count": 6,
   "metadata": {},
   "outputs": [],
   "source": [
    "x = 10\n",
    "\n",
    "def foo():\n",
    "    x = 20\n",
    "    print(x)"
   ]
  },
  {
   "cell_type": "code",
   "execution_count": 7,
   "metadata": {},
   "outputs": [
    {
     "name": "stdout",
     "output_type": "stream",
     "text": [
      "20\n"
     ]
    }
   ],
   "source": [
    "foo()"
   ]
  },
  {
   "cell_type": "code",
   "execution_count": 8,
   "metadata": {},
   "outputs": [
    {
     "data": {
      "text/plain": [
       "10"
      ]
     },
     "execution_count": 8,
     "metadata": {},
     "output_type": "execute_result"
    }
   ],
   "source": [
    "x"
   ]
  },
  {
   "cell_type": "code",
   "execution_count": 9,
   "metadata": {},
   "outputs": [
    {
     "name": "stdout",
     "output_type": "stream",
     "text": [
      "20\n",
      "20\n"
     ]
    }
   ],
   "source": [
    "x = 10\n",
    "\n",
    "def foo():\n",
    "    global x\n",
    "    x = 20\n",
    "    print(x)\n",
    "\n",
    "\n",
    "foo()\n",
    "print(x)"
   ]
  },
  {
   "cell_type": "markdown",
   "metadata": {},
   "source": [
    "3) Sınıfın içerisinde. Sınıfın içerisinde fakat metotların dışında bir değişkene atama yapıldığında o sınıfa özgü yeni bir değişken yaratılmış olur. Bu değişkenler global ya da yerel değildir. Sınıfa özgüdür. Bunlara \"sınıf öznitelikleri (class attributes)\" denir. Sınıfın özniteliklerine sınıfın içinden doğrudan, sınıfın dışından ve sınıfın metotlarından sınıf ismi kullanılarak erişilir."
   ]
  },
  {
   "cell_type": "code",
   "execution_count": 10,
   "metadata": {},
   "outputs": [
    {
     "name": "stdout",
     "output_type": "stream",
     "text": [
      "10\n",
      "20\n",
      "10\n",
      "20\n",
      "30\n",
      "20\n"
     ]
    }
   ],
   "source": [
    "x = 10 # x bir global değişken\n",
    "\n",
    "class Sample:\n",
    "    y = 20 # y bir sınıf özniteliği\n",
    "    print(x)\n",
    "    print(y)\n",
    "\n",
    "    def foo(self):\n",
    "        z = 30 # z bir yerel değişken\n",
    "        print(z)\n",
    "        print(Sample.y)\n",
    "\n",
    "print(x)\n",
    "print(Sample.y)\n",
    "s = Sample()\n",
    "s.foo()"
   ]
  },
  {
   "cell_type": "code",
   "execution_count": 11,
   "metadata": {},
   "outputs": [
    {
     "name": "stdout",
     "output_type": "stream",
     "text": [
      "200\n",
      "100\n",
      "300\n"
     ]
    }
   ],
   "source": [
    "x = 100\n",
    "\n",
    "class Sample:\n",
    "    x = 200\n",
    "    def foo(self):\n",
    "        x = 300\n",
    "        print(x)\n",
    "    print(x)\n",
    "print(x)\n",
    "\n",
    "s = Sample()\n",
    "s.foo()"
   ]
  },
  {
   "cell_type": "code",
   "execution_count": 12,
   "metadata": {},
   "outputs": [
    {
     "name": "stdout",
     "output_type": "stream",
     "text": [
      "10\n",
      "10\n",
      "20\n",
      "10\n"
     ]
    }
   ],
   "source": [
    "x = 10\n",
    "\n",
    "class Sample:\n",
    "    print(x)\n",
    "    x = 20\n",
    "\n",
    "print(x)\n",
    "print(Sample.x)\n",
    "print(x)"
   ]
  },
  {
   "cell_type": "markdown",
   "metadata": {},
   "source": [
    "4) Değişkenler sınıf nesnesinin bir örnek özniteliği (instance attribute) olarak da yaratılabilirler. Böyle değişkenler sınıfın değil o sınıf türünden nesnenin bir parçasını oluşturmaktadır. "
   ]
  },
  {
   "cell_type": "code",
   "execution_count": 13,
   "metadata": {},
   "outputs": [
    {
     "name": "stdout",
     "output_type": "stream",
     "text": [
      "3 5\n"
     ]
    }
   ],
   "source": [
    "class Point:\n",
    "\n",
    "    def set(self, x, y):\n",
    "        self.x = x\n",
    "        self.y = y\n",
    "\n",
    "    def disp(self):\n",
    "        print(self.x, self.y)\n",
    "\n",
    "pt = Point()\n",
    "pt.set(3, 5)\n",
    "pt.disp()"
   ]
  },
  {
   "cell_type": "code",
   "execution_count": 17,
   "metadata": {},
   "outputs": [
    {
     "name": "stdout",
     "output_type": "stream",
     "text": [
      "2 1\n"
     ]
    }
   ],
   "source": [
    "pt1 = Point()\n",
    "pt1.set(2, 1)\n",
    "pt1.disp()"
   ]
  },
  {
   "cell_type": "code",
   "execution_count": 19,
   "metadata": {},
   "outputs": [
    {
     "name": "stdout",
     "output_type": "stream",
     "text": [
      "1 3\n"
     ]
    }
   ],
   "source": [
    "pt2 = Point()\n",
    "pt2.set(1, 3)\n",
    "pt2.disp()"
   ]
  },
  {
   "cell_type": "markdown",
   "metadata": {},
   "source": [
    "Burada set içerisinde self.x ve self.y ifadelerine atama yapıldığında oluşturulan değişkenler örnek özniteliklerdir."
   ]
  },
  {
   "cell_type": "markdown",
   "metadata": {},
   "source": [
    "## SINIF NEDİR?\n",
    "\n",
    "Nesne Yönelimli Programlama Tekniği. Bir sınıf birtakım özniteliklerden (attributes) ve bu öznitelikler üzerinde işlemler yapan metotlardan oluşan bir veri yapısıdır. Sınıflar belli bir konuda belli bir işi yapmak için tasarlanırlar ve kullanılırlar. \n",
    "\n",
    "- file --> dosya işlemleri\n",
    "- string --> yazı işlemleri\n",
    "- socket --> network haberleşme işlemlerini yapan sınıflardandır.\n",
    "\n",
    "örneğin bir ağacın türü, yaprakları, ömrü, nerede yetiştiği onun öznitelikleridir. doktor --> ismi, uzmanlık alanı\n",
    "\n",
    "Bir kavrama uygun olan somut nesnelere NYPT'de \"örnek (instance)\" denilmektedir. Örnek belli bir kavramı temsil etme yetenenğideki somut nesnedir. NYPT'de bir sınıf türünden nesneler o sınıf türünden örneklerdir. \n",
    "\n",
    "Örnek: Hastane otomasyonu --> hastane, doktor, hemşire, hastalık vs. bunlar birer sınıfla temsil edilmektedir. Sonra bu sınıflar türünden gerçek nesenler (örnekler) yaratılarak kodlama yapılıyor. doktor bir kavram ve bir sınıf ile temsil edilir. o doktor sınıfından nesneler yaratıldıkça biz gerçek doktorları elde ederiz. örneğin hastanede 20 doktor çalışıyorsa bizim 20 tane doktor nesnesi (örneği) yaratmamız gerekir.\n",
    "\n"
   ]
  },
  {
   "cell_type": "markdown",
   "metadata": {},
   "source": [
    "### Örnek Öznitelikler\n",
    "\n",
    "Bir sınıf nesnesine özgü olan onun bir parçasını oluşturan nesnelere (elemanlara) \"örnek öznitelikleri (instance attribute)\" denilmektedir. Sınıf içerisinde bildirilen değişkenlere ise \"sınıf öznitelikleri\". Bunlar belli bir sınıf nesnesinni değil o sınıfın elemanları olmuş oluyor. Bir sınıf türünden nesnenin belli bir özniteliği nasıl oluşturulmalı?\n",
    "\n",
    "sınıf_türünden_değişken.örnek_özniteliğinin_ismi = değer"
   ]
  },
  {
   "cell_type": "code",
   "execution_count": 20,
   "metadata": {},
   "outputs": [
    {
     "name": "stdout",
     "output_type": "stream",
     "text": [
      "x = 10, y = 20\n"
     ]
    }
   ],
   "source": [
    "class Point:\n",
    "    pass\n",
    "\n",
    "pt = Point()\n",
    "pt.x = 10 # pt nesnesinin x isimli bir özniteliğin oluşturduk\n",
    "pt.y = 20\n",
    "\n",
    "print(\"x = {}, y = {}\".format(pt.x, pt.y))"
   ]
  },
  {
   "cell_type": "code",
   "execution_count": 21,
   "metadata": {},
   "outputs": [
    {
     "name": "stdout",
     "output_type": "stream",
     "text": [
      "x = 10, y = 20\n",
      "a = 30, b = ali, c = 12.3\n"
     ]
    }
   ],
   "source": [
    "class Sample:\n",
    "    pass\n",
    "\n",
    "\n",
    "s1 = Sample()\n",
    "s1.x = 10\n",
    "s1.y = 20\n",
    "\n",
    "print(\"x = {}, y = {}\".format(s1.x, s1.y))\n",
    "\n",
    "s2 = Sample()\n",
    "s2.a = 30\n",
    "s2.b = 'ali'\n",
    "s2.c = 12.3\n",
    "\n",
    "print(\"a = {}, b = {}, c = {}\".format(s2.a, s2.b, s2.c))"
   ]
  },
  {
   "cell_type": "code",
   "execution_count": 22,
   "metadata": {},
   "outputs": [
    {
     "name": "stdout",
     "output_type": "stream",
     "text": [
      "10 20\n",
      "30 40\n"
     ]
    }
   ],
   "source": [
    "class Point:\n",
    "    def set(self, x, y):\n",
    "        self.x = x\n",
    "        self.y = y\n",
    "    \n",
    "    def disp(self):\n",
    "        print(self.x, self.y)\n",
    "\n",
    "pt1 = Point()\n",
    "pt2 = Point()\n",
    "\n",
    "pt1.set(10, 20)\n",
    "pt2.set(30, 40)\n",
    "\n",
    "pt1.disp()\n",
    "pt2.disp()"
   ]
  },
  {
   "cell_type": "markdown",
   "metadata": {},
   "source": [
    "Sınıflar python'da değiştirilebilir (mutable) türlerdir. Dolayısıyla biz bir sınıf yazdığımızda o sınıf nesnesinin parçaları olan örnek özniteliklerini değiştirebilmekteyiz. Sınıfın metotları nesnesiniin örnek özniteliklerini doğrudan değil yine 0 sınıf türünden değişken ile (self ile) kullanılabilir."
   ]
  },
  {
   "cell_type": "code",
   "execution_count": 23,
   "metadata": {},
   "outputs": [
    {
     "name": "stdout",
     "output_type": "stream",
     "text": [
      "10/12/1990\n"
     ]
    }
   ],
   "source": [
    "class Date:\n",
    "    def set(self, day, month, year):\n",
    "        self.day = day\n",
    "        self.month = month\n",
    "        self.year = year\n",
    "\n",
    "    def disp(self):\n",
    "        print(\"{}/{}/{}\".format(self.day, self.month, self.year))\n",
    "\n",
    "date = Date()\n",
    "date.set(10, 12, 1990)\n",
    "date.disp()"
   ]
  },
  {
   "cell_type": "code",
   "execution_count": 25,
   "metadata": {},
   "outputs": [
    {
     "name": "stdout",
     "output_type": "stream",
     "text": [
      "1/1/2000\n"
     ]
    }
   ],
   "source": [
    "date1 = Date()\n",
    "date1.set(1, 1, 2000)\n",
    "date1.disp()"
   ]
  },
  {
   "cell_type": "code",
   "execution_count": 26,
   "metadata": {},
   "outputs": [
    {
     "ename": "AttributeError",
     "evalue": "'Date' object has no attribute 'day'",
     "output_type": "error",
     "traceback": [
      "\u001b[1;31m---------------------------------------------------------------------------\u001b[0m",
      "\u001b[1;31mAttributeError\u001b[0m                            Traceback (most recent call last)",
      "Cell \u001b[1;32mIn[26], line 2\u001b[0m\n\u001b[0;32m      1\u001b[0m date2 \u001b[38;5;241m=\u001b[39m Date()\n\u001b[1;32m----> 2\u001b[0m \u001b[43mdate2\u001b[49m\u001b[38;5;241;43m.\u001b[39;49m\u001b[43mdisp\u001b[49m\u001b[43m(\u001b[49m\u001b[43m)\u001b[49m\n\u001b[0;32m      3\u001b[0m date2\u001b[38;5;241m.\u001b[39mset(\u001b[38;5;241m1\u001b[39m, \u001b[38;5;241m1\u001b[39m, \u001b[38;5;241m2000\u001b[39m)\n",
      "Cell \u001b[1;32mIn[23], line 8\u001b[0m, in \u001b[0;36mDate.disp\u001b[1;34m(self)\u001b[0m\n\u001b[0;32m      7\u001b[0m \u001b[38;5;28;01mdef\u001b[39;00m \u001b[38;5;21mdisp\u001b[39m(\u001b[38;5;28mself\u001b[39m):\n\u001b[1;32m----> 8\u001b[0m     \u001b[38;5;28mprint\u001b[39m(\u001b[38;5;124m\"\u001b[39m\u001b[38;5;132;01m{}\u001b[39;00m\u001b[38;5;124m/\u001b[39m\u001b[38;5;132;01m{}\u001b[39;00m\u001b[38;5;124m/\u001b[39m\u001b[38;5;132;01m{}\u001b[39;00m\u001b[38;5;124m\"\u001b[39m\u001b[38;5;241m.\u001b[39mformat(\u001b[38;5;28;43mself\u001b[39;49m\u001b[38;5;241;43m.\u001b[39;49m\u001b[43mday\u001b[49m, \u001b[38;5;28mself\u001b[39m\u001b[38;5;241m.\u001b[39mmonth, \u001b[38;5;28mself\u001b[39m\u001b[38;5;241m.\u001b[39myear))\n",
      "\u001b[1;31mAttributeError\u001b[0m: 'Date' object has no attribute 'day'"
     ]
    }
   ],
   "source": [
    "date2 = Date()\n",
    "date2.disp()\n",
    "date2.set(1, 1, 2000)"
   ]
  },
  {
   "cell_type": "markdown",
   "metadata": {},
   "source": [
    "### Dunder (Double Underscore) Terimi\n",
    "\n",
    "Python'da başında ve sonunda iki alt tire bulunan özel sınıf metotları vardır. Bu metotların ismi '__xxx__' biçimindedir. \n",
    "\n",
    "- __init__ --> dunder init metodu\n",
    "\n",
    "### __init__ ve __new__ metotları"
   ]
  },
  {
   "cell_type": "markdown",
   "metadata": {},
   "source": [
    "Bir nesne yaratıldığında arka planda __new__ isimli bir static metot çağırılıyor. __new__ metodu nesnenin yaratımından sorumludur. Bu yaratım aslında tepedeki Object sınıfının __new__ metodu tarafından yapılmaktadır. Bu __new__ metoduna pythonda \"constructor\" denilmektedir. ne zaman bir nesne yaratılsa yorumlayıcı __new__ metodunu çağırdıktan sonra __init__ metodunu da çağırmaktadır.\n",
    "\n",
    "sınıfların __init__ metotları nesnenin öznitelikleri yaratmak için ve bazı ilk işlemleri yapmak için kullanılmaktadır. __init__ metoduna da python terminolojisinde \"initializer\" denilmektedir. "
   ]
  },
  {
   "cell_type": "code",
   "execution_count": 27,
   "metadata": {},
   "outputs": [
    {
     "name": "stdout",
     "output_type": "stream",
     "text": [
      "10 20\n"
     ]
    }
   ],
   "source": [
    "class Sample:\n",
    "    def __init__(self):\n",
    "        self.a = 10\n",
    "        self.b = 20\n",
    "\n",
    "    def disp(self):\n",
    "        print(self.a, self.b)\n",
    "\n",
    "x = Sample()\n",
    "x.disp()"
   ]
  },
  {
   "cell_type": "code",
   "execution_count": 30,
   "metadata": {},
   "outputs": [
    {
     "name": "stdout",
     "output_type": "stream",
     "text": [
      "1/1/2000\n"
     ]
    }
   ],
   "source": [
    "class Date:\n",
    "    def __init__(self):\n",
    "        self.day = 1\n",
    "        self.month = 1\n",
    "        self.year = 2000\n",
    "\n",
    "    def disp(self):\n",
    "        print(\"{}/{}/{}\".format(self.day, self.month, self.year))\n",
    "\n",
    "date = Date()\n",
    "date.disp()"
   ]
  },
  {
   "cell_type": "code",
   "execution_count": 31,
   "metadata": {},
   "outputs": [
    {
     "name": "stdout",
     "output_type": "stream",
     "text": [
      "10 20\n"
     ]
    }
   ],
   "source": [
    "class Sample:\n",
    "    \n",
    "    def __init__(self, a, b):\n",
    "        self.a = a\n",
    "        self.b = b\n",
    "\n",
    "    def disp(self):\n",
    "        print(self.a, self.b)\n",
    "\n",
    "x = Sample(10, 20)\n",
    "x.disp()"
   ]
  },
  {
   "cell_type": "code",
   "execution_count": 32,
   "metadata": {},
   "outputs": [
    {
     "ename": "TypeError",
     "evalue": "__init__() missing 2 required positional arguments: 'a' and 'b'",
     "output_type": "error",
     "traceback": [
      "\u001b[1;31m---------------------------------------------------------------------------\u001b[0m",
      "\u001b[1;31mTypeError\u001b[0m                                 Traceback (most recent call last)",
      "Cell \u001b[1;32mIn[32], line 1\u001b[0m\n\u001b[1;32m----> 1\u001b[0m y \u001b[38;5;241m=\u001b[39m \u001b[43mSample\u001b[49m\u001b[43m(\u001b[49m\u001b[43m)\u001b[49m\n\u001b[0;32m      2\u001b[0m y\u001b[38;5;241m.\u001b[39mdisp()\n",
      "\u001b[1;31mTypeError\u001b[0m: __init__() missing 2 required positional arguments: 'a' and 'b'"
     ]
    }
   ],
   "source": [
    "y = Sample()\n",
    "y.disp()"
   ]
  },
  {
   "cell_type": "markdown",
   "metadata": {},
   "source": [
    "__init__ metodundaki self parametresi yeni yaratılan nesneyi temsil etmektedir. Bu parametre aslında __new__ metodu tarafından __init__ metoduna geçirilmektedir. yani nesneyi gerçekte yaratan __new__ metodu yaratılan nesneneni referansını bu __init__ metoduna geçirmektedir"
   ]
  },
  {
   "cell_type": "code",
   "execution_count": 33,
   "metadata": {},
   "outputs": [
    {
     "name": "stdout",
     "output_type": "stream",
     "text": [
      "İsim = Beyza Aldanmaz, No = 26\n"
     ]
    }
   ],
   "source": [
    "class Student:\n",
    "    def __init__(self, name, no):\n",
    "        self.name = name\n",
    "        self.no = no\n",
    "    \n",
    "    def disp(self):\n",
    "        print('İsim = {}, No = {}'.format(self.name, self.no))\n",
    "\n",
    "s = Student('Beyza Aldanmaz', 26)\n",
    "s.disp()"
   ]
  },
  {
   "cell_type": "markdown",
   "metadata": {},
   "source": [
    "Python'da fonksiyonların ya da metotların overload edilmesi söz konusu değildir. Dolayısıyla sınıfın tek bir __init__ metodu vardır. Tabii __init__ metodu default argüman alabilir."
   ]
  },
  {
   "cell_type": "code",
   "execution_count": 35,
   "metadata": {},
   "outputs": [
    {
     "name": "stdout",
     "output_type": "stream",
     "text": [
      "0+0i\n",
      "10+0i\n",
      "10+20i\n"
     ]
    }
   ],
   "source": [
    "class Complex:\n",
    "    def __init__(self, real = 0, imag = 0):\n",
    "        self.real = real\n",
    "        self.imag = imag\n",
    "    \n",
    "    def disp(self):\n",
    "        print('{}+{}i'.format(self.real, self.imag))\n",
    "\n",
    "z1 = Complex()\n",
    "z1.disp()\n",
    "\n",
    "z2 = Complex(10)\n",
    "z2.disp()\n",
    "\n",
    "z3 = Complex(10, 20)\n",
    "z3.disp()"
   ]
  },
  {
   "cell_type": "markdown",
   "metadata": {},
   "source": [
    "### ÖRNEK\n",
    "\n",
    "date, timedelta\n",
    "\n"
   ]
  },
  {
   "cell_type": "code",
   "execution_count": 36,
   "metadata": {},
   "outputs": [
    {
     "name": "stdout",
     "output_type": "stream",
     "text": [
      "5/12/2009\n"
     ]
    }
   ],
   "source": [
    "import datetime\n",
    "\n",
    "d = datetime.date(2009, 12, 5)\n",
    "print('{}/{}/{}'.format(d.day, d.month, d.year))"
   ]
  },
  {
   "cell_type": "code",
   "execution_count": 38,
   "metadata": {},
   "outputs": [
    {
     "name": "stdout",
     "output_type": "stream",
     "text": [
      "1/8/2003\n",
      "Cuma\n"
     ]
    }
   ],
   "source": [
    "import datetime\n",
    "\n",
    "d = datetime.date(2003, 8, 1)\n",
    "print('{}/{}/{}'.format(d.day, d.month, d.year))\n",
    "days = ['Pazartesi', 'Salı', 'Çarşamba', 'Perşembe', 'Cuma', 'Cumartesi', 'Pazar']\n",
    "\n",
    "wd = d.weekday()\n",
    "print(days[wd])"
   ]
  },
  {
   "cell_type": "code",
   "execution_count": 40,
   "metadata": {},
   "outputs": [
    {
     "name": "stdout",
     "output_type": "stream",
     "text": [
      "27 7 2027\n",
      "Salı\n"
     ]
    }
   ],
   "source": [
    "# Klavyeden dd/mm/yyyy formatında bir tarih bilgisi alıp o tarihin hangi gün olduğunu yazdırın.\n",
    "\n",
    "import datetime as dt\n",
    "\n",
    "s = input('Tarih girelim:')\n",
    "day, month, year = [int(k) for k in s.split('/')]\n",
    "print(day, month, year)\n",
    "\n",
    "d = dt.date(year, month, day)\n",
    "days = ['Pazartesi', 'Salı', 'Çarşamba', 'Perşembe', 'Cuma', 'Cumartesi', 'Pazar']\n",
    "print(days[d.weekday()])"
   ]
  },
  {
   "cell_type": "code",
   "execution_count": 41,
   "metadata": {},
   "outputs": [
    {
     "name": "stdout",
     "output_type": "stream",
     "text": [
      "Tue Aug 17 00:00:00 1999\n"
     ]
    }
   ],
   "source": [
    "d = dt.date(1999, 8, 17)\n",
    "s = d.ctime()\n",
    "print(s)"
   ]
  },
  {
   "cell_type": "code",
   "execution_count": 42,
   "metadata": {},
   "outputs": [
    {
     "name": "stdout",
     "output_type": "stream",
     "text": [
      "d1 < d2\n"
     ]
    }
   ],
   "source": [
    "import datetime\n",
    "\n",
    "d1 = datetime.date(1999, 8, 17)\n",
    "d2 = datetime.date(1999, 8, 18)\n",
    "\n",
    "if d1 > d2:\n",
    "    print('d1 > d2')\n",
    "elif d1 < d2:\n",
    "    print('d1 < d2')\n",
    "else:\n",
    "    print('d1 == d2')\n",
    "    "
   ]
  },
  {
   "cell_type": "code",
   "execution_count": 43,
   "metadata": {},
   "outputs": [
    {
     "name": "stdout",
     "output_type": "stream",
     "text": [
      "2024-09-14\n"
     ]
    }
   ],
   "source": [
    "import datetime\n",
    "\n",
    "d = datetime.date.today()\n",
    "print(d)"
   ]
  },
  {
   "cell_type": "code",
   "execution_count": 44,
   "metadata": {},
   "outputs": [
    {
     "name": "stdout",
     "output_type": "stream",
     "text": [
      "2009-12-21\n",
      "2024-09-14\n"
     ]
    }
   ],
   "source": [
    "from datetime import date\n",
    "\n",
    "d = date(2009, 12, 21)\n",
    "print(d)\n",
    "\n",
    "print(date.today())"
   ]
  },
  {
   "cell_type": "markdown",
   "metadata": {},
   "source": [
    "datetime.timedelta(days=0, seconds=0, ...)"
   ]
  },
  {
   "cell_type": "code",
   "execution_count": 45,
   "metadata": {},
   "outputs": [
    {
     "name": "stdout",
     "output_type": "stream",
     "text": [
      "3:27:17\n"
     ]
    }
   ],
   "source": [
    "td = datetime.timedelta(hours=3, minutes=27, seconds=17)\n",
    "print(td)"
   ]
  },
  {
   "cell_type": "code",
   "execution_count": 46,
   "metadata": {},
   "outputs": [
    {
     "name": "stdout",
     "output_type": "stream",
     "text": [
      "12437\n"
     ]
    }
   ],
   "source": [
    "td = datetime.timedelta(hours=3, minutes=27, seconds=17)\n",
    "print(td.seconds)"
   ]
  },
  {
   "cell_type": "code",
   "execution_count": 48,
   "metadata": {},
   "outputs": [
    {
     "name": "stdout",
     "output_type": "stream",
     "text": [
      "83 days, 0:00:00\n"
     ]
    }
   ],
   "source": [
    "import datetime\n",
    "\n",
    "d1 = datetime.date(2021, 7, 10)\n",
    "d2 = datetime.date(2021, 4, 18)\n",
    "\n",
    "td = d1 - d2\n",
    "print(td)"
   ]
  },
  {
   "cell_type": "code",
   "execution_count": 49,
   "metadata": {},
   "outputs": [
    {
     "name": "stdout",
     "output_type": "stream",
     "text": [
      "2021-08-29\n"
     ]
    }
   ],
   "source": [
    "import datetime\n",
    "d = datetime.date(2021, 7, 10)\n",
    "td = datetime.timedelta(days=50)\n",
    "\n",
    "result = d + td\n",
    "print(result)"
   ]
  },
  {
   "cell_type": "code",
   "execution_count": 50,
   "metadata": {},
   "outputs": [
    {
     "ename": "TypeError",
     "evalue": "unsupported operand type(s) for +: 'datetime.date' and 'datetime.date'",
     "output_type": "error",
     "traceback": [
      "\u001b[1;31m---------------------------------------------------------------------------\u001b[0m",
      "\u001b[1;31mTypeError\u001b[0m                                 Traceback (most recent call last)",
      "Cell \u001b[1;32mIn[50], line 6\u001b[0m\n\u001b[0;32m      3\u001b[0m d1 \u001b[38;5;241m=\u001b[39m datetime\u001b[38;5;241m.\u001b[39mdate(\u001b[38;5;241m2021\u001b[39m, \u001b[38;5;241m7\u001b[39m, \u001b[38;5;241m10\u001b[39m)\n\u001b[0;32m      4\u001b[0m d2 \u001b[38;5;241m=\u001b[39m datetime\u001b[38;5;241m.\u001b[39mdate(\u001b[38;5;241m2021\u001b[39m, \u001b[38;5;241m4\u001b[39m, \u001b[38;5;241m18\u001b[39m)\n\u001b[1;32m----> 6\u001b[0m td \u001b[38;5;241m=\u001b[39m \u001b[43md1\u001b[49m\u001b[43m \u001b[49m\u001b[38;5;241;43m+\u001b[39;49m\u001b[43m \u001b[49m\u001b[43md2\u001b[49m\n\u001b[0;32m      7\u001b[0m \u001b[38;5;28mprint\u001b[39m(td)\n",
      "\u001b[1;31mTypeError\u001b[0m: unsupported operand type(s) for +: 'datetime.date' and 'datetime.date'"
     ]
    }
   ],
   "source": [
    "import datetime\n",
    "\n",
    "d1 = datetime.date(2021, 7, 10)\n",
    "d2 = datetime.date(2021, 4, 18)\n",
    "\n",
    "td = d1 + d2\n",
    "print(td)"
   ]
  },
  {
   "cell_type": "code",
   "execution_count": 51,
   "metadata": {},
   "outputs": [],
   "source": [
    "from datetime import datetime\n",
    "\n",
    "dt = datetime(2024, 9, 14, 2, 38, 55)"
   ]
  },
  {
   "cell_type": "code",
   "execution_count": 52,
   "metadata": {},
   "outputs": [
    {
     "name": "stdout",
     "output_type": "stream",
     "text": [
      "2024-09-14 02:38:55\n"
     ]
    }
   ],
   "source": [
    "print(dt)"
   ]
  },
  {
   "cell_type": "code",
   "execution_count": 53,
   "metadata": {},
   "outputs": [
    {
     "name": "stdout",
     "output_type": "stream",
     "text": [
      "2024-09-14 14:38:50.726091\n"
     ]
    }
   ],
   "source": [
    "from datetime import datetime\n",
    "\n",
    "dt = datetime.now()\n",
    "print(dt)"
   ]
  },
  {
   "cell_type": "markdown",
   "metadata": {},
   "source": [
    "### Sınıflar Değiştirilebilir (Mutable) Türlerdir??\n",
    "\n"
   ]
  },
  {
   "cell_type": "code",
   "execution_count": 54,
   "metadata": {},
   "outputs": [
    {
     "name": "stdout",
     "output_type": "stream",
     "text": [
      "10 20\n",
      "100 200\n"
     ]
    }
   ],
   "source": [
    "class Sample:\n",
    "    def __init__(self):\n",
    "        self.a = 10\n",
    "        self.b = 20\n",
    "\n",
    "s = Sample()\n",
    "print(s.a, s.b)\n",
    "\n",
    "s.a = 100\n",
    "s.b = 200\n",
    "print(s.a, s.b)"
   ]
  },
  {
   "cell_type": "code",
   "execution_count": 55,
   "metadata": {},
   "outputs": [
    {
     "name": "stdout",
     "output_type": "stream",
     "text": [
      "10\n",
      "10\n"
     ]
    }
   ],
   "source": [
    "def foo(a):\n",
    "    print(a)\n",
    "    a = 100\n",
    "\n",
    "x = 10\n",
    "foo(x)\n",
    "print(x)"
   ]
  },
  {
   "cell_type": "code",
   "execution_count": 56,
   "metadata": {},
   "outputs": [
    {
     "name": "stdout",
     "output_type": "stream",
     "text": [
      "10 20\n",
      "10 20\n",
      "100 200\n"
     ]
    }
   ],
   "source": [
    "class Sample:\n",
    "    def __init__(self, a, b):\n",
    "        self.a = a\n",
    "        self.b = b\n",
    "\n",
    "def foo(k):\n",
    "    print(k.a, k.b)\n",
    "    k.a = 100\n",
    "    k.b = 200\n",
    "\n",
    "s = Sample(10, 20)\n",
    "print(s.a, s.b)\n",
    "foo(s)\n",
    "print(s.a, s.b)    "
   ]
  },
  {
   "cell_type": "markdown",
   "metadata": {},
   "source": [
    "not: bu örnekte foo fonksiyonu içerisinde s'nin a ve b değişkenleri üzerinde yapılan değişikliğin fonksiyondan çıkıldığında da kaldığına dikkat edelim."
   ]
  },
  {
   "cell_type": "markdown",
   "metadata": {},
   "source": [
    "### Sınıfın Öznitelikleri ve Nesnenin Örnek Öznitelikleri\n",
    "\n",
    "Sınıf içerisinde oluşturulan değişkenlere --> sınıfın öznitelikleri (class attributes) '.'"
   ]
  },
  {
   "cell_type": "code",
   "execution_count": 58,
   "metadata": {},
   "outputs": [
    {
     "name": "stdout",
     "output_type": "stream",
     "text": [
      "10\n",
      "İsim = Oğuzhan Çağlar, No = 123\n",
      "x = 10\n",
      "x = 10\n"
     ]
    }
   ],
   "source": [
    "class Student:\n",
    "    x = 10   # sınıf özniteliği, sınıfın bir elemanı, nesnenin değil\n",
    "    print(x) # sınıf özniteliği olan x kullanılıyor.\n",
    "\n",
    "    def __init__(self,name,no):\n",
    "        self.name = name\n",
    "        self.no = no\n",
    "    \n",
    "    def disp(self):\n",
    "        print(\"İsim = {}, No = {}\".format(self.name, self.no))\n",
    "        print(\"x = {}\".format(Student.x)) # x değil, Student.x\n",
    "\n",
    "s = Student('Oğuzhan Çağlar', 123)\n",
    "s.disp()\n",
    "print('x = {}'.format(Student.x)) # x değil, Student.x\n",
    "\n",
    "\n",
    "# x sınıfın bir özniteliğidir. sınıf türünden bir nesnenin özniteliği değildir."
   ]
  },
  {
   "cell_type": "markdown",
   "metadata": {},
   "source": [
    "Dolayısıyla x değişkeninden toplamda 1 tane vardır. Oysa self ile oluşturduğumuz değişkenler nesnenin içerisinde onun bir parçası olarak ayrıca bulunmaktadır. __init__ içerisinde oluşturduğumuz name ve no değişkenleri sınfa ait değildir. her yaratılan Sample nesnesinde ayrı bir name ve no elemanı olacaktır. \n",
    "\n"
   ]
  },
  {
   "cell_type": "code",
   "execution_count": 59,
   "metadata": {},
   "outputs": [],
   "source": [
    "beyza = Student('Beyza Aldanmaz', 26)\n",
    "oguz = Student('Oğuzhan Çağlar', 34)"
   ]
  },
  {
   "cell_type": "code",
   "execution_count": 60,
   "metadata": {},
   "outputs": [
    {
     "data": {
      "text/plain": [
       "10"
      ]
     },
     "execution_count": 60,
     "metadata": {},
     "output_type": "execute_result"
    }
   ],
   "source": [
    "oguz.x"
   ]
  },
  {
   "cell_type": "code",
   "execution_count": 61,
   "metadata": {},
   "outputs": [
    {
     "data": {
      "text/plain": [
       "10"
      ]
     },
     "execution_count": 61,
     "metadata": {},
     "output_type": "execute_result"
    }
   ],
   "source": [
    "beyza.x"
   ]
  },
  {
   "cell_type": "code",
   "execution_count": 62,
   "metadata": {},
   "outputs": [
    {
     "data": {
      "text/plain": [
       "10"
      ]
     },
     "execution_count": 62,
     "metadata": {},
     "output_type": "execute_result"
    }
   ],
   "source": [
    "Student.x"
   ]
  },
  {
   "cell_type": "markdown",
   "metadata": {},
   "source": [
    "O zaman bir sınıf aslında aynı elemanlardan oluşan nesneleri temsil eden bir kavramdır. Sınıfın metotları bu elemanlar üzerinde birtakım işlem yapmaktadr."
   ]
  },
  {
   "cell_type": "code",
   "execution_count": 63,
   "metadata": {},
   "outputs": [
    {
     "name": "stdout",
     "output_type": "stream",
     "text": [
      "10+20i\n",
      "3+4i\n",
      "13+24i\n"
     ]
    }
   ],
   "source": [
    "class Complex:\n",
    "    def __init__(self, real = 0, imag = 0):\n",
    "        self.real = real\n",
    "        self.imag = imag\n",
    "    \n",
    "    def disp(self):\n",
    "        print('{}+{}i'.format(self.real, self.imag))\n",
    "\n",
    "    def add(self, z):\n",
    "        result = Complex()\n",
    "        result.real = self.real + z.real\n",
    "        result.imag = self.imag + z.imag\n",
    "\n",
    "        return result\n",
    "\n",
    "z1 = Complex(10, 20)\n",
    "z2 = Complex(3, 4)\n",
    "z3 = z1.add(z2)\n",
    "\n",
    "z1.disp()\n",
    "z2.disp()\n",
    "z3.disp()"
   ]
  },
  {
   "cell_type": "markdown",
   "metadata": {},
   "source": [
    "sınıf öznitleklerine erişirken farklı bir yol da kullanılabilir:"
   ]
  },
  {
   "cell_type": "code",
   "execution_count": 64,
   "metadata": {},
   "outputs": [
    {
     "name": "stdout",
     "output_type": "stream",
     "text": [
      "10\n"
     ]
    }
   ],
   "source": [
    "class Sample:\n",
    "    x = 10\n",
    "\n",
    "\n",
    "print(Sample.x)"
   ]
  },
  {
   "cell_type": "code",
   "execution_count": 65,
   "metadata": {},
   "outputs": [
    {
     "name": "stdout",
     "output_type": "stream",
     "text": [
      "20\n"
     ]
    }
   ],
   "source": [
    "Sample.x = 20\n",
    "print(Sample.x)"
   ]
  },
  {
   "cell_type": "code",
   "execution_count": 66,
   "metadata": {},
   "outputs": [
    {
     "name": "stdout",
     "output_type": "stream",
     "text": [
      "10\n",
      "10\n"
     ]
    }
   ],
   "source": [
    "class Sample:\n",
    "    x = 10\n",
    "\n",
    "s = Sample()\n",
    "print(s.x)\n",
    "print(Sample.x)"
   ]
  },
  {
   "cell_type": "markdown",
   "metadata": {},
   "source": [
    "Yani sınıf özniteliklerine sınıf ismi yerine o sınıf türünden bir değişkenle de erişilebilmektedir. Aynı isimli bir sınıf özniteliği ile bir örnek özniteliğinin bulunduğu durumda bu sınıf türünden bir değişkenle bu isim kullanıldığında örnek özniteliği anlaşılır. Çünkü sınıf değişkenine zaten sınıf ismiyle de erişebilmektedir."
   ]
  },
  {
   "cell_type": "code",
   "execution_count": 67,
   "metadata": {},
   "outputs": [
    {
     "name": "stdout",
     "output_type": "stream",
     "text": [
      "20\n",
      "10\n"
     ]
    }
   ],
   "source": [
    "class Sample:\n",
    "    x = 10\n",
    "    def __init__(self, x):\n",
    "        self.x = x\n",
    "\n",
    "s = Sample(20)\n",
    "print(s.x)\n",
    "print(Sample.x)"
   ]
  },
  {
   "cell_type": "markdown",
   "metadata": {},
   "source": [
    "s bir sınıf türünden değişken olmak üzere s.x ifadesine atama yaptığımızda sınıfın aynı isimli bir sınıf özniteliği olsa bile biz her zaman örnek özniteliğine atama yapmış oluruz."
   ]
  },
  {
   "cell_type": "code",
   "execution_count": 69,
   "metadata": {},
   "outputs": [
    {
     "name": "stdout",
     "output_type": "stream",
     "text": [
      "10\n",
      "20\n",
      "10\n"
     ]
    }
   ],
   "source": [
    "class Sample:\n",
    "    x = 10\n",
    "\n",
    "s = Sample()\n",
    "print(s.x) # buradaki x sınıf özniteliği olan x\n",
    "s.x = 20 # artık biz örnek özniteliği olan x'e erişiyoruz\n",
    "print(s.x) # buradaki x artık örnek özniteliği olan x\n",
    "print(Sample.x)"
   ]
  },
  {
   "cell_type": "markdown",
   "metadata": {},
   "source": [
    "## Sınıf İsimleri"
   ]
  },
  {
   "cell_type": "markdown",
   "metadata": {},
   "source": []
  }
 ],
 "metadata": {
  "kernelspec": {
   "display_name": "base",
   "language": "python",
   "name": "python3"
  },
  "language_info": {
   "codemirror_mode": {
    "name": "ipython",
    "version": 3
   },
   "file_extension": ".py",
   "mimetype": "text/x-python",
   "name": "python",
   "nbconvert_exporter": "python",
   "pygments_lexer": "ipython3",
   "version": "3.8.16"
  }
 },
 "nbformat": 4,
 "nbformat_minor": 2
}
