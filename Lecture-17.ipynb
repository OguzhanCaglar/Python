{
 "cells": [
  {
   "cell_type": "code",
   "execution_count": 1,
   "metadata": {},
   "outputs": [
    {
     "name": "stdout",
     "output_type": "stream",
     "text": [
      "Lecture-17\n"
     ]
    }
   ],
   "source": [
    "print('Lecture-17')"
   ]
  },
  {
   "cell_type": "markdown",
   "metadata": {},
   "source": [
    "## Zip Fonksiyonu\n",
    "\n"
   ]
  },
  {
   "cell_type": "code",
   "execution_count": 2,
   "metadata": {},
   "outputs": [
    {
     "name": "stdout",
     "output_type": "stream",
     "text": [
      "(1, 'ali')\n",
      "(2, 'veli')\n",
      "(3, 'selami')\n",
      "(4, 'beyza')\n",
      "(5, 'oğuzhan')\n"
     ]
    }
   ],
   "source": [
    "a = [1, 2, 3, 4, 5]\n",
    "b = ['ali', 'veli', 'selami', 'beyza', 'oğuzhan']\n",
    "\n",
    "result = zip(a, b)\n",
    "for i in result:\n",
    "    print(i)"
   ]
  },
  {
   "cell_type": "code",
   "execution_count": 3,
   "metadata": {},
   "outputs": [
    {
     "name": "stdout",
     "output_type": "stream",
     "text": [
      "1 ali\n",
      "2 veli\n",
      "3 selami\n",
      "4 beyza\n",
      "5 oğuzhan\n"
     ]
    }
   ],
   "source": [
    "a = [1, 2, 3, 4, 5]\n",
    "b = ['ali', 'veli', 'selami', 'beyza', 'oğuzhan']\n",
    "\n",
    "for x, y in zip(a, b):\n",
    "    print(x, y)"
   ]
  },
  {
   "cell_type": "code",
   "execution_count": 4,
   "metadata": {},
   "outputs": [
    {
     "name": "stdout",
     "output_type": "stream",
     "text": [
      "a e\n",
      "n d\n",
      "k i\n",
      "a r\n",
      "r n\n",
      "a e\n"
     ]
    }
   ],
   "source": [
    "for x, y in zip('ankara', 'edirne'):\n",
    "    print(x, y)"
   ]
  },
  {
   "cell_type": "code",
   "execution_count": 5,
   "metadata": {},
   "outputs": [
    {
     "name": "stdout",
     "output_type": "stream",
     "text": [
      "0 10 20\n",
      "1 11 21\n",
      "2 12 22\n",
      "3 13 23\n",
      "4 14 24\n"
     ]
    }
   ],
   "source": [
    "for x, y, z in zip(range(0, 5), range(10, 15), range(20, 25)):\n",
    "    print(x, y, z)"
   ]
  },
  {
   "cell_type": "code",
   "execution_count": 6,
   "metadata": {},
   "outputs": [
    {
     "name": "stdout",
     "output_type": "stream",
     "text": [
      "(1, 10)\n",
      "(2, 20)\n",
      "(3, 30)\n"
     ]
    }
   ],
   "source": [
    "a = [1, 2, 3]\n",
    "b = [10, 20, 30, 40, 50]\n",
    "\n",
    "for t in zip(a, b):\n",
    "    print(t)"
   ]
  },
  {
   "cell_type": "code",
   "execution_count": 7,
   "metadata": {},
   "outputs": [
    {
     "name": "stdout",
     "output_type": "stream",
     "text": [
      "(1,)\n",
      "(2,)\n",
      "(3,)\n"
     ]
    }
   ],
   "source": [
    "a = [1, 2, 3]\n",
    "\n",
    "for t in zip(a):\n",
    "    print(t)"
   ]
  },
  {
   "cell_type": "code",
   "execution_count": 9,
   "metadata": {},
   "outputs": [
    {
     "name": "stdout",
     "output_type": "stream",
     "text": [
      "(1, 'ali', 10)\n",
      "(2, 'veli', 20)\n",
      "(3, 'selami', 30)\n",
      "(4, 'beyza', 40)\n",
      "(5, 'ayşe', 50)\n"
     ]
    }
   ],
   "source": [
    "a = [1, 2, 3, 4, 5]\n",
    "b = ['ali', 'veli', 'selami', 'beyza', 'ayşe']\n",
    "c = [10, 20, 30, 40, 50]\n",
    "\n",
    "for t in zip(a,b,c):\n",
    "    print(t)"
   ]
  },
  {
   "cell_type": "code",
   "execution_count": 10,
   "metadata": {},
   "outputs": [
    {
     "name": "stdout",
     "output_type": "stream",
     "text": [
      "(10, 20, 30)\n",
      "('ali', 'veli', 'selami')\n"
     ]
    }
   ],
   "source": [
    "result = zip((10, 'ali'), (20, 'veli'), (30, 'selami'))\n",
    "for t in result:\n",
    "    print(t)"
   ]
  },
  {
   "cell_type": "code",
   "execution_count": 11,
   "metadata": {},
   "outputs": [
    {
     "name": "stdout",
     "output_type": "stream",
     "text": [
      "(10, 20, 30)\n",
      "('ali', 'veli', 'selami')\n"
     ]
    }
   ],
   "source": [
    "# * --> \n",
    "\n",
    "a = [(10, 'ali'), (20, 'veli'), (30, 'selami')]\n",
    "\n",
    "result = zip(*a)\n",
    "\n",
    "for t in result:\n",
    "    print(t)"
   ]
  },
  {
   "cell_type": "code",
   "execution_count": 13,
   "metadata": {},
   "outputs": [
    {
     "name": "stdout",
     "output_type": "stream",
     "text": [
      "(10, 20, 30) ('ali', 'veli', 'selami')\n"
     ]
    }
   ],
   "source": [
    "a = [(10, 'ali'), (20, 'veli'), (30, 'selami')]\n",
    "\n",
    "x, y = zip(*a)\n",
    "print(x, y)"
   ]
  },
  {
   "cell_type": "code",
   "execution_count": 14,
   "metadata": {},
   "outputs": [
    {
     "data": {
      "image/png": "[encoded data removed]",
      "text/plain": [
       "<Figure size 640x480 with 1 Axes>"
      ]
     },
     "metadata": {},
     "output_type": "display_data"
    }
   ],
   "source": [
    "points = [(-2, 4), (-1, 1), (0, 0), (1, 1), (2, 4)]\n",
    "x, y = zip(*points)\n",
    "\n",
    "import matplotlib.pyplot as plt\n",
    "\n",
    "plt.plot(x, y)\n",
    "plt.show()"
   ]
  },
  {
   "cell_type": "code",
   "execution_count": 15,
   "metadata": {},
   "outputs": [],
   "source": [
    "l = list(zip(*a))\n",
    "l = [list(t) for t in zip(*a)]"
   ]
  },
  {
   "cell_type": "code",
   "execution_count": 16,
   "metadata": {},
   "outputs": [
    {
     "data": {
      "text/plain": [
       "[[10, 20, 30], ['ali', 'veli', 'selami']]"
      ]
     },
     "execution_count": 16,
     "metadata": {},
     "output_type": "execute_result"
    }
   ],
   "source": [
    "l"
   ]
  },
  {
   "cell_type": "code",
   "execution_count": 17,
   "metadata": {},
   "outputs": [],
   "source": [
    "numbers, names = [list(t) for t in zip(*a)]"
   ]
  },
  {
   "cell_type": "code",
   "execution_count": 18,
   "metadata": {},
   "outputs": [
    {
     "data": {
      "text/plain": [
       "[10, 20, 30]"
      ]
     },
     "execution_count": 18,
     "metadata": {},
     "output_type": "execute_result"
    }
   ],
   "source": [
    "numbers\n"
   ]
  },
  {
   "cell_type": "code",
   "execution_count": 19,
   "metadata": {},
   "outputs": [
    {
     "data": {
      "text/plain": [
       "['ali', 'veli', 'selami']"
      ]
     },
     "execution_count": 19,
     "metadata": {},
     "output_type": "execute_result"
    }
   ],
   "source": [
    "names"
   ]
  },
  {
   "cell_type": "markdown",
   "metadata": {},
   "source": [
    "## bytes ve bytearray Türleri\n",
    "\n",
    "bytes --> değiştirilemez (immutable) --> bir byte dizisini belirtmek için düşünülmüş. 'b'\n",
    "bytearray --> değiştirilebilir (mutable)"
   ]
  },
  {
   "cell_type": "code",
   "execution_count": 20,
   "metadata": {},
   "outputs": [
    {
     "data": {
      "text/plain": [
       "bytes"
      ]
     },
     "execution_count": 20,
     "metadata": {},
     "output_type": "execute_result"
    }
   ],
   "source": [
    "byt = b'ali'  # 97, 108, 105\n",
    "type(byt)"
   ]
  },
  {
   "cell_type": "markdown",
   "metadata": {},
   "source": [
    "bytes ve bytearray türleri bir yazı gibi düşünülmemelidir. bu sınıflar binary verileri tutmak için olşturulmuş. O halde buradak byt nesnesi aslında (0, 255) arasındaki sayılardan 3 tane tutmaktdır. İşte ASCII tablosunun ilk 128 karakterine karşı gelen sayılar aslında bu byte dizisinin elemanlarını oluşturmaktadır.  bytes türünden bir nesne oluştururken \"b\" önekinden sonra tırnakar içerisinde karakterler ASCII tablsunun ilk 128 karaktrerinden seçişmek zorundadır. Eeğer byte değerleri [128-255] arasındayse onlar hex olarak \\xhh biçiminde ya da octal oalrak \\Oooo biçiminde kodlanmalıdır."
   ]
  },
  {
   "cell_type": "code",
   "execution_count": 22,
   "metadata": {},
   "outputs": [
    {
     "data": {
      "text/plain": [
       "b'ali\\x12\\xff'"
      ]
     },
     "execution_count": 22,
     "metadata": {},
     "output_type": "execute_result"
    }
   ],
   "source": [
    "byt = b'ali\\x12\\xff'\n",
    "byt"
   ]
  },
  {
   "cell_type": "code",
   "execution_count": 23,
   "metadata": {},
   "outputs": [
    {
     "data": {
      "text/plain": [
       "b'li'"
      ]
     },
     "execution_count": 23,
     "metadata": {},
     "output_type": "execute_result"
    }
   ],
   "source": [
    "byt[1:3]"
   ]
  },
  {
   "cell_type": "code",
   "execution_count": 24,
   "metadata": {},
   "outputs": [
    {
     "data": {
      "text/plain": [
       "18"
      ]
     },
     "execution_count": 24,
     "metadata": {},
     "output_type": "execute_result"
    }
   ],
   "source": [
    "byt[3]"
   ]
  },
  {
   "cell_type": "code",
   "execution_count": 25,
   "metadata": {},
   "outputs": [
    {
     "data": {
      "text/plain": [
       "int"
      ]
     },
     "execution_count": 25,
     "metadata": {},
     "output_type": "execute_result"
    }
   ],
   "source": [
    "type(byt[3])"
   ]
  },
  {
   "cell_type": "code",
   "execution_count": 26,
   "metadata": {},
   "outputs": [
    {
     "name": "stdout",
     "output_type": "stream",
     "text": [
      "97 <class 'int'>\n",
      "110 <class 'int'>\n",
      "107 <class 'int'>\n",
      "97 <class 'int'>\n",
      "114 <class 'int'>\n",
      "97 <class 'int'>\n"
     ]
    }
   ],
   "source": [
    "b = b'ankara'\n",
    "for i in b:\n",
    "    print(i, type(i))"
   ]
  },
  {
   "cell_type": "code",
   "execution_count": 27,
   "metadata": {},
   "outputs": [
    {
     "data": {
      "text/plain": [
       "[97, 110, 107, 97, 114, 97]"
      ]
     },
     "execution_count": 27,
     "metadata": {},
     "output_type": "execute_result"
    }
   ],
   "source": [
    "b = b'ankara'\n",
    "l = list(b)\n",
    "l"
   ]
  },
  {
   "cell_type": "code",
   "execution_count": 28,
   "metadata": {},
   "outputs": [
    {
     "data": {
      "text/plain": [
       "b'\\n\\x14\\x1e(2'"
      ]
     },
     "execution_count": 28,
     "metadata": {},
     "output_type": "execute_result"
    }
   ],
   "source": [
    "a = [10, 20, 30, 40, 50]\n",
    "b = bytes(a)\n",
    "b"
   ]
  },
  {
   "cell_type": "code",
   "execution_count": 29,
   "metadata": {},
   "outputs": [
    {
     "ename": "TypeError",
     "evalue": "'bytes' object does not support item assignment",
     "output_type": "error",
     "traceback": [
      "\u001b[1;31m---------------------------------------------------------------------------\u001b[0m",
      "\u001b[1;31mTypeError\u001b[0m                                 Traceback (most recent call last)",
      "Cell \u001b[1;32mIn[29], line 1\u001b[0m\n\u001b[1;32m----> 1\u001b[0m b[\u001b[38;5;241m2\u001b[39m] \u001b[38;5;241m=\u001b[39m \u001b[38;5;241m3\u001b[39m\n",
      "\u001b[1;31mTypeError\u001b[0m: 'bytes' object does not support item assignment"
     ]
    }
   ],
   "source": [
    "b[2] = 3"
   ]
  },
  {
   "cell_type": "code",
   "execution_count": 30,
   "metadata": {},
   "outputs": [
    {
     "data": {
      "text/plain": [
       "bytearray(b'')"
      ]
     },
     "execution_count": 30,
     "metadata": {},
     "output_type": "execute_result"
    }
   ],
   "source": [
    "b = bytearray()\n",
    "b"
   ]
  },
  {
   "cell_type": "code",
   "execution_count": 31,
   "metadata": {},
   "outputs": [
    {
     "data": {
      "text/plain": [
       "bytearray(b'ali')"
      ]
     },
     "execution_count": 31,
     "metadata": {},
     "output_type": "execute_result"
    }
   ],
   "source": [
    "a = b'ali'\n",
    "b = bytearray(a)\n",
    "b"
   ]
  },
  {
   "cell_type": "code",
   "execution_count": 35,
   "metadata": {},
   "outputs": [
    {
     "data": {
      "text/plain": [
       "'ankara\\nizmir'"
      ]
     },
     "execution_count": 35,
     "metadata": {},
     "output_type": "execute_result"
    }
   ],
   "source": [
    "b = b'ankara\\x0Aizmir'\n",
    "s = str(b, encoding='ASCII')\n",
    "s"
   ]
  },
  {
   "cell_type": "code",
   "execution_count": 33,
   "metadata": {},
   "outputs": [
    {
     "data": {
      "text/plain": [
       "12"
      ]
     },
     "execution_count": 33,
     "metadata": {},
     "output_type": "execute_result"
    }
   ],
   "source": [
    "len(s)"
   ]
  },
  {
   "cell_type": "code",
   "execution_count": 36,
   "metadata": {},
   "outputs": [
    {
     "data": {
      "text/plain": [
       "b'ankara\\nizmir'"
      ]
     },
     "execution_count": 36,
     "metadata": {},
     "output_type": "execute_result"
    }
   ],
   "source": [
    "b"
   ]
  },
  {
   "cell_type": "code",
   "execution_count": 37,
   "metadata": {},
   "outputs": [
    {
     "data": {
      "text/plain": [
       "'ankara\\nizmir'"
      ]
     },
     "execution_count": 37,
     "metadata": {},
     "output_type": "execute_result"
    }
   ],
   "source": [
    "b.decode('UTF-8')"
   ]
  },
  {
   "cell_type": "code",
   "execution_count": 38,
   "metadata": {},
   "outputs": [
    {
     "data": {
      "text/plain": [
       "b'a\\xc4\\x9fr\\xc4\\xb1'"
      ]
     },
     "execution_count": 38,
     "metadata": {},
     "output_type": "execute_result"
    }
   ],
   "source": [
    "s = 'ağrı'\n",
    "b = bytes(s, encoding='UTF-8')\n",
    "b"
   ]
  },
  {
   "cell_type": "markdown",
   "metadata": {},
   "source": [
    "### SINIFLAR (Classes)\n",
    "\n",
    "Nesne Yönelimli Programlama Tekniği sınıflar en önemli yapı taşıdır. Sınıflar belli bir konuda belli bir işlemleri gerçekleştirmek için oluşturulan, içerisinde değişkenleri ve fonksiyonları barındıran veri yapılırıdr. Sınıfın veri elemanlarına Python'da öznitelik (attribute), fonksiyonlarına da metot denilmekte. Python'da fonksiyon kavramı hiçbir sınıfın içerisinde bulunmayan global ya da yerel fonksiyonlar için kullanılmaktadır.\n",
    "\n",
    "class _isim_:\n",
    "    deyim1\n",
    "    deyim2\n",
    "\n"
   ]
  },
  {
   "cell_type": "code",
   "execution_count": 39,
   "metadata": {},
   "outputs": [
    {
     "name": "stdout",
     "output_type": "stream",
     "text": [
      "Sample Class\n"
     ]
    }
   ],
   "source": [
    "class Sample:\n",
    "    print('Sample Class')\n",
    "\n",
    "    def foo(self):\n",
    "        print('foo')\n",
    "\n",
    "    def bar(self):\n",
    "        print('bar')"
   ]
  },
  {
   "cell_type": "code",
   "execution_count": 40,
   "metadata": {},
   "outputs": [
    {
     "name": "stdout",
     "output_type": "stream",
     "text": [
      "10\n"
     ]
    }
   ],
   "source": [
    "class Sample: #Pascal notasyonu (Pascal Casting) --> programcılar kendi sınıflarının isimleri büyük harf ile başlatırlar.\n",
    "    x = 10\n",
    "\n",
    "    def foo(self):\n",
    "        print('foo')\n",
    "\n",
    "    def bar(self):\n",
    "        print('bar')\n",
    "\n",
    "    print(x)"
   ]
  },
  {
   "cell_type": "markdown",
   "metadata": {},
   "source": [
    "### Sınıf türünden nesnelerin oluşturulması\n",
    "\n",
    "int, float, bool ve str türleri de birer sınıftır. sample sınıfı bildirildiğinde de artık sample isimli bir tür olşturulmuştur."
   ]
  },
  {
   "cell_type": "code",
   "execution_count": 41,
   "metadata": {},
   "outputs": [
    {
     "data": {
      "text/plain": [
       "type"
      ]
     },
     "execution_count": 41,
     "metadata": {},
     "output_type": "execute_result"
    }
   ],
   "source": [
    "class Sample:\n",
    "    pass\n",
    "\n",
    "type(Sample)"
   ]
  },
  {
   "cell_type": "code",
   "execution_count": 42,
   "metadata": {},
   "outputs": [
    {
     "data": {
      "text/plain": [
       "int"
      ]
     },
     "execution_count": 42,
     "metadata": {},
     "output_type": "execute_result"
    }
   ],
   "source": [
    "a = 100\n",
    "type(a)"
   ]
  },
  {
   "cell_type": "code",
   "execution_count": 43,
   "metadata": {},
   "outputs": [
    {
     "data": {
      "text/plain": [
       "type"
      ]
     },
     "execution_count": 43,
     "metadata": {},
     "output_type": "execute_result"
    }
   ],
   "source": [
    "type(int)"
   ]
  },
  {
   "cell_type": "markdown",
   "metadata": {},
   "source": [
    "bir sınıf türündne nesne yaratma işleminin genel biçimi:\n",
    "\n",
    "sınıf_ismi([argüman listesi])"
   ]
  },
  {
   "cell_type": "code",
   "execution_count": 44,
   "metadata": {},
   "outputs": [],
   "source": [
    "s = Sample()"
   ]
  },
  {
   "cell_type": "code",
   "execution_count": 45,
   "metadata": {},
   "outputs": [
    {
     "data": {
      "text/plain": [
       "__main__.Sample"
      ]
     },
     "execution_count": 45,
     "metadata": {},
     "output_type": "execute_result"
    }
   ],
   "source": [
    "# new operatörü python'da yoktur.\n",
    "# Sample s = new Sample();\n",
    "\n",
    "class Sample:\n",
    "    pass\n",
    "\n",
    "s = Sample()\n",
    "type(s)"
   ]
  },
  {
   "cell_type": "code",
   "execution_count": 46,
   "metadata": {},
   "outputs": [
    {
     "data": {
      "text/plain": [
       "type"
      ]
     },
     "execution_count": 46,
     "metadata": {},
     "output_type": "execute_result"
    }
   ],
   "source": [
    "type(Sample)"
   ]
  },
  {
   "cell_type": "code",
   "execution_count": 47,
   "metadata": {},
   "outputs": [],
   "source": [
    "a = 123"
   ]
  },
  {
   "cell_type": "code",
   "execution_count": 48,
   "metadata": {},
   "outputs": [],
   "source": [
    "a = int(123)"
   ]
  },
  {
   "cell_type": "code",
   "execution_count": 49,
   "metadata": {},
   "outputs": [],
   "source": [
    "a = int()"
   ]
  },
  {
   "cell_type": "code",
   "execution_count": 50,
   "metadata": {},
   "outputs": [
    {
     "data": {
      "text/plain": [
       "0"
      ]
     },
     "execution_count": 50,
     "metadata": {},
     "output_type": "execute_result"
    }
   ],
   "source": [
    "a"
   ]
  },
  {
   "cell_type": "markdown",
   "metadata": {},
   "source": [
    "Sınıfın ismi T olsun. Eğer T türünden bir değişken fonksiyon çağırma operatörü ile kullanılırsa bu o türden değişkenin yaratılacağı anlamına gelmektedir. \n",
    "\n",
    "t = T(...)\n",
    "\n",
    "T türünden bir nesne yarattık. t değişkeni bu nesneyi göstermektedir."
   ]
  },
  {
   "cell_type": "markdown",
   "metadata": {},
   "source": [
    "## Sınıfların Metotlarının Çağırılması ve self Parametresinin Anlamı\n",
    "\n",
    "sınıfın bir metodunun en azından bir parametreye sahip olmasaı gerekiyor. Metotların ilk parametreleri ilgili sınıf türünden bir nesneyi temsil eder. bu ilk parametre için genellikle self ismi verilmektedir. self olması zorunlu değildir. ancak böyle bir gelenek vardır. \n",
    "\n",
    "bir sınıfın metodu o sınıf türünden bir değişken ile ve '.' operatörü kullanılarak çağırılır.\n",
    "\n",
    "sınıf_türünden_değişken.fonksiyonun_ismi([argüman listesi])\n",
    "\n"
   ]
  },
  {
   "cell_type": "code",
   "execution_count": 58,
   "metadata": {},
   "outputs": [],
   "source": [
    "class Sample:\n",
    "    def foo(self):\n",
    "        print('foo')\n",
    "\n",
    "    def bar(self):\n",
    "        print('bar')"
   ]
  },
  {
   "cell_type": "code",
   "execution_count": 52,
   "metadata": {},
   "outputs": [],
   "source": [
    "a = Sample()"
   ]
  },
  {
   "cell_type": "code",
   "execution_count": 53,
   "metadata": {},
   "outputs": [
    {
     "name": "stdout",
     "output_type": "stream",
     "text": [
      "foo\n"
     ]
    }
   ],
   "source": [
    "a.foo()"
   ]
  },
  {
   "cell_type": "code",
   "execution_count": 54,
   "metadata": {},
   "outputs": [
    {
     "name": "stdout",
     "output_type": "stream",
     "text": [
      "bar\n"
     ]
    }
   ],
   "source": [
    "a.bar()"
   ]
  },
  {
   "cell_type": "markdown",
   "metadata": {},
   "source": [
    "foo() --> global foo çağırlıyor\n",
    "s.foo() --> sınıfın foo isimli metodu çağrılıyor.\n",
    "\n"
   ]
  },
  {
   "cell_type": "code",
   "execution_count": 55,
   "metadata": {},
   "outputs": [],
   "source": [
    "beyza = Sample()"
   ]
  },
  {
   "cell_type": "code",
   "execution_count": 60,
   "metadata": {},
   "outputs": [
    {
     "name": "stdout",
     "output_type": "stream",
     "text": [
      "foo\n"
     ]
    }
   ],
   "source": [
    "beyza.foo()"
   ]
  },
  {
   "cell_type": "code",
   "execution_count": 61,
   "metadata": {},
   "outputs": [
    {
     "name": "stdout",
     "output_type": "stream",
     "text": [
      "foo\n"
     ]
    }
   ],
   "source": [
    "a.foo()"
   ]
  },
  {
   "cell_type": "markdown",
   "metadata": {},
   "source": [
    "Foo metodunun çağırımında hiçbir argüman girmedijk. Halbuki bu foo metodunun bir parametresi var. Oysa biz bu parametre yokmuş gibi davrandık. İşte aslında biz bu self parametresi için gizlice argüman girmiş durumundayız. Şöyle ki: biz bir sınıf türünden değişken ile sınıfın metodunu çağırdığımızda (a.foo()) bu metodu çağırmakta kullandığımız değişken (a) aslında bir argüman gibi metoda gizlice aktarılmaktadır. Yani aslında metodun çağrılmasında kullanılan değişken (a) metodun ilk parametresi için girilen argüman olmaktadır.\n",
    "\n",
    "s.foo()\n",
    "\n",
    "eşdeğeri\n",
    "\n",
    "Sample.foo(s)"
   ]
  },
  {
   "cell_type": "code",
   "execution_count": 62,
   "metadata": {},
   "outputs": [
    {
     "name": "stdout",
     "output_type": "stream",
     "text": [
      "THIS IS A TEST\n"
     ]
    }
   ],
   "source": [
    "s = 'this is a test'\n",
    "k = s.upper()\n",
    "print(k)"
   ]
  },
  {
   "cell_type": "code",
   "execution_count": 63,
   "metadata": {},
   "outputs": [
    {
     "name": "stdout",
     "output_type": "stream",
     "text": [
      "THIS IS A TEST\n"
     ]
    }
   ],
   "source": [
    "s = 'this is a test'\n",
    "k = str.upper(s)\n",
    "print(k)"
   ]
  },
  {
   "cell_type": "code",
   "execution_count": 64,
   "metadata": {},
   "outputs": [],
   "source": [
    "class Sample:\n",
    "    def foo(self):\n",
    "        print('Sample.foo')\n",
    "\n",
    "class Mample:\n",
    "    def foo(self):\n",
    "        print('Mample.foo')"
   ]
  },
  {
   "cell_type": "code",
   "execution_count": 65,
   "metadata": {},
   "outputs": [
    {
     "name": "stdout",
     "output_type": "stream",
     "text": [
      "Sample.foo\n",
      "Mample.foo\n"
     ]
    }
   ],
   "source": [
    "s = Sample()\n",
    "m = Mample()\n",
    "\n",
    "s.foo()\n",
    "m.foo()"
   ]
  },
  {
   "cell_type": "code",
   "execution_count": 66,
   "metadata": {},
   "outputs": [
    {
     "name": "stdout",
     "output_type": "stream",
     "text": [
      "Sample.foo\n",
      "Mample.foo\n"
     ]
    }
   ],
   "source": [
    "Sample.foo(s)\n",
    "Mample.foo(m)"
   ]
  },
  {
   "cell_type": "code",
   "execution_count": 67,
   "metadata": {},
   "outputs": [
    {
     "name": "stdout",
     "output_type": "stream",
     "text": [
      "Mample.foo\n"
     ]
    }
   ],
   "source": [
    "Mample.foo(s) # s = Mample()"
   ]
  },
  {
   "cell_type": "code",
   "execution_count": 82,
   "metadata": {},
   "outputs": [],
   "source": [
    "class Asker:\n",
    "    \n",
    "    def __init__(self):\n",
    "        self.silah = \"MG3\"\n",
    "        self.uniforma_rengi = \"yeşil\"\n",
    "        self.unvan = \"subay\""
   ]
  },
  {
   "cell_type": "code",
   "execution_count": 75,
   "metadata": {},
   "outputs": [],
   "source": [
    "oguzhan = Asker()"
   ]
  },
  {
   "cell_type": "code",
   "execution_count": 76,
   "metadata": {},
   "outputs": [],
   "source": [
    "oguzhan.silah = \"pistol\""
   ]
  },
  {
   "cell_type": "code",
   "execution_count": 77,
   "metadata": {},
   "outputs": [
    {
     "data": {
      "text/plain": [
       "'pistol'"
      ]
     },
     "execution_count": 77,
     "metadata": {},
     "output_type": "execute_result"
    }
   ],
   "source": [
    "oguzhan.silah"
   ]
  },
  {
   "cell_type": "code",
   "execution_count": 78,
   "metadata": {},
   "outputs": [],
   "source": [
    "beyza = Asker()"
   ]
  },
  {
   "cell_type": "code",
   "execution_count": 79,
   "metadata": {},
   "outputs": [
    {
     "data": {
      "text/plain": [
       "'MG3'"
      ]
     },
     "execution_count": 79,
     "metadata": {},
     "output_type": "execute_result"
    }
   ],
   "source": [
    "beyza.silah"
   ]
  },
  {
   "cell_type": "code",
   "execution_count": null,
   "metadata": {},
   "outputs": [],
   "source": []
  }
 ],
 "metadata": {
  "kernelspec": {
   "display_name": "base",
   "language": "python",
   "name": "python3"
  },
  "language_info": {
   "codemirror_mode": {
    "name": "ipython",
    "version": 3
   },
   "file_extension": ".py",
   "mimetype": "text/x-python",
   "name": "python",
   "nbconvert_exporter": "python",
   "pygments_lexer": "ipython3",
   "version": "3.8.16"
  }
 },
 "nbformat": 4,
 "nbformat_minor": 2
}
